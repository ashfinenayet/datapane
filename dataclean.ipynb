{
 "cells": [
  {
   "cell_type": "code",
   "execution_count": 1,
   "metadata": {},
   "outputs": [
    {
     "name": "stdout",
     "output_type": "stream",
     "text": [
      "Index(['Unnamed: 0', 'Country', 'Region', 'Happiness Rank', 'Happiness Score',\n",
      "       'Standard Error', 'Economy (GDP per Capita)', 'Family',\n",
      "       'Health (Life Expectancy)', 'Freedom', 'Trust (Government Corruption)',\n",
      "       'Generosity', 'Dystopia Residual', 'year', 'Lower Confidence Interval',\n",
      "       'Upper Confidence Interval', 'Happiness.Rank', 'Happiness.Score',\n",
      "       'Whisker.high', 'Whisker.low', 'Economy..GDP.per.Capita.',\n",
      "       'Health..Life.Expectancy.', 'Trust..Government.Corruption.',\n",
      "       'Dystopia.Residual', 'Overall rank', 'Country or region', 'Score',\n",
      "       'GDP per capita', 'Social support', 'Healthy life expectancy',\n",
      "       'Freedom to make life choices', 'Perceptions of corruption',\n",
      "       'Country name', 'Regional indicator', 'Ladder score',\n",
      "       'Standard error of ladder score', 'upperwhisker', 'lowerwhisker',\n",
      "       'Logged GDP per capita', 'Ladder score in Dystopia',\n",
      "       'Explained by: Log GDP per capita', 'Explained by: Social support',\n",
      "       'Explained by: Healthy life expectancy',\n",
      "       'Explained by: Freedom to make life choices',\n",
      "       'Explained by: Generosity', 'Explained by: Perceptions of corruption',\n",
      "       'Dystopia + residual', 'RANK', 'Happiness score', 'Whisker-high',\n",
      "       'Whisker-low', 'Dystopia (1.83) + residual',\n",
      "       'Explained by: GDP per capita'],\n",
      "      dtype='object')\n",
      "0       False\n",
      "1       False\n",
      "2       False\n",
      "3       False\n",
      "4       False\n",
      "        ...  \n",
      "1226    False\n",
      "1227     True\n",
      "1228     True\n",
      "1229     True\n",
      "1230    False\n",
      "Length: 1231, dtype: bool\n"
     ]
    },
    {
     "name": "stderr",
     "output_type": "stream",
     "text": [
      "/var/folders/2_/dkxg0fq56mv06fxh6723qjn00000gn/T/ipykernel_22964/3648750148.py:65: FutureWarning: In a future version of pandas all arguments of DataFrame.drop except for the argument 'labels' will be keyword-only.\n",
      "  df.drop(df.columns.difference(['Economy', 'Happiness Rank', 'Health',\n"
     ]
    }
   ],
   "source": [
    "import pandas as pd\n",
    "import altair as alt\n",
    "import os as os\n",
    "import numpy as np\n",
    "\n",
    "os.chdir(\"/Users/ashfi/Documents/Datasets\")\n",
    "df = pd.read_csv('output.csv', decimal='.')\n",
    "# replace commas with decimals\n",
    "print(df.columns)\n",
    "print(df.duplicated(subset='Country'))\n",
    "df[\"Explained by: Healthy life expectancy\"] = df[\"Explained by: Healthy life expectancy\"].str.replace(\n",
    "    ',', '.')\n",
    "df[\"Explained by: Social support\"] = df[\"Explained by: Social support\"].str.replace(\n",
    "    ',', '.')\n",
    "df[\"Explained by: Perceptions of corruption\"] = df[\"Explained by: Perceptions of corruption\"].str.replace(\n",
    "    ',', '.')\n",
    "df[\"Explained by: Generosity\"] = df[\"Explained by: Generosity\"].str.replace(\n",
    "    ',', '.')\n",
    "df[\"Explained by: Freedom to make life choices\"] = df[\"Explained by: Freedom to make life choices\"].str.replace(\n",
    "    ',', '.')\n",
    "df[\"Happiness score\"] = df[\"Happiness score\"].str.replace(\n",
    "    ',', '.')\n",
    "df[\"Explained by: GDP per capita\"] = df[\"Explained by: GDP per capita\"].str.replace(\n",
    "    ',', '.')\n",
    "df[\"Explained by: Social support\"] = df[\"Explained by: Social support\"].str.replace(\n",
    "    ',', '.')\n",
    "##################\n",
    "df['Country'] = df['Country'].combine_first(df['Country or region'])\n",
    "# fill in blank spaces in Country column and merge others\n",
    "df['Country'] = df['Country'].combine_first(df['Country name'])\n",
    "\n",
    "# merge region and regional indicator together\n",
    "df['Region'] = df['Region'].combine_first(df['Regional indicator'])\n",
    "df[[\"Explained by: Healthy life expectancy\", \"Explained by: Social support\", \"Explained by: Perceptions of corruption\",\n",
    "    \"Explained by: Generosity\", \"Explained by: Freedom to make life choices\", \"Happiness score\", \"Explained by: GDP per capita\"]] = df[[\n",
    "        \"Explained by: Healthy life expectancy\", \"Explained by: Social support\", \"Explained by: Perceptions of corruption\", \"Explained by: Generosity\",\n",
    "        \"Explained by: Freedom to make life choices\", \"Happiness score\", \"Explained by: GDP per capita\"]].apply(pd.to_numeric)   # change to numeric\n",
    "# add to Happiness Rank\n",
    "df = df.rename(columns={\"Economy (GDP per Capita)\": \"Economy\", \"Health (Life Expectancy)\": \"Health\",\n",
    "               \"Trust (Government Corruption)\": \"Trust\"}, errors=\"raise\")\n",
    "df['Happiness Score'] = df['Happiness Score'].fillna(\n",
    "    0) + df['Happiness.Score'].fillna(0) + df['Score'].fillna(0) + df['Ladder score'].fillna(0) + df['Happiness score'].fillna(0)   # Add to economy\n",
    "df['Economy'] = df['Economy'].fillna(0) + df['GDP per capita'].fillna(\n",
    "    0) + df['Explained by: Log GDP per capita'].fillna(0) + df['Economy..GDP.per.Capita.'].fillna(0) + df['Explained by: GDP per capita'].fillna(0)\n",
    "#  # Add to economy\n",
    "df['New Health'] = df.iloc[470:782, df.columns.get_loc('Healthy life expectancy')].fillna(\n",
    "    0)\n",
    "df['Health'] = df['Health'].fillna(\n",
    "    0) + df['Explained by: Healthy life expectancy'].fillna(0) + df['Health..Life.Expectancy.'].fillna(0) + df['New Health'].fillna(0)\n",
    "\n",
    "df['Freedom'] = df['Freedom'].fillna(0) + df['Freedom to make life choices'].fillna(\n",
    "    0) + df['Freedom to make life choices'].fillna(0) + df['Explained by: Freedom to make life choices'].fillna(0)\n",
    "df['Generosity'] = df['Generosity'].fillna(\n",
    "    0) + df['Social support'].fillna(0) + df['Explained by: Social support'].fillna(0)\n",
    "df['Trust'] = df['Trust'].fillna(0) + df['Perceptions of corruption'].fillna(\n",
    "    0) + df['Trust..Government.Corruption.'].fillna(0) + df['Explained by: Perceptions of corruption'].fillna(0)\n",
    "\n",
    "df['New Rank'] = df.iloc[782:935, 4].rank(method='first', ascending=False)\n",
    "df['Super Rank'] = df.iloc[935:1084, 4].rank(method='first', ascending=False)\n",
    "df['Happiness Rank'] = df['Happiness Rank'].fillna(\n",
    "    0) + df['Happiness.Rank'].fillna(0) + df['RANK'].fillna(0) + df['Overall rank'].fillna(0) + df['New Rank'].fillna(0) + df['Super Rank'].fillna(0)\n",
    "df.fillna('', inplace=True)\n",
    "\n",
    "\n",
    "df.drop(df.columns.difference(['Economy', 'Happiness Rank', 'Health',\n",
    "        'Trust', 'Happiness Score', 'Freedom', 'Generosity', 'year', 'Country', 'Region']), 1, inplace=True)\n"
   ]
  },
  {
   "cell_type": "code",
   "execution_count": 17,
   "metadata": {},
   "outputs": [
    {
     "name": "stdout",
     "output_type": "stream",
     "text": [
      "Index(['Unnamed: 0', 'Country', 'Region', 'Happiness Rank', 'Happiness Score',\n",
      "       'Standard Error', 'Economy (GDP per Capita)', 'Family',\n",
      "       'Health (Life Expectancy)', 'Freedom', 'Trust (Government Corruption)',\n",
      "       'Generosity', 'Dystopia Residual', 'year', 'Lower Confidence Interval',\n",
      "       'Upper Confidence Interval', 'Happiness.Rank', 'Happiness.Score',\n",
      "       'Whisker.high', 'Whisker.low', 'Economy..GDP.per.Capita.',\n",
      "       'Health..Life.Expectancy.', 'Trust..Government.Corruption.',\n",
      "       'Dystopia.Residual', 'Overall rank', 'Country or region', 'Score',\n",
      "       'GDP per capita', 'Social support', 'Healthy life expectancy',\n",
      "       'Freedom to make life choices', 'Perceptions of corruption',\n",
      "       'Country name', 'Regional indicator', 'Ladder score',\n",
      "       'Standard error of ladder score', 'upperwhisker', 'lowerwhisker',\n",
      "       'Logged GDP per capita', 'Ladder score in Dystopia',\n",
      "       'Explained by: Log GDP per capita', 'Explained by: Social support',\n",
      "       'Explained by: Healthy life expectancy',\n",
      "       'Explained by: Freedom to make life choices',\n",
      "       'Explained by: Generosity', 'Explained by: Perceptions of corruption',\n",
      "       'Dystopia + residual', 'RANK', 'Happiness score', 'Whisker-high',\n",
      "       'Whisker-low', 'Dystopia (1.83) + residual',\n",
      "       'Explained by: GDP per capita'],\n",
      "      dtype='object')\n",
      "0       False\n",
      "1       False\n",
      "2       False\n",
      "3       False\n",
      "4       False\n",
      "        ...  \n",
      "1226    False\n",
      "1227     True\n",
      "1228     True\n",
      "1229     True\n",
      "1230    False\n",
      "Length: 1231, dtype: bool\n"
     ]
    },
    {
     "data": {
      "text/plain": [
       "{0: 'Switzerland',\n",
       " 1: 'Iceland',\n",
       " 2: 'Denmark',\n",
       " 3: 'Norway',\n",
       " 4: 'Canada',\n",
       " 5: 'Finland',\n",
       " 6: 'Netherlands',\n",
       " 7: 'Sweden',\n",
       " 8: 'New Zealand',\n",
       " 9: 'Australia',\n",
       " 10: 'Israel',\n",
       " 11: 'Costa Rica',\n",
       " 12: 'Austria',\n",
       " 13: 'Mexico',\n",
       " 14: 'United States',\n",
       " 15: 'Brazil',\n",
       " 16: 'Luxembourg',\n",
       " 17: 'Ireland',\n",
       " 18: 'Belgium',\n",
       " 19: 'United Arab Emirates',\n",
       " 20: 'United Kingdom',\n",
       " 21: 'Oman',\n",
       " 22: 'Venezuela',\n",
       " 23: 'Singapore',\n",
       " 24: 'Panama',\n",
       " 25: 'Germany',\n",
       " 26: 'Chile',\n",
       " 27: 'Qatar',\n",
       " 28: 'France',\n",
       " 29: 'Argentina',\n",
       " 30: 'Czech Republic',\n",
       " 31: 'Uruguay',\n",
       " 32: 'Colombia',\n",
       " 33: 'Thailand',\n",
       " 34: 'Saudi Arabia',\n",
       " 35: 'Spain',\n",
       " 36: 'Malta',\n",
       " 37: 'Taiwan',\n",
       " 38: 'Kuwait',\n",
       " 39: 'Suriname',\n",
       " 40: 'Trinidad and Tobago',\n",
       " 41: 'El Salvador',\n",
       " 42: 'Guatemala',\n",
       " 43: 'Uzbekistan',\n",
       " 44: 'Slovakia',\n",
       " 45: 'Japan',\n",
       " 46: 'South Korea',\n",
       " 47: 'Ecuador',\n",
       " 48: 'Bahrain',\n",
       " 49: 'Italy',\n",
       " 50: 'Bolivia',\n",
       " 51: 'Moldova',\n",
       " 52: 'Paraguay',\n",
       " 53: 'Kazakhstan',\n",
       " 54: 'Slovenia',\n",
       " 55: 'Lithuania',\n",
       " 56: 'Nicaragua',\n",
       " 57: 'Peru',\n",
       " 58: 'Belarus',\n",
       " 59: 'Poland',\n",
       " 60: 'Malaysia',\n",
       " 61: 'Croatia',\n",
       " 62: 'Libya',\n",
       " 63: 'Russia',\n",
       " 64: 'Jamaica',\n",
       " 65: 'North Cyprus',\n",
       " 66: 'Cyprus',\n",
       " 67: 'Algeria',\n",
       " 68: 'Kosovo',\n",
       " 69: 'Turkmenistan',\n",
       " 70: 'Mauritius',\n",
       " 71: 'Hong Kong',\n",
       " 72: 'Estonia',\n",
       " 73: 'Indonesia',\n",
       " 74: 'Vietnam',\n",
       " 75: 'Turkey',\n",
       " 76: 'Kyrgyzstan',\n",
       " 77: 'Nigeria',\n",
       " 78: 'Bhutan',\n",
       " 79: 'Azerbaijan',\n",
       " 80: 'Pakistan',\n",
       " 81: 'Jordan',\n",
       " 82: 'Montenegro',\n",
       " 83: 'China',\n",
       " 84: 'Zambia',\n",
       " 85: 'Romania',\n",
       " 86: 'Serbia',\n",
       " 87: 'Portugal',\n",
       " 88: 'Latvia',\n",
       " 89: 'Philippines',\n",
       " 90: 'Somaliland region',\n",
       " 91: 'Morocco',\n",
       " 92: 'Macedonia',\n",
       " 93: 'Mozambique',\n",
       " 94: 'Albania',\n",
       " 95: 'Bosnia and Herzegovina',\n",
       " 96: 'Lesotho',\n",
       " 97: 'Dominican Republic',\n",
       " 98: 'Laos',\n",
       " 99: 'Mongolia',\n",
       " 100: 'Swaziland',\n",
       " 101: 'Greece',\n",
       " 102: 'Lebanon',\n",
       " 103: 'Hungary',\n",
       " 104: 'Honduras',\n",
       " 105: 'Tajikistan',\n",
       " 106: 'Tunisia',\n",
       " 107: 'Palestinian Territories',\n",
       " 108: 'Bangladesh',\n",
       " 109: 'Iran',\n",
       " 110: 'Ukraine',\n",
       " 111: 'Iraq',\n",
       " 112: 'South Africa',\n",
       " 113: 'Ghana',\n",
       " 114: 'Zimbabwe',\n",
       " 115: 'Liberia',\n",
       " 116: 'India',\n",
       " 117: 'Sudan',\n",
       " 118: 'Haiti',\n",
       " 119: 'Congo (Kinshasa)',\n",
       " 120: 'Nepal',\n",
       " 121: 'Ethiopia',\n",
       " 122: 'Sierra Leone',\n",
       " 123: 'Mauritania',\n",
       " 124: 'Kenya',\n",
       " 125: 'Djibouti',\n",
       " 126: 'Armenia',\n",
       " 127: 'Botswana',\n",
       " 128: 'Myanmar',\n",
       " 129: 'Georgia',\n",
       " 130: 'Malawi',\n",
       " 131: 'Sri Lanka',\n",
       " 132: 'Cameroon',\n",
       " 133: 'Bulgaria',\n",
       " 134: 'Egypt',\n",
       " 135: 'Yemen',\n",
       " 136: 'Angola',\n",
       " 137: 'Mali',\n",
       " 138: 'Congo (Brazzaville)',\n",
       " 139: 'Comoros',\n",
       " 140: 'Uganda',\n",
       " 141: 'Senegal',\n",
       " 142: 'Gabon',\n",
       " 143: 'Niger',\n",
       " 144: 'Cambodia',\n",
       " 145: 'Tanzania',\n",
       " 146: 'Madagascar',\n",
       " 147: 'Central African Republic',\n",
       " 148: 'Chad',\n",
       " 149: 'Guinea',\n",
       " 150: 'Ivory Coast',\n",
       " 151: 'Burkina Faso',\n",
       " 152: 'Afghanistan',\n",
       " 153: 'Rwanda',\n",
       " 154: 'Benin',\n",
       " 155: 'Syria',\n",
       " 156: 'Burundi',\n",
       " 157: 'Togo',\n",
       " 158: 'Puerto Rico',\n",
       " 159: 'Belize',\n",
       " 160: 'Somalia',\n",
       " 161: 'Somaliland Region',\n",
       " 162: 'Namibia',\n",
       " 163: 'South Sudan',\n",
       " 164: 'Taiwan Province of China',\n",
       " 165: 'Hong Kong S.A.R., China',\n",
       " 166: 'Trinidad & Tobago',\n",
       " 167: 'Northern Cyprus',\n",
       " 168: 'North Macedonia',\n",
       " 169: 'Gambia',\n",
       " 170: 'Hong Kong S.A.R. of China',\n",
       " 171: 'Maldives',\n",
       " 172: 'Luxembourg*',\n",
       " 173: 'Czechia',\n",
       " 174: 'Guatemala*',\n",
       " 175: 'Kuwait*',\n",
       " 176: 'Belarus*',\n",
       " 177: 'Turkmenistan*',\n",
       " 178: 'North Cyprus*',\n",
       " 179: 'Libya*',\n",
       " 180: 'Azerbaijan*',\n",
       " 181: 'Gambia*',\n",
       " 182: 'Liberia*',\n",
       " 183: 'Congo',\n",
       " 184: 'Niger*',\n",
       " 185: 'Comoros*',\n",
       " 186: 'Palestinian Territories*',\n",
       " 187: 'Eswatini, Kingdom of*',\n",
       " 188: 'Madagascar*',\n",
       " 189: 'Chad*',\n",
       " 190: 'Yemen*',\n",
       " 191: 'Mauritania*',\n",
       " 192: 'Lesotho*',\n",
       " 193: 'Botswana*',\n",
       " 194: 'Rwanda*',\n",
       " 195: 'xx'}"
      ]
     },
     "execution_count": 17,
     "metadata": {},
     "output_type": "execute_result"
    }
   ],
   "source": [
    "\n",
    "#duplicate = df[df.duplicated(['Country'])]\n"
   ]
  },
  {
   "cell_type": "code",
   "execution_count": 5,
   "metadata": {},
   "outputs": [],
   "source": [
    "\n",
    "c = dict(enumerate(df.Region.unique()))\n",
    "\n",
    "d = dict(enumerate(df.Country.unique()))\n",
    "df['Country'] = df['Country'].map(lambda x: x.rstrip('*'))\n"
   ]
  },
  {
   "cell_type": "code",
   "execution_count": 2,
   "metadata": {},
   "outputs": [],
   "source": [
    "f = df.loc[df['Country'].isin(['Uzbekistan', 'Kazakhstan', 'Moldova', 'Tajikistan', 'Russia', 'Kyrgyzstan', 'Belarus', 'Azerbaijan',\n",
    "                              'Turkmenistan', 'Armenia', 'Georgia', 'Ukraine'])].replace(['Central and Eastern Europe'], 'Commonwealth of Independent States')\n",
    "anz = df.loc[df['Country'].isin(['Australia', 'New Zealand'])].replace([\n",
    "    'North America and ANZ'], 'Oceania')\n",
    "northamerica = df.loc[df['Country'].isin(['Canada', 'United States'])].replace([\n",
    "    'North America and ANZ'], 'North America')\n"
   ]
  },
  {
   "cell_type": "code",
   "execution_count": 8,
   "metadata": {},
   "outputs": [],
   "source": [
    "import pandas as pd\n",
    "import altair as alt\n",
    "import os as os\n",
    "import numpy as np\n",
    "df = df.replace(['Trinidad & Tobago'], 'Trinidad and Tobago')\n",
    "df = df.replace(['Czech Republic'], 'Czechia')\n",
    "df = df.replace(['North Cyprus'], 'Northern Cyprus')\n",
    "df = df.replace(['Hong Kong S.A.R., China', 'Hong Kong'],\n",
    "                'Hong Kong S.A.R. of China')\n",
    "df = df.replace(['Taiwan Province of China'], 'Taiwan')\n",
    "df = df.replace(['Macedonia'], 'North Macedonia')\n",
    "df = df.replace(['Swaziland', 'Eswatini, Kingdom of'], 'Kingdom of Eswatini')\n",
    "df = df.replace(['Congo'], 'Congo (Brazzaville)')\n",
    "df['Region'] = df['Region'].replace(['Australia and New Zealand', 'Southern Asia', 'Southeastern Asia',\n",
    "                                    'Middle East and Northern Africa', 'Eastern Asia'], ['Oceania', 'South Asia', 'Southeast Asia', 'Middle East and North Africa', 'East Asia'])\n",
    "\n",
    "df['Region'] = df['Region'].replace('', np.nan).fillna(\n",
    "    df.groupby('Country')['Region'].transform('first')).astype(str)  # group by region and country and replace NaN values with first occurence\n",
    "\n",
    "df.loc[df.index[745], 'Region'] = 'Sub-Saharan Africa'\n",
    "df.loc[df.index[1176], 'Region'] = 'Sub-Saharan Africa'"
   ]
  },
  {
   "cell_type": "code",
   "execution_count": 9,
   "metadata": {},
   "outputs": [
    {
     "ename": "FileNotFoundError",
     "evalue": "[Errno 2] No such file or directory: '2014_world_gdp_with_codes.csv'",
     "output_type": "error",
     "traceback": [
      "\u001b[0;31m---------------------------------------------------------------------------\u001b[0m",
      "\u001b[0;31mFileNotFoundError\u001b[0m                         Traceback (most recent call last)",
      "\u001b[1;32m/Users/ashfi/code/python/datapane/dataclean.ipynb Cell 6'\u001b[0m in \u001b[0;36m<cell line: 1>\u001b[0;34m()\u001b[0m\n\u001b[0;32m----> <a href='vscode-notebook-cell:/Users/ashfi/code/python/datapane/dataclean.ipynb#ch0000005?line=0'>1</a>\u001b[0m countrydf \u001b[39m=\u001b[39m pd\u001b[39m.\u001b[39;49mread_csv(\u001b[39m'\u001b[39;49m\u001b[39m2014_world_gdp_with_codes.csv\u001b[39;49m\u001b[39m'\u001b[39;49m)\n\u001b[1;32m      <a href='vscode-notebook-cell:/Users/ashfi/code/python/datapane/dataclean.ipynb#ch0000005?line=2'>3</a>\u001b[0m countrydf \u001b[39m=\u001b[39m countrydf\u001b[39m.\u001b[39mreplace([\u001b[39m'\u001b[39m\u001b[39mWest Bank\u001b[39m\u001b[39m'\u001b[39m, \u001b[39m'\u001b[39m\u001b[39mCongo, Democratic Republic of the\u001b[39m\u001b[39m'\u001b[39m, \u001b[39m'\u001b[39m\u001b[39mCongo, Republic of the\u001b[39m\u001b[39m'\u001b[39m, \u001b[39m'\u001b[39m\u001b[39mHong Kong\u001b[39m\u001b[39m'\u001b[39m, \u001b[39m'\u001b[39m\u001b[39mMacedonia\u001b[39m\u001b[39m'\u001b[39m, \u001b[39m'\u001b[39m\u001b[39mSwaziland\u001b[39m\u001b[39m'\u001b[39m, \u001b[39m'\u001b[39m\u001b[39mCzech Republic\u001b[39m\u001b[39m'\u001b[39m], [\n\u001b[1;32m      <a href='vscode-notebook-cell:/Users/ashfi/code/python/datapane/dataclean.ipynb#ch0000005?line=3'>4</a>\u001b[0m                               \u001b[39m'\u001b[39m\u001b[39mPalestinian Territories\u001b[39m\u001b[39m'\u001b[39m, \u001b[39m'\u001b[39m\u001b[39mCongo (Kinshasa)\u001b[39m\u001b[39m'\u001b[39m, \u001b[39m'\u001b[39m\u001b[39mCongo (Brazzaville)\u001b[39m\u001b[39m'\u001b[39m, \u001b[39m'\u001b[39m\u001b[39mHong Kong S.A.R. of China\u001b[39m\u001b[39m'\u001b[39m, \u001b[39m'\u001b[39m\u001b[39mNorthern Macedonia\u001b[39m\u001b[39m'\u001b[39m, \u001b[39m'\u001b[39m\u001b[39mKingdom of Eswatini\u001b[39m\u001b[39m'\u001b[39m, \u001b[39m'\u001b[39m\u001b[39mCzechia\u001b[39m\u001b[39m'\u001b[39m])\n\u001b[1;32m      <a href='vscode-notebook-cell:/Users/ashfi/code/python/datapane/dataclean.ipynb#ch0000005?line=4'>5</a>\u001b[0m countrydf \u001b[39m=\u001b[39m countrydf\u001b[39m.\u001b[39mdrop(\u001b[39m'\u001b[39m\u001b[39mGDP (BILLIONS)\u001b[39m\u001b[39m'\u001b[39m, \u001b[39m1\u001b[39m)\n",
      "File \u001b[0;32m~/Library/Caches/pypoetry/virtualenvs/tutorial-1j-2efPE-py3.10/lib/python3.10/site-packages/pandas/util/_decorators.py:311\u001b[0m, in \u001b[0;36mdeprecate_nonkeyword_arguments.<locals>.decorate.<locals>.wrapper\u001b[0;34m(*args, **kwargs)\u001b[0m\n\u001b[1;32m    <a href='file:///Users/ashfi/Library/Caches/pypoetry/virtualenvs/tutorial-1j-2efPE-py3.10/lib/python3.10/site-packages/pandas/util/_decorators.py?line=304'>305</a>\u001b[0m \u001b[39mif\u001b[39;00m \u001b[39mlen\u001b[39m(args) \u001b[39m>\u001b[39m num_allow_args:\n\u001b[1;32m    <a href='file:///Users/ashfi/Library/Caches/pypoetry/virtualenvs/tutorial-1j-2efPE-py3.10/lib/python3.10/site-packages/pandas/util/_decorators.py?line=305'>306</a>\u001b[0m     warnings\u001b[39m.\u001b[39mwarn(\n\u001b[1;32m    <a href='file:///Users/ashfi/Library/Caches/pypoetry/virtualenvs/tutorial-1j-2efPE-py3.10/lib/python3.10/site-packages/pandas/util/_decorators.py?line=306'>307</a>\u001b[0m         msg\u001b[39m.\u001b[39mformat(arguments\u001b[39m=\u001b[39marguments),\n\u001b[1;32m    <a href='file:///Users/ashfi/Library/Caches/pypoetry/virtualenvs/tutorial-1j-2efPE-py3.10/lib/python3.10/site-packages/pandas/util/_decorators.py?line=307'>308</a>\u001b[0m         \u001b[39mFutureWarning\u001b[39;00m,\n\u001b[1;32m    <a href='file:///Users/ashfi/Library/Caches/pypoetry/virtualenvs/tutorial-1j-2efPE-py3.10/lib/python3.10/site-packages/pandas/util/_decorators.py?line=308'>309</a>\u001b[0m         stacklevel\u001b[39m=\u001b[39mstacklevel,\n\u001b[1;32m    <a href='file:///Users/ashfi/Library/Caches/pypoetry/virtualenvs/tutorial-1j-2efPE-py3.10/lib/python3.10/site-packages/pandas/util/_decorators.py?line=309'>310</a>\u001b[0m     )\n\u001b[0;32m--> <a href='file:///Users/ashfi/Library/Caches/pypoetry/virtualenvs/tutorial-1j-2efPE-py3.10/lib/python3.10/site-packages/pandas/util/_decorators.py?line=310'>311</a>\u001b[0m \u001b[39mreturn\u001b[39;00m func(\u001b[39m*\u001b[39;49margs, \u001b[39m*\u001b[39;49m\u001b[39m*\u001b[39;49mkwargs)\n",
      "File \u001b[0;32m~/Library/Caches/pypoetry/virtualenvs/tutorial-1j-2efPE-py3.10/lib/python3.10/site-packages/pandas/io/parsers/readers.py:680\u001b[0m, in \u001b[0;36mread_csv\u001b[0;34m(filepath_or_buffer, sep, delimiter, header, names, index_col, usecols, squeeze, prefix, mangle_dupe_cols, dtype, engine, converters, true_values, false_values, skipinitialspace, skiprows, skipfooter, nrows, na_values, keep_default_na, na_filter, verbose, skip_blank_lines, parse_dates, infer_datetime_format, keep_date_col, date_parser, dayfirst, cache_dates, iterator, chunksize, compression, thousands, decimal, lineterminator, quotechar, quoting, doublequote, escapechar, comment, encoding, encoding_errors, dialect, error_bad_lines, warn_bad_lines, on_bad_lines, delim_whitespace, low_memory, memory_map, float_precision, storage_options)\u001b[0m\n\u001b[1;32m    <a href='file:///Users/ashfi/Library/Caches/pypoetry/virtualenvs/tutorial-1j-2efPE-py3.10/lib/python3.10/site-packages/pandas/io/parsers/readers.py?line=664'>665</a>\u001b[0m kwds_defaults \u001b[39m=\u001b[39m _refine_defaults_read(\n\u001b[1;32m    <a href='file:///Users/ashfi/Library/Caches/pypoetry/virtualenvs/tutorial-1j-2efPE-py3.10/lib/python3.10/site-packages/pandas/io/parsers/readers.py?line=665'>666</a>\u001b[0m     dialect,\n\u001b[1;32m    <a href='file:///Users/ashfi/Library/Caches/pypoetry/virtualenvs/tutorial-1j-2efPE-py3.10/lib/python3.10/site-packages/pandas/io/parsers/readers.py?line=666'>667</a>\u001b[0m     delimiter,\n\u001b[0;32m   (...)\u001b[0m\n\u001b[1;32m    <a href='file:///Users/ashfi/Library/Caches/pypoetry/virtualenvs/tutorial-1j-2efPE-py3.10/lib/python3.10/site-packages/pandas/io/parsers/readers.py?line=675'>676</a>\u001b[0m     defaults\u001b[39m=\u001b[39m{\u001b[39m\"\u001b[39m\u001b[39mdelimiter\u001b[39m\u001b[39m\"\u001b[39m: \u001b[39m\"\u001b[39m\u001b[39m,\u001b[39m\u001b[39m\"\u001b[39m},\n\u001b[1;32m    <a href='file:///Users/ashfi/Library/Caches/pypoetry/virtualenvs/tutorial-1j-2efPE-py3.10/lib/python3.10/site-packages/pandas/io/parsers/readers.py?line=676'>677</a>\u001b[0m )\n\u001b[1;32m    <a href='file:///Users/ashfi/Library/Caches/pypoetry/virtualenvs/tutorial-1j-2efPE-py3.10/lib/python3.10/site-packages/pandas/io/parsers/readers.py?line=677'>678</a>\u001b[0m kwds\u001b[39m.\u001b[39mupdate(kwds_defaults)\n\u001b[0;32m--> <a href='file:///Users/ashfi/Library/Caches/pypoetry/virtualenvs/tutorial-1j-2efPE-py3.10/lib/python3.10/site-packages/pandas/io/parsers/readers.py?line=679'>680</a>\u001b[0m \u001b[39mreturn\u001b[39;00m _read(filepath_or_buffer, kwds)\n",
      "File \u001b[0;32m~/Library/Caches/pypoetry/virtualenvs/tutorial-1j-2efPE-py3.10/lib/python3.10/site-packages/pandas/io/parsers/readers.py:575\u001b[0m, in \u001b[0;36m_read\u001b[0;34m(filepath_or_buffer, kwds)\u001b[0m\n\u001b[1;32m    <a href='file:///Users/ashfi/Library/Caches/pypoetry/virtualenvs/tutorial-1j-2efPE-py3.10/lib/python3.10/site-packages/pandas/io/parsers/readers.py?line=571'>572</a>\u001b[0m _validate_names(kwds\u001b[39m.\u001b[39mget(\u001b[39m\"\u001b[39m\u001b[39mnames\u001b[39m\u001b[39m\"\u001b[39m, \u001b[39mNone\u001b[39;00m))\n\u001b[1;32m    <a href='file:///Users/ashfi/Library/Caches/pypoetry/virtualenvs/tutorial-1j-2efPE-py3.10/lib/python3.10/site-packages/pandas/io/parsers/readers.py?line=573'>574</a>\u001b[0m \u001b[39m# Create the parser.\u001b[39;00m\n\u001b[0;32m--> <a href='file:///Users/ashfi/Library/Caches/pypoetry/virtualenvs/tutorial-1j-2efPE-py3.10/lib/python3.10/site-packages/pandas/io/parsers/readers.py?line=574'>575</a>\u001b[0m parser \u001b[39m=\u001b[39m TextFileReader(filepath_or_buffer, \u001b[39m*\u001b[39;49m\u001b[39m*\u001b[39;49mkwds)\n\u001b[1;32m    <a href='file:///Users/ashfi/Library/Caches/pypoetry/virtualenvs/tutorial-1j-2efPE-py3.10/lib/python3.10/site-packages/pandas/io/parsers/readers.py?line=576'>577</a>\u001b[0m \u001b[39mif\u001b[39;00m chunksize \u001b[39mor\u001b[39;00m iterator:\n\u001b[1;32m    <a href='file:///Users/ashfi/Library/Caches/pypoetry/virtualenvs/tutorial-1j-2efPE-py3.10/lib/python3.10/site-packages/pandas/io/parsers/readers.py?line=577'>578</a>\u001b[0m     \u001b[39mreturn\u001b[39;00m parser\n",
      "File \u001b[0;32m~/Library/Caches/pypoetry/virtualenvs/tutorial-1j-2efPE-py3.10/lib/python3.10/site-packages/pandas/io/parsers/readers.py:933\u001b[0m, in \u001b[0;36mTextFileReader.__init__\u001b[0;34m(self, f, engine, **kwds)\u001b[0m\n\u001b[1;32m    <a href='file:///Users/ashfi/Library/Caches/pypoetry/virtualenvs/tutorial-1j-2efPE-py3.10/lib/python3.10/site-packages/pandas/io/parsers/readers.py?line=929'>930</a>\u001b[0m     \u001b[39mself\u001b[39m\u001b[39m.\u001b[39moptions[\u001b[39m\"\u001b[39m\u001b[39mhas_index_names\u001b[39m\u001b[39m\"\u001b[39m] \u001b[39m=\u001b[39m kwds[\u001b[39m\"\u001b[39m\u001b[39mhas_index_names\u001b[39m\u001b[39m\"\u001b[39m]\n\u001b[1;32m    <a href='file:///Users/ashfi/Library/Caches/pypoetry/virtualenvs/tutorial-1j-2efPE-py3.10/lib/python3.10/site-packages/pandas/io/parsers/readers.py?line=931'>932</a>\u001b[0m \u001b[39mself\u001b[39m\u001b[39m.\u001b[39mhandles: IOHandles \u001b[39m|\u001b[39m \u001b[39mNone\u001b[39;00m \u001b[39m=\u001b[39m \u001b[39mNone\u001b[39;00m\n\u001b[0;32m--> <a href='file:///Users/ashfi/Library/Caches/pypoetry/virtualenvs/tutorial-1j-2efPE-py3.10/lib/python3.10/site-packages/pandas/io/parsers/readers.py?line=932'>933</a>\u001b[0m \u001b[39mself\u001b[39m\u001b[39m.\u001b[39m_engine \u001b[39m=\u001b[39m \u001b[39mself\u001b[39;49m\u001b[39m.\u001b[39;49m_make_engine(f, \u001b[39mself\u001b[39;49m\u001b[39m.\u001b[39;49mengine)\n",
      "File \u001b[0;32m~/Library/Caches/pypoetry/virtualenvs/tutorial-1j-2efPE-py3.10/lib/python3.10/site-packages/pandas/io/parsers/readers.py:1217\u001b[0m, in \u001b[0;36mTextFileReader._make_engine\u001b[0;34m(self, f, engine)\u001b[0m\n\u001b[1;32m   <a href='file:///Users/ashfi/Library/Caches/pypoetry/virtualenvs/tutorial-1j-2efPE-py3.10/lib/python3.10/site-packages/pandas/io/parsers/readers.py?line=1212'>1213</a>\u001b[0m     mode \u001b[39m=\u001b[39m \u001b[39m\"\u001b[39m\u001b[39mrb\u001b[39m\u001b[39m\"\u001b[39m\n\u001b[1;32m   <a href='file:///Users/ashfi/Library/Caches/pypoetry/virtualenvs/tutorial-1j-2efPE-py3.10/lib/python3.10/site-packages/pandas/io/parsers/readers.py?line=1213'>1214</a>\u001b[0m \u001b[39m# error: No overload variant of \"get_handle\" matches argument types\u001b[39;00m\n\u001b[1;32m   <a href='file:///Users/ashfi/Library/Caches/pypoetry/virtualenvs/tutorial-1j-2efPE-py3.10/lib/python3.10/site-packages/pandas/io/parsers/readers.py?line=1214'>1215</a>\u001b[0m \u001b[39m# \"Union[str, PathLike[str], ReadCsvBuffer[bytes], ReadCsvBuffer[str]]\"\u001b[39;00m\n\u001b[1;32m   <a href='file:///Users/ashfi/Library/Caches/pypoetry/virtualenvs/tutorial-1j-2efPE-py3.10/lib/python3.10/site-packages/pandas/io/parsers/readers.py?line=1215'>1216</a>\u001b[0m \u001b[39m# , \"str\", \"bool\", \"Any\", \"Any\", \"Any\", \"Any\", \"Any\"\u001b[39;00m\n\u001b[0;32m-> <a href='file:///Users/ashfi/Library/Caches/pypoetry/virtualenvs/tutorial-1j-2efPE-py3.10/lib/python3.10/site-packages/pandas/io/parsers/readers.py?line=1216'>1217</a>\u001b[0m \u001b[39mself\u001b[39m\u001b[39m.\u001b[39mhandles \u001b[39m=\u001b[39m get_handle(  \u001b[39m# type: ignore[call-overload]\u001b[39;49;00m\n\u001b[1;32m   <a href='file:///Users/ashfi/Library/Caches/pypoetry/virtualenvs/tutorial-1j-2efPE-py3.10/lib/python3.10/site-packages/pandas/io/parsers/readers.py?line=1217'>1218</a>\u001b[0m     f,\n\u001b[1;32m   <a href='file:///Users/ashfi/Library/Caches/pypoetry/virtualenvs/tutorial-1j-2efPE-py3.10/lib/python3.10/site-packages/pandas/io/parsers/readers.py?line=1218'>1219</a>\u001b[0m     mode,\n\u001b[1;32m   <a href='file:///Users/ashfi/Library/Caches/pypoetry/virtualenvs/tutorial-1j-2efPE-py3.10/lib/python3.10/site-packages/pandas/io/parsers/readers.py?line=1219'>1220</a>\u001b[0m     encoding\u001b[39m=\u001b[39;49m\u001b[39mself\u001b[39;49m\u001b[39m.\u001b[39;49moptions\u001b[39m.\u001b[39;49mget(\u001b[39m\"\u001b[39;49m\u001b[39mencoding\u001b[39;49m\u001b[39m\"\u001b[39;49m, \u001b[39mNone\u001b[39;49;00m),\n\u001b[1;32m   <a href='file:///Users/ashfi/Library/Caches/pypoetry/virtualenvs/tutorial-1j-2efPE-py3.10/lib/python3.10/site-packages/pandas/io/parsers/readers.py?line=1220'>1221</a>\u001b[0m     compression\u001b[39m=\u001b[39;49m\u001b[39mself\u001b[39;49m\u001b[39m.\u001b[39;49moptions\u001b[39m.\u001b[39;49mget(\u001b[39m\"\u001b[39;49m\u001b[39mcompression\u001b[39;49m\u001b[39m\"\u001b[39;49m, \u001b[39mNone\u001b[39;49;00m),\n\u001b[1;32m   <a href='file:///Users/ashfi/Library/Caches/pypoetry/virtualenvs/tutorial-1j-2efPE-py3.10/lib/python3.10/site-packages/pandas/io/parsers/readers.py?line=1221'>1222</a>\u001b[0m     memory_map\u001b[39m=\u001b[39;49m\u001b[39mself\u001b[39;49m\u001b[39m.\u001b[39;49moptions\u001b[39m.\u001b[39;49mget(\u001b[39m\"\u001b[39;49m\u001b[39mmemory_map\u001b[39;49m\u001b[39m\"\u001b[39;49m, \u001b[39mFalse\u001b[39;49;00m),\n\u001b[1;32m   <a href='file:///Users/ashfi/Library/Caches/pypoetry/virtualenvs/tutorial-1j-2efPE-py3.10/lib/python3.10/site-packages/pandas/io/parsers/readers.py?line=1222'>1223</a>\u001b[0m     is_text\u001b[39m=\u001b[39;49mis_text,\n\u001b[1;32m   <a href='file:///Users/ashfi/Library/Caches/pypoetry/virtualenvs/tutorial-1j-2efPE-py3.10/lib/python3.10/site-packages/pandas/io/parsers/readers.py?line=1223'>1224</a>\u001b[0m     errors\u001b[39m=\u001b[39;49m\u001b[39mself\u001b[39;49m\u001b[39m.\u001b[39;49moptions\u001b[39m.\u001b[39;49mget(\u001b[39m\"\u001b[39;49m\u001b[39mencoding_errors\u001b[39;49m\u001b[39m\"\u001b[39;49m, \u001b[39m\"\u001b[39;49m\u001b[39mstrict\u001b[39;49m\u001b[39m\"\u001b[39;49m),\n\u001b[1;32m   <a href='file:///Users/ashfi/Library/Caches/pypoetry/virtualenvs/tutorial-1j-2efPE-py3.10/lib/python3.10/site-packages/pandas/io/parsers/readers.py?line=1224'>1225</a>\u001b[0m     storage_options\u001b[39m=\u001b[39;49m\u001b[39mself\u001b[39;49m\u001b[39m.\u001b[39;49moptions\u001b[39m.\u001b[39;49mget(\u001b[39m\"\u001b[39;49m\u001b[39mstorage_options\u001b[39;49m\u001b[39m\"\u001b[39;49m, \u001b[39mNone\u001b[39;49;00m),\n\u001b[1;32m   <a href='file:///Users/ashfi/Library/Caches/pypoetry/virtualenvs/tutorial-1j-2efPE-py3.10/lib/python3.10/site-packages/pandas/io/parsers/readers.py?line=1225'>1226</a>\u001b[0m )\n\u001b[1;32m   <a href='file:///Users/ashfi/Library/Caches/pypoetry/virtualenvs/tutorial-1j-2efPE-py3.10/lib/python3.10/site-packages/pandas/io/parsers/readers.py?line=1226'>1227</a>\u001b[0m \u001b[39massert\u001b[39;00m \u001b[39mself\u001b[39m\u001b[39m.\u001b[39mhandles \u001b[39mis\u001b[39;00m \u001b[39mnot\u001b[39;00m \u001b[39mNone\u001b[39;00m\n\u001b[1;32m   <a href='file:///Users/ashfi/Library/Caches/pypoetry/virtualenvs/tutorial-1j-2efPE-py3.10/lib/python3.10/site-packages/pandas/io/parsers/readers.py?line=1227'>1228</a>\u001b[0m f \u001b[39m=\u001b[39m \u001b[39mself\u001b[39m\u001b[39m.\u001b[39mhandles\u001b[39m.\u001b[39mhandle\n",
      "File \u001b[0;32m~/Library/Caches/pypoetry/virtualenvs/tutorial-1j-2efPE-py3.10/lib/python3.10/site-packages/pandas/io/common.py:789\u001b[0m, in \u001b[0;36mget_handle\u001b[0;34m(path_or_buf, mode, encoding, compression, memory_map, is_text, errors, storage_options)\u001b[0m\n\u001b[1;32m    <a href='file:///Users/ashfi/Library/Caches/pypoetry/virtualenvs/tutorial-1j-2efPE-py3.10/lib/python3.10/site-packages/pandas/io/common.py?line=783'>784</a>\u001b[0m \u001b[39melif\u001b[39;00m \u001b[39misinstance\u001b[39m(handle, \u001b[39mstr\u001b[39m):\n\u001b[1;32m    <a href='file:///Users/ashfi/Library/Caches/pypoetry/virtualenvs/tutorial-1j-2efPE-py3.10/lib/python3.10/site-packages/pandas/io/common.py?line=784'>785</a>\u001b[0m     \u001b[39m# Check whether the filename is to be opened in binary mode.\u001b[39;00m\n\u001b[1;32m    <a href='file:///Users/ashfi/Library/Caches/pypoetry/virtualenvs/tutorial-1j-2efPE-py3.10/lib/python3.10/site-packages/pandas/io/common.py?line=785'>786</a>\u001b[0m     \u001b[39m# Binary mode does not support 'encoding' and 'newline'.\u001b[39;00m\n\u001b[1;32m    <a href='file:///Users/ashfi/Library/Caches/pypoetry/virtualenvs/tutorial-1j-2efPE-py3.10/lib/python3.10/site-packages/pandas/io/common.py?line=786'>787</a>\u001b[0m     \u001b[39mif\u001b[39;00m ioargs\u001b[39m.\u001b[39mencoding \u001b[39mand\u001b[39;00m \u001b[39m\"\u001b[39m\u001b[39mb\u001b[39m\u001b[39m\"\u001b[39m \u001b[39mnot\u001b[39;00m \u001b[39min\u001b[39;00m ioargs\u001b[39m.\u001b[39mmode:\n\u001b[1;32m    <a href='file:///Users/ashfi/Library/Caches/pypoetry/virtualenvs/tutorial-1j-2efPE-py3.10/lib/python3.10/site-packages/pandas/io/common.py?line=787'>788</a>\u001b[0m         \u001b[39m# Encoding\u001b[39;00m\n\u001b[0;32m--> <a href='file:///Users/ashfi/Library/Caches/pypoetry/virtualenvs/tutorial-1j-2efPE-py3.10/lib/python3.10/site-packages/pandas/io/common.py?line=788'>789</a>\u001b[0m         handle \u001b[39m=\u001b[39m \u001b[39mopen\u001b[39;49m(\n\u001b[1;32m    <a href='file:///Users/ashfi/Library/Caches/pypoetry/virtualenvs/tutorial-1j-2efPE-py3.10/lib/python3.10/site-packages/pandas/io/common.py?line=789'>790</a>\u001b[0m             handle,\n\u001b[1;32m    <a href='file:///Users/ashfi/Library/Caches/pypoetry/virtualenvs/tutorial-1j-2efPE-py3.10/lib/python3.10/site-packages/pandas/io/common.py?line=790'>791</a>\u001b[0m             ioargs\u001b[39m.\u001b[39;49mmode,\n\u001b[1;32m    <a href='file:///Users/ashfi/Library/Caches/pypoetry/virtualenvs/tutorial-1j-2efPE-py3.10/lib/python3.10/site-packages/pandas/io/common.py?line=791'>792</a>\u001b[0m             encoding\u001b[39m=\u001b[39;49mioargs\u001b[39m.\u001b[39;49mencoding,\n\u001b[1;32m    <a href='file:///Users/ashfi/Library/Caches/pypoetry/virtualenvs/tutorial-1j-2efPE-py3.10/lib/python3.10/site-packages/pandas/io/common.py?line=792'>793</a>\u001b[0m             errors\u001b[39m=\u001b[39;49merrors,\n\u001b[1;32m    <a href='file:///Users/ashfi/Library/Caches/pypoetry/virtualenvs/tutorial-1j-2efPE-py3.10/lib/python3.10/site-packages/pandas/io/common.py?line=793'>794</a>\u001b[0m             newline\u001b[39m=\u001b[39;49m\u001b[39m\"\u001b[39;49m\u001b[39m\"\u001b[39;49m,\n\u001b[1;32m    <a href='file:///Users/ashfi/Library/Caches/pypoetry/virtualenvs/tutorial-1j-2efPE-py3.10/lib/python3.10/site-packages/pandas/io/common.py?line=794'>795</a>\u001b[0m         )\n\u001b[1;32m    <a href='file:///Users/ashfi/Library/Caches/pypoetry/virtualenvs/tutorial-1j-2efPE-py3.10/lib/python3.10/site-packages/pandas/io/common.py?line=795'>796</a>\u001b[0m     \u001b[39melse\u001b[39;00m:\n\u001b[1;32m    <a href='file:///Users/ashfi/Library/Caches/pypoetry/virtualenvs/tutorial-1j-2efPE-py3.10/lib/python3.10/site-packages/pandas/io/common.py?line=796'>797</a>\u001b[0m         \u001b[39m# Binary mode\u001b[39;00m\n\u001b[1;32m    <a href='file:///Users/ashfi/Library/Caches/pypoetry/virtualenvs/tutorial-1j-2efPE-py3.10/lib/python3.10/site-packages/pandas/io/common.py?line=797'>798</a>\u001b[0m         handle \u001b[39m=\u001b[39m \u001b[39mopen\u001b[39m(handle, ioargs\u001b[39m.\u001b[39mmode)\n",
      "\u001b[0;31mFileNotFoundError\u001b[0m: [Errno 2] No such file or directory: '2014_world_gdp_with_codes.csv'"
     ]
    }
   ],
   "source": [
    "\n",
    "\n",
    "countrydf = pd.read_csv('2014_world_gdp_with_codes.csv')\n",
    "\n",
    "countrydf = countrydf.replace(['West Bank', 'Congo, Democratic Republic of the', 'Congo, Republic of the', 'Hong Kong', 'Macedonia', 'Swaziland', 'Czech Republic'], [\n",
    "                              'Palestinian Territories', 'Congo (Kinshasa)', 'Congo (Brazzaville)', 'Hong Kong S.A.R. of China', 'Northern Macedonia', 'Kingdom of Eswatini', 'Czechia'])\n",
    "countrydf = countrydf.drop('GDP (BILLIONS)', 1)"
   ]
  },
  {
   "cell_type": "code",
   "execution_count": 9,
   "metadata": {},
   "outputs": [
    {
     "name": "stdout",
     "output_type": "stream",
     "text": [
      "Displaying chart at http://localhost:19875/\n"
     ]
    },
    {
     "ename": "KeyboardInterrupt",
     "evalue": "",
     "output_type": "error",
     "traceback": [
      "\u001b[0;31m---------------------------------------------------------------------------\u001b[0m",
      "\u001b[0;31mKeyboardInterrupt\u001b[0m                         Traceback (most recent call last)",
      "\u001b[1;32m/Users/ashfi/code/python/datapane/dataclean.ipynb Cell 7'\u001b[0m in \u001b[0;36m<cell line: 12>\u001b[0;34m()\u001b[0m\n\u001b[1;32m      <a href='vscode-notebook-cell:/Users/ashfi/code/python/datapane/dataclean.ipynb#ch0000006?line=8'>9</a>\u001b[0m input_dropdown \u001b[39m=\u001b[39m alt\u001b[39m.\u001b[39mbinding_select(options\u001b[39m=\u001b[39mcountry_list)\n\u001b[1;32m     <a href='vscode-notebook-cell:/Users/ashfi/code/python/datapane/dataclean.ipynb#ch0000006?line=9'>10</a>\u001b[0m selection \u001b[39m=\u001b[39m alt\u001b[39m.\u001b[39mselection_single(\n\u001b[1;32m     <a href='vscode-notebook-cell:/Users/ashfi/code/python/datapane/dataclean.ipynb#ch0000006?line=10'>11</a>\u001b[0m     fields\u001b[39m=\u001b[39m[\u001b[39m'\u001b[39m\u001b[39mCountry\u001b[39m\u001b[39m'\u001b[39m], bind\u001b[39m=\u001b[39minput_dropdown, name\u001b[39m=\u001b[39m\u001b[39m'\u001b[39m\u001b[39mNation\u001b[39m\u001b[39m'\u001b[39m)\n\u001b[1;32m     <a href='vscode-notebook-cell:/Users/ashfi/code/python/datapane/dataclean.ipynb#ch0000006?line=11'>12</a>\u001b[0m plot1 \u001b[39m=\u001b[39m alt\u001b[39m.\u001b[39;49mChart(df1)\u001b[39m.\u001b[39;49mmark_line()\u001b[39m.\u001b[39;49mencode(\n\u001b[1;32m     <a href='vscode-notebook-cell:/Users/ashfi/code/python/datapane/dataclean.ipynb#ch0000006?line=12'>13</a>\u001b[0m     x\u001b[39m=\u001b[39;49m\u001b[39m'\u001b[39;49m\u001b[39myear:O\u001b[39;49m\u001b[39m'\u001b[39;49m, y\u001b[39m=\u001b[39;49m\u001b[39m'\u001b[39;49m\u001b[39mHappiness Score\u001b[39;49m\u001b[39m'\u001b[39;49m,\n\u001b[1;32m     <a href='vscode-notebook-cell:/Users/ashfi/code/python/datapane/dataclean.ipynb#ch0000006?line=13'>14</a>\u001b[0m     tooltip\u001b[39m=\u001b[39;49m[\u001b[39m'\u001b[39;49m\u001b[39mHappiness Score\u001b[39;49m\u001b[39m'\u001b[39;49m]\n\u001b[1;32m     <a href='vscode-notebook-cell:/Users/ashfi/code/python/datapane/dataclean.ipynb#ch0000006?line=14'>15</a>\u001b[0m )\u001b[39m.\u001b[39;49madd_selection(\n\u001b[1;32m     <a href='vscode-notebook-cell:/Users/ashfi/code/python/datapane/dataclean.ipynb#ch0000006?line=15'>16</a>\u001b[0m     selection\n\u001b[1;32m     <a href='vscode-notebook-cell:/Users/ashfi/code/python/datapane/dataclean.ipynb#ch0000006?line=16'>17</a>\u001b[0m )\u001b[39m.\u001b[39;49mtransform_filter(\n\u001b[1;32m     <a href='vscode-notebook-cell:/Users/ashfi/code/python/datapane/dataclean.ipynb#ch0000006?line=17'>18</a>\u001b[0m     selection\n\u001b[1;32m     <a href='vscode-notebook-cell:/Users/ashfi/code/python/datapane/dataclean.ipynb#ch0000006?line=18'>19</a>\u001b[0m )\u001b[39m.\u001b[39;49mproperties(\n\u001b[1;32m     <a href='vscode-notebook-cell:/Users/ashfi/code/python/datapane/dataclean.ipynb#ch0000006?line=19'>20</a>\u001b[0m     width\u001b[39m=\u001b[39;49m\u001b[39m800\u001b[39;49m,\n\u001b[1;32m     <a href='vscode-notebook-cell:/Users/ashfi/code/python/datapane/dataclean.ipynb#ch0000006?line=20'>21</a>\u001b[0m     height\u001b[39m=\u001b[39;49m\u001b[39m300\u001b[39;49m\n\u001b[0;32m---> <a href='vscode-notebook-cell:/Users/ashfi/code/python/datapane/dataclean.ipynb#ch0000006?line=21'>22</a>\u001b[0m )\u001b[39m.\u001b[39;49minteractive()\u001b[39m.\u001b[39;49mshow()\n\u001b[1;32m     <a href='vscode-notebook-cell:/Users/ashfi/code/python/datapane/dataclean.ipynb#ch0000006?line=23'>24</a>\u001b[0m alt\u001b[39m.\u001b[39mrenderers\u001b[39m.\u001b[39menable(\u001b[39m'\u001b[39m\u001b[39mnotebook\u001b[39m\u001b[39m'\u001b[39m)\n",
      "File \u001b[0;32m~/Library/Caches/pypoetry/virtualenvs/tutorial-1j-2efPE-py3.10/lib/python3.10/site-packages/altair/vegalite/v4/api.py:1795\u001b[0m, in \u001b[0;36mTopLevelMixin.show\u001b[0;34m(self, embed_opt, open_browser)\u001b[0m\n\u001b[1;32m   <a href='file:///Users/ashfi/Library/Caches/pypoetry/virtualenvs/tutorial-1j-2efPE-py3.10/lib/python3.10/site-packages/altair/vegalite/v4/api.py?line=1789'>1790</a>\u001b[0m \u001b[39mexcept\u001b[39;00m \u001b[39mImportError\u001b[39;00m:\n\u001b[1;32m   <a href='file:///Users/ashfi/Library/Caches/pypoetry/virtualenvs/tutorial-1j-2efPE-py3.10/lib/python3.10/site-packages/altair/vegalite/v4/api.py?line=1790'>1791</a>\u001b[0m     \u001b[39mraise\u001b[39;00m \u001b[39mValueError\u001b[39;00m(\n\u001b[1;32m   <a href='file:///Users/ashfi/Library/Caches/pypoetry/virtualenvs/tutorial-1j-2efPE-py3.10/lib/python3.10/site-packages/altair/vegalite/v4/api.py?line=1791'>1792</a>\u001b[0m         \u001b[39m\"\u001b[39m\u001b[39mshow() method requires the altair_viewer package. \u001b[39m\u001b[39m\"\u001b[39m\n\u001b[1;32m   <a href='file:///Users/ashfi/Library/Caches/pypoetry/virtualenvs/tutorial-1j-2efPE-py3.10/lib/python3.10/site-packages/altair/vegalite/v4/api.py?line=1792'>1793</a>\u001b[0m         \u001b[39m\"\u001b[39m\u001b[39mSee http://github.com/altair-viz/altair_viewer\u001b[39m\u001b[39m\"\u001b[39m\n\u001b[1;32m   <a href='file:///Users/ashfi/Library/Caches/pypoetry/virtualenvs/tutorial-1j-2efPE-py3.10/lib/python3.10/site-packages/altair/vegalite/v4/api.py?line=1793'>1794</a>\u001b[0m     )\n\u001b[0;32m-> <a href='file:///Users/ashfi/Library/Caches/pypoetry/virtualenvs/tutorial-1j-2efPE-py3.10/lib/python3.10/site-packages/altair/vegalite/v4/api.py?line=1794'>1795</a>\u001b[0m altair_viewer\u001b[39m.\u001b[39;49mshow(\u001b[39mself\u001b[39;49m, embed_opt\u001b[39m=\u001b[39;49membed_opt, open_browser\u001b[39m=\u001b[39;49mopen_browser)\n",
      "File \u001b[0;32m~/Library/Caches/pypoetry/virtualenvs/tutorial-1j-2efPE-py3.10/lib/python3.10/site-packages/altair_viewer/_viewer.py:358\u001b[0m, in \u001b[0;36mChartViewer.show\u001b[0;34m(self, chart, embed_opt, open_browser)\u001b[0m\n\u001b[1;32m    <a href='file:///Users/ashfi/Library/Caches/pypoetry/virtualenvs/tutorial-1j-2efPE-py3.10/lib/python3.10/site-packages/altair_viewer/_viewer.py?line=355'>356</a>\u001b[0m \u001b[39mprint\u001b[39m(msg)\n\u001b[1;32m    <a href='file:///Users/ashfi/Library/Caches/pypoetry/virtualenvs/tutorial-1j-2efPE-py3.10/lib/python3.10/site-packages/altair_viewer/_viewer.py?line=356'>357</a>\u001b[0m \u001b[39mif\u001b[39;00m \u001b[39mself\u001b[39m\u001b[39m.\u001b[39m_provider \u001b[39mis\u001b[39;00m \u001b[39mnot\u001b[39;00m \u001b[39mNone\u001b[39;00m:\n\u001b[0;32m--> <a href='file:///Users/ashfi/Library/Caches/pypoetry/virtualenvs/tutorial-1j-2efPE-py3.10/lib/python3.10/site-packages/altair_viewer/_viewer.py?line=357'>358</a>\u001b[0m     \u001b[39mself\u001b[39;49m\u001b[39m.\u001b[39;49m_provider\u001b[39m.\u001b[39;49m_disconnect_event\u001b[39m.\u001b[39;49mwait()\n",
      "File \u001b[0;32m/opt/homebrew/Cellar/python@3.10/3.10.4/Frameworks/Python.framework/Versions/3.10/lib/python3.10/threading.py:600\u001b[0m, in \u001b[0;36mEvent.wait\u001b[0;34m(self, timeout)\u001b[0m\n\u001b[1;32m    <a href='file:///opt/homebrew/Cellar/python%403.10/3.10.4/Frameworks/Python.framework/Versions/3.10/lib/python3.10/threading.py?line=597'>598</a>\u001b[0m signaled \u001b[39m=\u001b[39m \u001b[39mself\u001b[39m\u001b[39m.\u001b[39m_flag\n\u001b[1;32m    <a href='file:///opt/homebrew/Cellar/python%403.10/3.10.4/Frameworks/Python.framework/Versions/3.10/lib/python3.10/threading.py?line=598'>599</a>\u001b[0m \u001b[39mif\u001b[39;00m \u001b[39mnot\u001b[39;00m signaled:\n\u001b[0;32m--> <a href='file:///opt/homebrew/Cellar/python%403.10/3.10.4/Frameworks/Python.framework/Versions/3.10/lib/python3.10/threading.py?line=599'>600</a>\u001b[0m     signaled \u001b[39m=\u001b[39m \u001b[39mself\u001b[39;49m\u001b[39m.\u001b[39;49m_cond\u001b[39m.\u001b[39;49mwait(timeout)\n\u001b[1;32m    <a href='file:///opt/homebrew/Cellar/python%403.10/3.10.4/Frameworks/Python.framework/Versions/3.10/lib/python3.10/threading.py?line=600'>601</a>\u001b[0m \u001b[39mreturn\u001b[39;00m signaled\n",
      "File \u001b[0;32m/opt/homebrew/Cellar/python@3.10/3.10.4/Frameworks/Python.framework/Versions/3.10/lib/python3.10/threading.py:320\u001b[0m, in \u001b[0;36mCondition.wait\u001b[0;34m(self, timeout)\u001b[0m\n\u001b[1;32m    <a href='file:///opt/homebrew/Cellar/python%403.10/3.10.4/Frameworks/Python.framework/Versions/3.10/lib/python3.10/threading.py?line=317'>318</a>\u001b[0m \u001b[39mtry\u001b[39;00m:    \u001b[39m# restore state no matter what (e.g., KeyboardInterrupt)\u001b[39;00m\n\u001b[1;32m    <a href='file:///opt/homebrew/Cellar/python%403.10/3.10.4/Frameworks/Python.framework/Versions/3.10/lib/python3.10/threading.py?line=318'>319</a>\u001b[0m     \u001b[39mif\u001b[39;00m timeout \u001b[39mis\u001b[39;00m \u001b[39mNone\u001b[39;00m:\n\u001b[0;32m--> <a href='file:///opt/homebrew/Cellar/python%403.10/3.10.4/Frameworks/Python.framework/Versions/3.10/lib/python3.10/threading.py?line=319'>320</a>\u001b[0m         waiter\u001b[39m.\u001b[39;49macquire()\n\u001b[1;32m    <a href='file:///opt/homebrew/Cellar/python%403.10/3.10.4/Frameworks/Python.framework/Versions/3.10/lib/python3.10/threading.py?line=320'>321</a>\u001b[0m         gotit \u001b[39m=\u001b[39m \u001b[39mTrue\u001b[39;00m\n\u001b[1;32m    <a href='file:///opt/homebrew/Cellar/python%403.10/3.10.4/Frameworks/Python.framework/Versions/3.10/lib/python3.10/threading.py?line=321'>322</a>\u001b[0m     \u001b[39melse\u001b[39;00m:\n",
      "\u001b[0;31mKeyboardInterrupt\u001b[0m: "
     ]
    }
   ],
   "source": [
    "import altair as alt\n",
    "import datapane as dp\n",
    "import pandas as pd\n",
    "import os as os\n",
    "\n",
    "df1 = pd.read_csv('updatedreport.csv')\n",
    "\n",
    "country_list = list(df1['Country'].unique())\n",
    "input_dropdown = alt.binding_select(options=country_list)\n",
    "selection = alt.selection_single(\n",
    "    fields=['Country'], bind=input_dropdown, name='Nation')\n",
    "plot1 = alt.Chart(df1).mark_line().encode(\n",
    "    x='year:O', y='Happiness Score',\n",
    "    tooltip=['Happiness Score']\n",
    ").add_selection(\n",
    "    selection\n",
    ").transform_filter(\n",
    "    selection\n",
    ").properties(\n",
    "    width=800,\n",
    "    height=300\n",
    ").interactive().show()\n",
    "\n",
    "alt.renderers.enable('notebook')\n"
   ]
  },
  {
   "cell_type": "code",
   "execution_count": 10,
   "metadata": {},
   "outputs": [
    {
     "name": "stdout",
     "output_type": "stream",
     "text": [
      "Displaying chart at http://localhost:19875/\n"
     ]
    },
    {
     "ename": "KeyboardInterrupt",
     "evalue": "",
     "output_type": "error",
     "traceback": [
      "\u001b[0;31m---------------------------------------------------------------------------\u001b[0m",
      "\u001b[0;31mKeyboardInterrupt\u001b[0m                         Traceback (most recent call last)",
      "\u001b[1;32m/Users/ashfi/code/python/datapane/dataclean.ipynb Cell 8'\u001b[0m in \u001b[0;36m<cell line: 7>\u001b[0;34m()\u001b[0m\n\u001b[1;32m      <a href='vscode-notebook-cell:/Users/ashfi/code/python/datapane/dataclean.ipynb#ch0000007?line=2'>3</a>\u001b[0m \u001b[39mimport\u001b[39;00m \u001b[39mpandas\u001b[39;00m \u001b[39mas\u001b[39;00m \u001b[39mpd\u001b[39;00m\n\u001b[1;32m      <a href='vscode-notebook-cell:/Users/ashfi/code/python/datapane/dataclean.ipynb#ch0000007?line=3'>4</a>\u001b[0m \u001b[39mimport\u001b[39;00m \u001b[39mos\u001b[39;00m \u001b[39mas\u001b[39;00m \u001b[39mos\u001b[39;00m\n\u001b[1;32m      <a href='vscode-notebook-cell:/Users/ashfi/code/python/datapane/dataclean.ipynb#ch0000007?line=6'>7</a>\u001b[0m alt\u001b[39m.\u001b[39;49mChart(df1)\u001b[39m.\u001b[39;49mmark_line()\u001b[39m.\u001b[39;49mencode(\n\u001b[1;32m      <a href='vscode-notebook-cell:/Users/ashfi/code/python/datapane/dataclean.ipynb#ch0000007?line=7'>8</a>\u001b[0m     x\u001b[39m=\u001b[39;49m\u001b[39m'\u001b[39;49m\u001b[39myear:O\u001b[39;49m\u001b[39m'\u001b[39;49m,\n\u001b[1;32m      <a href='vscode-notebook-cell:/Users/ashfi/code/python/datapane/dataclean.ipynb#ch0000007?line=8'>9</a>\u001b[0m     y\u001b[39m=\u001b[39;49m\u001b[39m'\u001b[39;49m\u001b[39mHappiness Score\u001b[39;49m\u001b[39m'\u001b[39;49m,\n\u001b[1;32m     <a href='vscode-notebook-cell:/Users/ashfi/code/python/datapane/dataclean.ipynb#ch0000007?line=9'>10</a>\u001b[0m     color\u001b[39m=\u001b[39;49m\u001b[39m'\u001b[39;49m\u001b[39mCountry\u001b[39;49m\u001b[39m'\u001b[39;49m,\n\u001b[1;32m     <a href='vscode-notebook-cell:/Users/ashfi/code/python/datapane/dataclean.ipynb#ch0000007?line=10'>11</a>\u001b[0m )\u001b[39m.\u001b[39;49mproperties(\n\u001b[1;32m     <a href='vscode-notebook-cell:/Users/ashfi/code/python/datapane/dataclean.ipynb#ch0000007?line=11'>12</a>\u001b[0m     width\u001b[39m=\u001b[39;49m\u001b[39m800\u001b[39;49m,\n\u001b[1;32m     <a href='vscode-notebook-cell:/Users/ashfi/code/python/datapane/dataclean.ipynb#ch0000007?line=12'>13</a>\u001b[0m     height\u001b[39m=\u001b[39;49m\u001b[39m300\u001b[39;49m\n\u001b[0;32m---> <a href='vscode-notebook-cell:/Users/ashfi/code/python/datapane/dataclean.ipynb#ch0000007?line=13'>14</a>\u001b[0m )\u001b[39m.\u001b[39;49minteractive()\u001b[39m.\u001b[39;49mshow()\n",
      "File \u001b[0;32m~/Library/Caches/pypoetry/virtualenvs/tutorial-1j-2efPE-py3.10/lib/python3.10/site-packages/altair/vegalite/v4/api.py:1795\u001b[0m, in \u001b[0;36mTopLevelMixin.show\u001b[0;34m(self, embed_opt, open_browser)\u001b[0m\n\u001b[1;32m   <a href='file:///Users/ashfi/Library/Caches/pypoetry/virtualenvs/tutorial-1j-2efPE-py3.10/lib/python3.10/site-packages/altair/vegalite/v4/api.py?line=1789'>1790</a>\u001b[0m \u001b[39mexcept\u001b[39;00m \u001b[39mImportError\u001b[39;00m:\n\u001b[1;32m   <a href='file:///Users/ashfi/Library/Caches/pypoetry/virtualenvs/tutorial-1j-2efPE-py3.10/lib/python3.10/site-packages/altair/vegalite/v4/api.py?line=1790'>1791</a>\u001b[0m     \u001b[39mraise\u001b[39;00m \u001b[39mValueError\u001b[39;00m(\n\u001b[1;32m   <a href='file:///Users/ashfi/Library/Caches/pypoetry/virtualenvs/tutorial-1j-2efPE-py3.10/lib/python3.10/site-packages/altair/vegalite/v4/api.py?line=1791'>1792</a>\u001b[0m         \u001b[39m\"\u001b[39m\u001b[39mshow() method requires the altair_viewer package. \u001b[39m\u001b[39m\"\u001b[39m\n\u001b[1;32m   <a href='file:///Users/ashfi/Library/Caches/pypoetry/virtualenvs/tutorial-1j-2efPE-py3.10/lib/python3.10/site-packages/altair/vegalite/v4/api.py?line=1792'>1793</a>\u001b[0m         \u001b[39m\"\u001b[39m\u001b[39mSee http://github.com/altair-viz/altair_viewer\u001b[39m\u001b[39m\"\u001b[39m\n\u001b[1;32m   <a href='file:///Users/ashfi/Library/Caches/pypoetry/virtualenvs/tutorial-1j-2efPE-py3.10/lib/python3.10/site-packages/altair/vegalite/v4/api.py?line=1793'>1794</a>\u001b[0m     )\n\u001b[0;32m-> <a href='file:///Users/ashfi/Library/Caches/pypoetry/virtualenvs/tutorial-1j-2efPE-py3.10/lib/python3.10/site-packages/altair/vegalite/v4/api.py?line=1794'>1795</a>\u001b[0m altair_viewer\u001b[39m.\u001b[39;49mshow(\u001b[39mself\u001b[39;49m, embed_opt\u001b[39m=\u001b[39;49membed_opt, open_browser\u001b[39m=\u001b[39;49mopen_browser)\n",
      "File \u001b[0;32m~/Library/Caches/pypoetry/virtualenvs/tutorial-1j-2efPE-py3.10/lib/python3.10/site-packages/altair_viewer/_viewer.py:358\u001b[0m, in \u001b[0;36mChartViewer.show\u001b[0;34m(self, chart, embed_opt, open_browser)\u001b[0m\n\u001b[1;32m    <a href='file:///Users/ashfi/Library/Caches/pypoetry/virtualenvs/tutorial-1j-2efPE-py3.10/lib/python3.10/site-packages/altair_viewer/_viewer.py?line=355'>356</a>\u001b[0m \u001b[39mprint\u001b[39m(msg)\n\u001b[1;32m    <a href='file:///Users/ashfi/Library/Caches/pypoetry/virtualenvs/tutorial-1j-2efPE-py3.10/lib/python3.10/site-packages/altair_viewer/_viewer.py?line=356'>357</a>\u001b[0m \u001b[39mif\u001b[39;00m \u001b[39mself\u001b[39m\u001b[39m.\u001b[39m_provider \u001b[39mis\u001b[39;00m \u001b[39mnot\u001b[39;00m \u001b[39mNone\u001b[39;00m:\n\u001b[0;32m--> <a href='file:///Users/ashfi/Library/Caches/pypoetry/virtualenvs/tutorial-1j-2efPE-py3.10/lib/python3.10/site-packages/altair_viewer/_viewer.py?line=357'>358</a>\u001b[0m     \u001b[39mself\u001b[39;49m\u001b[39m.\u001b[39;49m_provider\u001b[39m.\u001b[39;49m_disconnect_event\u001b[39m.\u001b[39;49mwait()\n",
      "File \u001b[0;32m/opt/homebrew/Cellar/python@3.10/3.10.4/Frameworks/Python.framework/Versions/3.10/lib/python3.10/threading.py:600\u001b[0m, in \u001b[0;36mEvent.wait\u001b[0;34m(self, timeout)\u001b[0m\n\u001b[1;32m    <a href='file:///opt/homebrew/Cellar/python%403.10/3.10.4/Frameworks/Python.framework/Versions/3.10/lib/python3.10/threading.py?line=597'>598</a>\u001b[0m signaled \u001b[39m=\u001b[39m \u001b[39mself\u001b[39m\u001b[39m.\u001b[39m_flag\n\u001b[1;32m    <a href='file:///opt/homebrew/Cellar/python%403.10/3.10.4/Frameworks/Python.framework/Versions/3.10/lib/python3.10/threading.py?line=598'>599</a>\u001b[0m \u001b[39mif\u001b[39;00m \u001b[39mnot\u001b[39;00m signaled:\n\u001b[0;32m--> <a href='file:///opt/homebrew/Cellar/python%403.10/3.10.4/Frameworks/Python.framework/Versions/3.10/lib/python3.10/threading.py?line=599'>600</a>\u001b[0m     signaled \u001b[39m=\u001b[39m \u001b[39mself\u001b[39;49m\u001b[39m.\u001b[39;49m_cond\u001b[39m.\u001b[39;49mwait(timeout)\n\u001b[1;32m    <a href='file:///opt/homebrew/Cellar/python%403.10/3.10.4/Frameworks/Python.framework/Versions/3.10/lib/python3.10/threading.py?line=600'>601</a>\u001b[0m \u001b[39mreturn\u001b[39;00m signaled\n",
      "File \u001b[0;32m/opt/homebrew/Cellar/python@3.10/3.10.4/Frameworks/Python.framework/Versions/3.10/lib/python3.10/threading.py:320\u001b[0m, in \u001b[0;36mCondition.wait\u001b[0;34m(self, timeout)\u001b[0m\n\u001b[1;32m    <a href='file:///opt/homebrew/Cellar/python%403.10/3.10.4/Frameworks/Python.framework/Versions/3.10/lib/python3.10/threading.py?line=317'>318</a>\u001b[0m \u001b[39mtry\u001b[39;00m:    \u001b[39m# restore state no matter what (e.g., KeyboardInterrupt)\u001b[39;00m\n\u001b[1;32m    <a href='file:///opt/homebrew/Cellar/python%403.10/3.10.4/Frameworks/Python.framework/Versions/3.10/lib/python3.10/threading.py?line=318'>319</a>\u001b[0m     \u001b[39mif\u001b[39;00m timeout \u001b[39mis\u001b[39;00m \u001b[39mNone\u001b[39;00m:\n\u001b[0;32m--> <a href='file:///opt/homebrew/Cellar/python%403.10/3.10.4/Frameworks/Python.framework/Versions/3.10/lib/python3.10/threading.py?line=319'>320</a>\u001b[0m         waiter\u001b[39m.\u001b[39;49macquire()\n\u001b[1;32m    <a href='file:///opt/homebrew/Cellar/python%403.10/3.10.4/Frameworks/Python.framework/Versions/3.10/lib/python3.10/threading.py?line=320'>321</a>\u001b[0m         gotit \u001b[39m=\u001b[39m \u001b[39mTrue\u001b[39;00m\n\u001b[1;32m    <a href='file:///opt/homebrew/Cellar/python%403.10/3.10.4/Frameworks/Python.framework/Versions/3.10/lib/python3.10/threading.py?line=321'>322</a>\u001b[0m     \u001b[39melse\u001b[39;00m:\n",
      "\u001b[0;31mKeyboardInterrupt\u001b[0m: "
     ]
    }
   ],
   "source": [
    "import altair as alt\n",
    "import datapane as dp\n",
    "import pandas as pd\n",
    "import os as os\n",
    "\n",
    "\n",
    "alt.Chart(df1).mark_line().encode(\n",
    "    x='year:O',\n",
    "    y='Happiness Score',\n",
    "    color='Country',\n",
    ").properties(\n",
    "    width=800,\n",
    "    height=300\n",
    ").interactive().show()\n"
   ]
  },
  {
   "cell_type": "code",
   "execution_count": 2,
   "metadata": {},
   "outputs": [
    {
     "data": {
      "application/vnd.plotly.v1+json": {
       "config": {
        "plotlyServerURL": "https://plot.ly"
       },
       "data": [
        {
         "hovertemplate": "<b>%{hovertext}</b><br><br>Region=Western Europe<br>year=%{x}<br>Happiness Score=%{y}<extra></extra>",
         "hovertext": [
          "Switzerland",
          "Iceland",
          "Denmark",
          "Norway",
          "Finland",
          "Netherlands",
          "Sweden",
          "Austria",
          "Luxembourg",
          "Ireland",
          "Belgium",
          "United Kingdom",
          "Germany",
          "France",
          "Spain",
          "Malta",
          "Italy",
          "Northern Cyprus",
          "Cyprus",
          "Portugal",
          "Greece"
         ],
         "ids": [
          "Switzerland",
          "Iceland",
          "Denmark",
          "Norway",
          "Finland",
          "Netherlands",
          "Sweden",
          "Austria",
          "Luxembourg",
          "Ireland",
          "Belgium",
          "United Kingdom",
          "Germany",
          "France",
          "Spain",
          "Malta",
          "Italy",
          "Northern Cyprus",
          "Cyprus",
          "Portugal",
          "Greece"
         ],
         "legendgroup": "Western Europe",
         "marker": {
          "color": "#636efa",
          "symbol": "circle"
         },
         "mode": "markers",
         "name": "Western Europe",
         "orientation": "v",
         "showlegend": true,
         "type": "scatter",
         "x": [
          2015,
          2015,
          2015,
          2015,
          2015,
          2015,
          2015,
          2015,
          2015,
          2015,
          2015,
          2015,
          2015,
          2015,
          2015,
          2015,
          2015,
          2015,
          2015,
          2015,
          2015
         ],
         "xaxis": "x",
         "y": [
          7.587,
          7.561,
          7.527,
          7.522,
          7.406,
          7.378,
          7.364,
          7.2,
          6.946,
          6.94,
          6.937,
          6.867,
          6.75,
          6.575,
          6.329,
          6.302,
          5.948,
          5.695,
          5.689,
          5.102,
          4.857
         ],
         "yaxis": "y"
        },
        {
         "hovertemplate": "<b>%{hovertext}</b><br><br>Region=North America<br>year=%{x}<br>Happiness Score=%{y}<extra></extra>",
         "hovertext": [
          "Canada",
          "United States"
         ],
         "ids": [
          "Canada",
          "United States"
         ],
         "legendgroup": "North America",
         "marker": {
          "color": "#EF553B",
          "symbol": "circle"
         },
         "mode": "markers",
         "name": "North America",
         "orientation": "v",
         "showlegend": true,
         "type": "scatter",
         "x": [
          2015,
          2015
         ],
         "xaxis": "x",
         "y": [
          7.427,
          7.119
         ],
         "yaxis": "y"
        },
        {
         "hovertemplate": "<b>%{hovertext}</b><br><br>Region=Oceania<br>year=%{x}<br>Happiness Score=%{y}<extra></extra>",
         "hovertext": [
          "New Zealand",
          "Australia"
         ],
         "ids": [
          "New Zealand",
          "Australia"
         ],
         "legendgroup": "Oceania",
         "marker": {
          "color": "#00cc96",
          "symbol": "circle"
         },
         "mode": "markers",
         "name": "Oceania",
         "orientation": "v",
         "showlegend": true,
         "type": "scatter",
         "x": [
          2015,
          2015
         ],
         "xaxis": "x",
         "y": [
          7.286,
          7.284
         ],
         "yaxis": "y"
        },
        {
         "hovertemplate": "<b>%{hovertext}</b><br><br>Region=Middle East and North Africa<br>year=%{x}<br>Happiness Score=%{y}<extra></extra>",
         "hovertext": [
          "Israel",
          "United Arab Emirates",
          "Oman",
          "Qatar",
          "Saudi Arabia",
          "Kuwait",
          "Bahrain",
          "Libya",
          "Algeria",
          "Turkey",
          "Jordan",
          "Morocco",
          "Lebanon",
          "Tunisia",
          "Palestinian Territories",
          "Iran",
          "Iraq",
          "Egypt",
          "Yemen",
          "Syria"
         ],
         "ids": [
          "Israel",
          "United Arab Emirates",
          "Oman",
          "Qatar",
          "Saudi Arabia",
          "Kuwait",
          "Bahrain",
          "Libya",
          "Algeria",
          "Turkey",
          "Jordan",
          "Morocco",
          "Lebanon",
          "Tunisia",
          "Palestinian Territories",
          "Iran",
          "Iraq",
          "Egypt",
          "Yemen",
          "Syria"
         ],
         "legendgroup": "Middle East and North Africa",
         "marker": {
          "color": "#ab63fa",
          "symbol": "circle"
         },
         "mode": "markers",
         "name": "Middle East and North Africa",
         "orientation": "v",
         "showlegend": true,
         "type": "scatter",
         "x": [
          2015,
          2015,
          2015,
          2015,
          2015,
          2015,
          2015,
          2015,
          2015,
          2015,
          2015,
          2015,
          2015,
          2015,
          2015,
          2015,
          2015,
          2015,
          2015,
          2015
         ],
         "xaxis": "x",
         "y": [
          7.278,
          6.901,
          6.853,
          6.611,
          6.411,
          6.295,
          5.96,
          5.754,
          5.605,
          5.332,
          5.192,
          5.013,
          4.839,
          4.739,
          4.715,
          4.686,
          4.677,
          4.194,
          4.077,
          3.006
         ],
         "yaxis": "y"
        },
        {
         "hovertemplate": "<b>%{hovertext}</b><br><br>Region=Latin America and Caribbean<br>year=%{x}<br>Happiness Score=%{y}<extra></extra>",
         "hovertext": [
          "Costa Rica",
          "Mexico",
          "Brazil",
          "Venezuela",
          "Panama",
          "Chile",
          "Argentina",
          "Uruguay",
          "Colombia",
          "Suriname",
          "Trinidad and Tobago",
          "El Salvador",
          "Guatemala",
          "Ecuador",
          "Bolivia",
          "Paraguay",
          "Nicaragua",
          "Peru",
          "Jamaica",
          "Dominican Republic",
          "Honduras",
          "Haiti"
         ],
         "ids": [
          "Costa Rica",
          "Mexico",
          "Brazil",
          "Venezuela",
          "Panama",
          "Chile",
          "Argentina",
          "Uruguay",
          "Colombia",
          "Suriname",
          "Trinidad and Tobago",
          "El Salvador",
          "Guatemala",
          "Ecuador",
          "Bolivia",
          "Paraguay",
          "Nicaragua",
          "Peru",
          "Jamaica",
          "Dominican Republic",
          "Honduras",
          "Haiti"
         ],
         "legendgroup": "Latin America and Caribbean",
         "marker": {
          "color": "#FFA15A",
          "symbol": "circle"
         },
         "mode": "markers",
         "name": "Latin America and Caribbean",
         "orientation": "v",
         "showlegend": true,
         "type": "scatter",
         "x": [
          2015,
          2015,
          2015,
          2015,
          2015,
          2015,
          2015,
          2015,
          2015,
          2015,
          2015,
          2015,
          2015,
          2015,
          2015,
          2015,
          2015,
          2015,
          2015,
          2015,
          2015,
          2015
         ],
         "xaxis": "x",
         "y": [
          7.226,
          7.187,
          6.983,
          6.81,
          6.786,
          6.67,
          6.574,
          6.485,
          6.477,
          6.269,
          6.168,
          6.13,
          6.123,
          5.975,
          5.89,
          5.878,
          5.828,
          5.824,
          5.709,
          4.885,
          4.788,
          4.518
         ],
         "yaxis": "y"
        },
        {
         "hovertemplate": "<b>%{hovertext}</b><br><br>Region=Southeast Asia<br>year=%{x}<br>Happiness Score=%{y}<extra></extra>",
         "hovertext": [
          "Singapore",
          "Thailand",
          "Malaysia",
          "Indonesia",
          "Vietnam",
          "Philippines",
          "Laos",
          "Myanmar",
          "Cambodia"
         ],
         "ids": [
          "Singapore",
          "Thailand",
          "Malaysia",
          "Indonesia",
          "Vietnam",
          "Philippines",
          "Laos",
          "Myanmar",
          "Cambodia"
         ],
         "legendgroup": "Southeast Asia",
         "marker": {
          "color": "#19d3f3",
          "symbol": "circle"
         },
         "mode": "markers",
         "name": "Southeast Asia",
         "orientation": "v",
         "showlegend": true,
         "type": "scatter",
         "x": [
          2015,
          2015,
          2015,
          2015,
          2015,
          2015,
          2015,
          2015,
          2015
         ],
         "xaxis": "x",
         "y": [
          6.798,
          6.455,
          5.77,
          5.399,
          5.36,
          5.073,
          4.876,
          4.307,
          3.819
         ],
         "yaxis": "y"
        },
        {
         "hovertemplate": "<b>%{hovertext}</b><br><br>Region=Central and Eastern Europe<br>year=%{x}<br>Happiness Score=%{y}<extra></extra>",
         "hovertext": [
          "Czechia",
          "Slovakia",
          "Slovenia",
          "Lithuania",
          "Poland",
          "Croatia",
          "Kosovo",
          "Estonia",
          "Montenegro",
          "Romania",
          "Serbia",
          "Latvia",
          "North Macedonia",
          "Albania",
          "Bosnia and Herzegovina",
          "Hungary",
          "Bulgaria"
         ],
         "ids": [
          "Czechia",
          "Slovakia",
          "Slovenia",
          "Lithuania",
          "Poland",
          "Croatia",
          "Kosovo",
          "Estonia",
          "Montenegro",
          "Romania",
          "Serbia",
          "Latvia",
          "North Macedonia",
          "Albania",
          "Bosnia and Herzegovina",
          "Hungary",
          "Bulgaria"
         ],
         "legendgroup": "Central and Eastern Europe",
         "marker": {
          "color": "#FF6692",
          "symbol": "circle"
         },
         "mode": "markers",
         "name": "Central and Eastern Europe",
         "orientation": "v",
         "showlegend": true,
         "type": "scatter",
         "x": [
          2015,
          2015,
          2015,
          2015,
          2015,
          2015,
          2015,
          2015,
          2015,
          2015,
          2015,
          2015,
          2015,
          2015,
          2015,
          2015,
          2015
         ],
         "xaxis": "x",
         "y": [
          6.505,
          5.995,
          5.848,
          5.833,
          5.791,
          5.759,
          5.589,
          5.429,
          5.192,
          5.124,
          5.123,
          5.098,
          5.007,
          4.959,
          4.949,
          4.8,
          4.218
         ],
         "yaxis": "y"
        },
        {
         "hovertemplate": "<b>%{hovertext}</b><br><br>Region=East Asia<br>year=%{x}<br>Happiness Score=%{y}<extra></extra>",
         "hovertext": [
          "Taiwan",
          "Japan",
          "South Korea",
          "Hong Kong S.A.R. of China",
          "China",
          "Mongolia"
         ],
         "ids": [
          "Taiwan",
          "Japan",
          "South Korea",
          "Hong Kong S.A.R. of China",
          "China",
          "Mongolia"
         ],
         "legendgroup": "East Asia",
         "marker": {
          "color": "#B6E880",
          "symbol": "circle"
         },
         "mode": "markers",
         "name": "East Asia",
         "orientation": "v",
         "showlegend": true,
         "type": "scatter",
         "x": [
          2015,
          2015,
          2015,
          2015,
          2015,
          2015
         ],
         "xaxis": "x",
         "y": [
          6.298,
          5.987,
          5.984,
          5.474,
          5.14,
          4.874
         ],
         "yaxis": "y"
        },
        {
         "hovertemplate": "<b>%{hovertext}</b><br><br>Region=Commonwealth of Independent States<br>year=%{x}<br>Happiness Score=%{y}<extra></extra>",
         "hovertext": [
          "Uzbekistan",
          "Moldova",
          "Kazakhstan",
          "Belarus",
          "Russia",
          "Turkmenistan",
          "Kyrgyzstan",
          "Azerbaijan",
          "Tajikistan",
          "Ukraine",
          "Armenia",
          "Georgia"
         ],
         "ids": [
          "Uzbekistan",
          "Moldova",
          "Kazakhstan",
          "Belarus",
          "Russia",
          "Turkmenistan",
          "Kyrgyzstan",
          "Azerbaijan",
          "Tajikistan",
          "Ukraine",
          "Armenia",
          "Georgia"
         ],
         "legendgroup": "Commonwealth of Independent States",
         "marker": {
          "color": "#FF97FF",
          "symbol": "circle"
         },
         "mode": "markers",
         "name": "Commonwealth of Independent States",
         "orientation": "v",
         "showlegend": true,
         "type": "scatter",
         "x": [
          2015,
          2015,
          2015,
          2015,
          2015,
          2015,
          2015,
          2015,
          2015,
          2015,
          2015,
          2015
         ],
         "xaxis": "x",
         "y": [
          6.003,
          5.889,
          5.855,
          5.813,
          5.716,
          5.548,
          5.286,
          5.212,
          4.786,
          4.681,
          4.35,
          4.297
         ],
         "yaxis": "y"
        },
        {
         "hovertemplate": "<b>%{hovertext}</b><br><br>Region=Sub-Saharan Africa<br>year=%{x}<br>Happiness Score=%{y}<extra></extra>",
         "hovertext": [
          "Mauritius",
          "Nigeria",
          "Zambia",
          "Somaliland region",
          "Mozambique",
          "Lesotho",
          "Kingdom of Eswatini ",
          "South Africa",
          "Ghana",
          "Zimbabwe",
          "Liberia",
          "Sudan",
          "Congo (Kinshasa)",
          "Ethiopia",
          "Sierra Leone",
          "Mauritania",
          "Kenya",
          "Djibouti",
          "Botswana",
          "Malawi",
          "Cameroon",
          "Angola",
          "Mali",
          "Congo (Brazzaville)",
          "Comoros",
          "Uganda",
          "Senegal",
          "Gabon",
          "Niger",
          "Tanzania",
          "Madagascar",
          "Central African Republic",
          "Chad",
          "Guinea",
          "Ivory Coast",
          "Burkina Faso",
          "Rwanda",
          "Benin",
          "Burundi",
          "Togo"
         ],
         "ids": [
          "Mauritius",
          "Nigeria",
          "Zambia",
          "Somaliland region",
          "Mozambique",
          "Lesotho",
          "Kingdom of Eswatini ",
          "South Africa",
          "Ghana",
          "Zimbabwe",
          "Liberia",
          "Sudan",
          "Congo (Kinshasa)",
          "Ethiopia",
          "Sierra Leone",
          "Mauritania",
          "Kenya",
          "Djibouti",
          "Botswana",
          "Malawi",
          "Cameroon",
          "Angola",
          "Mali",
          "Congo (Brazzaville)",
          "Comoros",
          "Uganda",
          "Senegal",
          "Gabon",
          "Niger",
          "Tanzania",
          "Madagascar",
          "Central African Republic",
          "Chad",
          "Guinea",
          "Ivory Coast",
          "Burkina Faso",
          "Rwanda",
          "Benin",
          "Burundi",
          "Togo"
         ],
         "legendgroup": "Sub-Saharan Africa",
         "marker": {
          "color": "#FECB52",
          "symbol": "circle"
         },
         "mode": "markers",
         "name": "Sub-Saharan Africa",
         "orientation": "v",
         "showlegend": true,
         "type": "scatter",
         "x": [
          2015,
          2015,
          2015,
          2015,
          2015,
          2015,
          2015,
          2015,
          2015,
          2015,
          2015,
          2015,
          2015,
          2015,
          2015,
          2015,
          2015,
          2015,
          2015,
          2015,
          2015,
          2015,
          2015,
          2015,
          2015,
          2015,
          2015,
          2015,
          2015,
          2015,
          2015,
          2015,
          2015,
          2015,
          2015,
          2015,
          2015,
          2015,
          2015,
          2015
         ],
         "xaxis": "x",
         "y": [
          5.477,
          5.268,
          5.129,
          5.057,
          4.971,
          4.898,
          4.867,
          4.642,
          4.633,
          4.61,
          4.571,
          4.55,
          4.517,
          4.512,
          4.507,
          4.436,
          4.419,
          4.369,
          4.332,
          4.292,
          4.252,
          4.033,
          3.995,
          3.989,
          3.956,
          3.931,
          3.904,
          3.896,
          3.845,
          3.781,
          3.681,
          3.678,
          3.667,
          3.656,
          3.655,
          3.587,
          3.465,
          3.34,
          2.905,
          2.839
         ],
         "yaxis": "y"
        },
        {
         "hovertemplate": "<b>%{hovertext}</b><br><br>Region=South Asia<br>year=%{x}<br>Happiness Score=%{y}<extra></extra>",
         "hovertext": [
          "Bhutan",
          "Pakistan",
          "Bangladesh",
          "India",
          "Nepal",
          "Sri Lanka",
          "Afghanistan"
         ],
         "ids": [
          "Bhutan",
          "Pakistan",
          "Bangladesh",
          "India",
          "Nepal",
          "Sri Lanka",
          "Afghanistan"
         ],
         "legendgroup": "South Asia",
         "marker": {
          "color": "#636efa",
          "symbol": "circle"
         },
         "mode": "markers",
         "name": "South Asia",
         "orientation": "v",
         "showlegend": true,
         "type": "scatter",
         "x": [
          2015,
          2015,
          2015,
          2015,
          2015,
          2015,
          2015
         ],
         "xaxis": "x",
         "y": [
          5.253,
          5.194,
          4.694,
          4.565,
          4.514,
          4.271,
          3.575
         ],
         "yaxis": "y"
        }
       ],
       "frames": [
        {
         "data": [
          {
           "hovertemplate": "<b>%{hovertext}</b><br><br>Region=Western Europe<br>year=%{x}<br>Happiness Score=%{y}<extra></extra>",
           "hovertext": [
            "Switzerland",
            "Iceland",
            "Denmark",
            "Norway",
            "Finland",
            "Netherlands",
            "Sweden",
            "Austria",
            "Luxembourg",
            "Ireland",
            "Belgium",
            "United Kingdom",
            "Germany",
            "France",
            "Spain",
            "Malta",
            "Italy",
            "Northern Cyprus",
            "Cyprus",
            "Portugal",
            "Greece"
           ],
           "ids": [
            "Switzerland",
            "Iceland",
            "Denmark",
            "Norway",
            "Finland",
            "Netherlands",
            "Sweden",
            "Austria",
            "Luxembourg",
            "Ireland",
            "Belgium",
            "United Kingdom",
            "Germany",
            "France",
            "Spain",
            "Malta",
            "Italy",
            "Northern Cyprus",
            "Cyprus",
            "Portugal",
            "Greece"
           ],
           "legendgroup": "Western Europe",
           "marker": {
            "color": "#636efa",
            "symbol": "circle"
           },
           "mode": "markers",
           "name": "Western Europe",
           "orientation": "v",
           "showlegend": true,
           "type": "scatter",
           "x": [
            2015,
            2015,
            2015,
            2015,
            2015,
            2015,
            2015,
            2015,
            2015,
            2015,
            2015,
            2015,
            2015,
            2015,
            2015,
            2015,
            2015,
            2015,
            2015,
            2015,
            2015
           ],
           "xaxis": "x",
           "y": [
            7.587,
            7.561,
            7.527,
            7.522,
            7.406,
            7.378,
            7.364,
            7.2,
            6.946,
            6.94,
            6.937,
            6.867,
            6.75,
            6.575,
            6.329,
            6.302,
            5.948,
            5.695,
            5.689,
            5.102,
            4.857
           ],
           "yaxis": "y"
          },
          {
           "hovertemplate": "<b>%{hovertext}</b><br><br>Region=North America<br>year=%{x}<br>Happiness Score=%{y}<extra></extra>",
           "hovertext": [
            "Canada",
            "United States"
           ],
           "ids": [
            "Canada",
            "United States"
           ],
           "legendgroup": "North America",
           "marker": {
            "color": "#EF553B",
            "symbol": "circle"
           },
           "mode": "markers",
           "name": "North America",
           "orientation": "v",
           "showlegend": true,
           "type": "scatter",
           "x": [
            2015,
            2015
           ],
           "xaxis": "x",
           "y": [
            7.427,
            7.119
           ],
           "yaxis": "y"
          },
          {
           "hovertemplate": "<b>%{hovertext}</b><br><br>Region=Oceania<br>year=%{x}<br>Happiness Score=%{y}<extra></extra>",
           "hovertext": [
            "New Zealand",
            "Australia"
           ],
           "ids": [
            "New Zealand",
            "Australia"
           ],
           "legendgroup": "Oceania",
           "marker": {
            "color": "#00cc96",
            "symbol": "circle"
           },
           "mode": "markers",
           "name": "Oceania",
           "orientation": "v",
           "showlegend": true,
           "type": "scatter",
           "x": [
            2015,
            2015
           ],
           "xaxis": "x",
           "y": [
            7.286,
            7.284
           ],
           "yaxis": "y"
          },
          {
           "hovertemplate": "<b>%{hovertext}</b><br><br>Region=Middle East and North Africa<br>year=%{x}<br>Happiness Score=%{y}<extra></extra>",
           "hovertext": [
            "Israel",
            "United Arab Emirates",
            "Oman",
            "Qatar",
            "Saudi Arabia",
            "Kuwait",
            "Bahrain",
            "Libya",
            "Algeria",
            "Turkey",
            "Jordan",
            "Morocco",
            "Lebanon",
            "Tunisia",
            "Palestinian Territories",
            "Iran",
            "Iraq",
            "Egypt",
            "Yemen",
            "Syria"
           ],
           "ids": [
            "Israel",
            "United Arab Emirates",
            "Oman",
            "Qatar",
            "Saudi Arabia",
            "Kuwait",
            "Bahrain",
            "Libya",
            "Algeria",
            "Turkey",
            "Jordan",
            "Morocco",
            "Lebanon",
            "Tunisia",
            "Palestinian Territories",
            "Iran",
            "Iraq",
            "Egypt",
            "Yemen",
            "Syria"
           ],
           "legendgroup": "Middle East and North Africa",
           "marker": {
            "color": "#ab63fa",
            "symbol": "circle"
           },
           "mode": "markers",
           "name": "Middle East and North Africa",
           "orientation": "v",
           "showlegend": true,
           "type": "scatter",
           "x": [
            2015,
            2015,
            2015,
            2015,
            2015,
            2015,
            2015,
            2015,
            2015,
            2015,
            2015,
            2015,
            2015,
            2015,
            2015,
            2015,
            2015,
            2015,
            2015,
            2015
           ],
           "xaxis": "x",
           "y": [
            7.278,
            6.901,
            6.853,
            6.611,
            6.411,
            6.295,
            5.96,
            5.754,
            5.605,
            5.332,
            5.192,
            5.013,
            4.839,
            4.739,
            4.715,
            4.686,
            4.677,
            4.194,
            4.077,
            3.006
           ],
           "yaxis": "y"
          },
          {
           "hovertemplate": "<b>%{hovertext}</b><br><br>Region=Latin America and Caribbean<br>year=%{x}<br>Happiness Score=%{y}<extra></extra>",
           "hovertext": [
            "Costa Rica",
            "Mexico",
            "Brazil",
            "Venezuela",
            "Panama",
            "Chile",
            "Argentina",
            "Uruguay",
            "Colombia",
            "Suriname",
            "Trinidad and Tobago",
            "El Salvador",
            "Guatemala",
            "Ecuador",
            "Bolivia",
            "Paraguay",
            "Nicaragua",
            "Peru",
            "Jamaica",
            "Dominican Republic",
            "Honduras",
            "Haiti"
           ],
           "ids": [
            "Costa Rica",
            "Mexico",
            "Brazil",
            "Venezuela",
            "Panama",
            "Chile",
            "Argentina",
            "Uruguay",
            "Colombia",
            "Suriname",
            "Trinidad and Tobago",
            "El Salvador",
            "Guatemala",
            "Ecuador",
            "Bolivia",
            "Paraguay",
            "Nicaragua",
            "Peru",
            "Jamaica",
            "Dominican Republic",
            "Honduras",
            "Haiti"
           ],
           "legendgroup": "Latin America and Caribbean",
           "marker": {
            "color": "#FFA15A",
            "symbol": "circle"
           },
           "mode": "markers",
           "name": "Latin America and Caribbean",
           "orientation": "v",
           "showlegend": true,
           "type": "scatter",
           "x": [
            2015,
            2015,
            2015,
            2015,
            2015,
            2015,
            2015,
            2015,
            2015,
            2015,
            2015,
            2015,
            2015,
            2015,
            2015,
            2015,
            2015,
            2015,
            2015,
            2015,
            2015,
            2015
           ],
           "xaxis": "x",
           "y": [
            7.226,
            7.187,
            6.983,
            6.81,
            6.786,
            6.67,
            6.574,
            6.485,
            6.477,
            6.269,
            6.168,
            6.13,
            6.123,
            5.975,
            5.89,
            5.878,
            5.828,
            5.824,
            5.709,
            4.885,
            4.788,
            4.518
           ],
           "yaxis": "y"
          },
          {
           "hovertemplate": "<b>%{hovertext}</b><br><br>Region=Southeast Asia<br>year=%{x}<br>Happiness Score=%{y}<extra></extra>",
           "hovertext": [
            "Singapore",
            "Thailand",
            "Malaysia",
            "Indonesia",
            "Vietnam",
            "Philippines",
            "Laos",
            "Myanmar",
            "Cambodia"
           ],
           "ids": [
            "Singapore",
            "Thailand",
            "Malaysia",
            "Indonesia",
            "Vietnam",
            "Philippines",
            "Laos",
            "Myanmar",
            "Cambodia"
           ],
           "legendgroup": "Southeast Asia",
           "marker": {
            "color": "#19d3f3",
            "symbol": "circle"
           },
           "mode": "markers",
           "name": "Southeast Asia",
           "orientation": "v",
           "showlegend": true,
           "type": "scatter",
           "x": [
            2015,
            2015,
            2015,
            2015,
            2015,
            2015,
            2015,
            2015,
            2015
           ],
           "xaxis": "x",
           "y": [
            6.798,
            6.455,
            5.77,
            5.399,
            5.36,
            5.073,
            4.876,
            4.307,
            3.819
           ],
           "yaxis": "y"
          },
          {
           "hovertemplate": "<b>%{hovertext}</b><br><br>Region=Central and Eastern Europe<br>year=%{x}<br>Happiness Score=%{y}<extra></extra>",
           "hovertext": [
            "Czechia",
            "Slovakia",
            "Slovenia",
            "Lithuania",
            "Poland",
            "Croatia",
            "Kosovo",
            "Estonia",
            "Montenegro",
            "Romania",
            "Serbia",
            "Latvia",
            "North Macedonia",
            "Albania",
            "Bosnia and Herzegovina",
            "Hungary",
            "Bulgaria"
           ],
           "ids": [
            "Czechia",
            "Slovakia",
            "Slovenia",
            "Lithuania",
            "Poland",
            "Croatia",
            "Kosovo",
            "Estonia",
            "Montenegro",
            "Romania",
            "Serbia",
            "Latvia",
            "North Macedonia",
            "Albania",
            "Bosnia and Herzegovina",
            "Hungary",
            "Bulgaria"
           ],
           "legendgroup": "Central and Eastern Europe",
           "marker": {
            "color": "#FF6692",
            "symbol": "circle"
           },
           "mode": "markers",
           "name": "Central and Eastern Europe",
           "orientation": "v",
           "showlegend": true,
           "type": "scatter",
           "x": [
            2015,
            2015,
            2015,
            2015,
            2015,
            2015,
            2015,
            2015,
            2015,
            2015,
            2015,
            2015,
            2015,
            2015,
            2015,
            2015,
            2015
           ],
           "xaxis": "x",
           "y": [
            6.505,
            5.995,
            5.848,
            5.833,
            5.791,
            5.759,
            5.589,
            5.429,
            5.192,
            5.124,
            5.123,
            5.098,
            5.007,
            4.959,
            4.949,
            4.8,
            4.218
           ],
           "yaxis": "y"
          },
          {
           "hovertemplate": "<b>%{hovertext}</b><br><br>Region=East Asia<br>year=%{x}<br>Happiness Score=%{y}<extra></extra>",
           "hovertext": [
            "Taiwan",
            "Japan",
            "South Korea",
            "Hong Kong S.A.R. of China",
            "China",
            "Mongolia"
           ],
           "ids": [
            "Taiwan",
            "Japan",
            "South Korea",
            "Hong Kong S.A.R. of China",
            "China",
            "Mongolia"
           ],
           "legendgroup": "East Asia",
           "marker": {
            "color": "#B6E880",
            "symbol": "circle"
           },
           "mode": "markers",
           "name": "East Asia",
           "orientation": "v",
           "showlegend": true,
           "type": "scatter",
           "x": [
            2015,
            2015,
            2015,
            2015,
            2015,
            2015
           ],
           "xaxis": "x",
           "y": [
            6.298,
            5.987,
            5.984,
            5.474,
            5.14,
            4.874
           ],
           "yaxis": "y"
          },
          {
           "hovertemplate": "<b>%{hovertext}</b><br><br>Region=Commonwealth of Independent States<br>year=%{x}<br>Happiness Score=%{y}<extra></extra>",
           "hovertext": [
            "Uzbekistan",
            "Moldova",
            "Kazakhstan",
            "Belarus",
            "Russia",
            "Turkmenistan",
            "Kyrgyzstan",
            "Azerbaijan",
            "Tajikistan",
            "Ukraine",
            "Armenia",
            "Georgia"
           ],
           "ids": [
            "Uzbekistan",
            "Moldova",
            "Kazakhstan",
            "Belarus",
            "Russia",
            "Turkmenistan",
            "Kyrgyzstan",
            "Azerbaijan",
            "Tajikistan",
            "Ukraine",
            "Armenia",
            "Georgia"
           ],
           "legendgroup": "Commonwealth of Independent States",
           "marker": {
            "color": "#FF97FF",
            "symbol": "circle"
           },
           "mode": "markers",
           "name": "Commonwealth of Independent States",
           "orientation": "v",
           "showlegend": true,
           "type": "scatter",
           "x": [
            2015,
            2015,
            2015,
            2015,
            2015,
            2015,
            2015,
            2015,
            2015,
            2015,
            2015,
            2015
           ],
           "xaxis": "x",
           "y": [
            6.003,
            5.889,
            5.855,
            5.813,
            5.716,
            5.548,
            5.286,
            5.212,
            4.786,
            4.681,
            4.35,
            4.297
           ],
           "yaxis": "y"
          },
          {
           "hovertemplate": "<b>%{hovertext}</b><br><br>Region=Sub-Saharan Africa<br>year=%{x}<br>Happiness Score=%{y}<extra></extra>",
           "hovertext": [
            "Mauritius",
            "Nigeria",
            "Zambia",
            "Somaliland region",
            "Mozambique",
            "Lesotho",
            "Kingdom of Eswatini ",
            "South Africa",
            "Ghana",
            "Zimbabwe",
            "Liberia",
            "Sudan",
            "Congo (Kinshasa)",
            "Ethiopia",
            "Sierra Leone",
            "Mauritania",
            "Kenya",
            "Djibouti",
            "Botswana",
            "Malawi",
            "Cameroon",
            "Angola",
            "Mali",
            "Congo (Brazzaville)",
            "Comoros",
            "Uganda",
            "Senegal",
            "Gabon",
            "Niger",
            "Tanzania",
            "Madagascar",
            "Central African Republic",
            "Chad",
            "Guinea",
            "Ivory Coast",
            "Burkina Faso",
            "Rwanda",
            "Benin",
            "Burundi",
            "Togo"
           ],
           "ids": [
            "Mauritius",
            "Nigeria",
            "Zambia",
            "Somaliland region",
            "Mozambique",
            "Lesotho",
            "Kingdom of Eswatini ",
            "South Africa",
            "Ghana",
            "Zimbabwe",
            "Liberia",
            "Sudan",
            "Congo (Kinshasa)",
            "Ethiopia",
            "Sierra Leone",
            "Mauritania",
            "Kenya",
            "Djibouti",
            "Botswana",
            "Malawi",
            "Cameroon",
            "Angola",
            "Mali",
            "Congo (Brazzaville)",
            "Comoros",
            "Uganda",
            "Senegal",
            "Gabon",
            "Niger",
            "Tanzania",
            "Madagascar",
            "Central African Republic",
            "Chad",
            "Guinea",
            "Ivory Coast",
            "Burkina Faso",
            "Rwanda",
            "Benin",
            "Burundi",
            "Togo"
           ],
           "legendgroup": "Sub-Saharan Africa",
           "marker": {
            "color": "#FECB52",
            "symbol": "circle"
           },
           "mode": "markers",
           "name": "Sub-Saharan Africa",
           "orientation": "v",
           "showlegend": true,
           "type": "scatter",
           "x": [
            2015,
            2015,
            2015,
            2015,
            2015,
            2015,
            2015,
            2015,
            2015,
            2015,
            2015,
            2015,
            2015,
            2015,
            2015,
            2015,
            2015,
            2015,
            2015,
            2015,
            2015,
            2015,
            2015,
            2015,
            2015,
            2015,
            2015,
            2015,
            2015,
            2015,
            2015,
            2015,
            2015,
            2015,
            2015,
            2015,
            2015,
            2015,
            2015,
            2015
           ],
           "xaxis": "x",
           "y": [
            5.477,
            5.268,
            5.129,
            5.057,
            4.971,
            4.898,
            4.867,
            4.642,
            4.633,
            4.61,
            4.571,
            4.55,
            4.517,
            4.512,
            4.507,
            4.436,
            4.419,
            4.369,
            4.332,
            4.292,
            4.252,
            4.033,
            3.995,
            3.989,
            3.956,
            3.931,
            3.904,
            3.896,
            3.845,
            3.781,
            3.681,
            3.678,
            3.667,
            3.656,
            3.655,
            3.587,
            3.465,
            3.34,
            2.905,
            2.839
           ],
           "yaxis": "y"
          },
          {
           "hovertemplate": "<b>%{hovertext}</b><br><br>Region=South Asia<br>year=%{x}<br>Happiness Score=%{y}<extra></extra>",
           "hovertext": [
            "Bhutan",
            "Pakistan",
            "Bangladesh",
            "India",
            "Nepal",
            "Sri Lanka",
            "Afghanistan"
           ],
           "ids": [
            "Bhutan",
            "Pakistan",
            "Bangladesh",
            "India",
            "Nepal",
            "Sri Lanka",
            "Afghanistan"
           ],
           "legendgroup": "South Asia",
           "marker": {
            "color": "#636efa",
            "symbol": "circle"
           },
           "mode": "markers",
           "name": "South Asia",
           "orientation": "v",
           "showlegend": true,
           "type": "scatter",
           "x": [
            2015,
            2015,
            2015,
            2015,
            2015,
            2015,
            2015
           ],
           "xaxis": "x",
           "y": [
            5.253,
            5.194,
            4.694,
            4.565,
            4.514,
            4.271,
            3.575
           ],
           "yaxis": "y"
          }
         ],
         "name": "2015.0"
        },
        {
         "data": [
          {
           "hovertemplate": "<b>%{hovertext}</b><br><br>Region=Western Europe<br>year=%{x}<br>Happiness Score=%{y}<extra></extra>",
           "hovertext": [
            "Denmark",
            "Switzerland",
            "Iceland",
            "Norway",
            "Finland",
            "Netherlands",
            "Sweden",
            "Austria",
            "Germany",
            "Belgium",
            "Ireland",
            "Luxembourg",
            "United Kingdom",
            "Malta",
            "France",
            "Spain",
            "Italy",
            "Northern Cyprus",
            "Cyprus",
            "Portugal",
            "Greece"
           ],
           "ids": [
            "Denmark",
            "Switzerland",
            "Iceland",
            "Norway",
            "Finland",
            "Netherlands",
            "Sweden",
            "Austria",
            "Germany",
            "Belgium",
            "Ireland",
            "Luxembourg",
            "United Kingdom",
            "Malta",
            "France",
            "Spain",
            "Italy",
            "Northern Cyprus",
            "Cyprus",
            "Portugal",
            "Greece"
           ],
           "legendgroup": "Western Europe",
           "marker": {
            "color": "#636efa",
            "symbol": "circle"
           },
           "mode": "markers",
           "name": "Western Europe",
           "orientation": "v",
           "showlegend": true,
           "type": "scatter",
           "x": [
            2016,
            2016,
            2016,
            2016,
            2016,
            2016,
            2016,
            2016,
            2016,
            2016,
            2016,
            2016,
            2016,
            2016,
            2016,
            2016,
            2016,
            2016,
            2016,
            2016,
            2016
           ],
           "xaxis": "x",
           "y": [
            7.526,
            7.509,
            7.501,
            7.498,
            7.413,
            7.339,
            7.291,
            7.119,
            6.994,
            6.929,
            6.907,
            6.871,
            6.725,
            6.488,
            6.478,
            6.361,
            5.977,
            5.771,
            5.546,
            5.123,
            5.033
           ],
           "yaxis": "y"
          },
          {
           "hovertemplate": "<b>%{hovertext}</b><br><br>Region=North America<br>year=%{x}<br>Happiness Score=%{y}<extra></extra>",
           "hovertext": [
            "Canada",
            "United States"
           ],
           "ids": [
            "Canada",
            "United States"
           ],
           "legendgroup": "North America",
           "marker": {
            "color": "#EF553B",
            "symbol": "circle"
           },
           "mode": "markers",
           "name": "North America",
           "orientation": "v",
           "showlegend": true,
           "type": "scatter",
           "x": [
            2016,
            2016
           ],
           "xaxis": "x",
           "y": [
            7.404,
            7.104
           ],
           "yaxis": "y"
          },
          {
           "hovertemplate": "<b>%{hovertext}</b><br><br>Region=Oceania<br>year=%{x}<br>Happiness Score=%{y}<extra></extra>",
           "hovertext": [
            "New Zealand",
            "Australia"
           ],
           "ids": [
            "New Zealand",
            "Australia"
           ],
           "legendgroup": "Oceania",
           "marker": {
            "color": "#00cc96",
            "symbol": "circle"
           },
           "mode": "markers",
           "name": "Oceania",
           "orientation": "v",
           "showlegend": true,
           "type": "scatter",
           "x": [
            2016,
            2016
           ],
           "xaxis": "x",
           "y": [
            7.334,
            7.313
           ],
           "yaxis": "y"
          },
          {
           "hovertemplate": "<b>%{hovertext}</b><br><br>Region=Middle East and North Africa<br>year=%{x}<br>Happiness Score=%{y}<extra></extra>",
           "hovertext": [
            "Israel",
            "United Arab Emirates",
            "Saudi Arabia",
            "Qatar",
            "Algeria",
            "Kuwait",
            "Bahrain",
            "Libya",
            "Turkey",
            "Jordan",
            "Morocco",
            "Lebanon",
            "Tunisia",
            "Iran",
            "Palestinian Territories",
            "Iraq",
            "Egypt",
            "Yemen",
            "Syria"
           ],
           "ids": [
            "Israel",
            "United Arab Emirates",
            "Saudi Arabia",
            "Qatar",
            "Algeria",
            "Kuwait",
            "Bahrain",
            "Libya",
            "Turkey",
            "Jordan",
            "Morocco",
            "Lebanon",
            "Tunisia",
            "Iran",
            "Palestinian Territories",
            "Iraq",
            "Egypt",
            "Yemen",
            "Syria"
           ],
           "legendgroup": "Middle East and North Africa",
           "marker": {
            "color": "#ab63fa",
            "symbol": "circle"
           },
           "mode": "markers",
           "name": "Middle East and North Africa",
           "orientation": "v",
           "showlegend": true,
           "type": "scatter",
           "x": [
            2016,
            2016,
            2016,
            2016,
            2016,
            2016,
            2016,
            2016,
            2016,
            2016,
            2016,
            2016,
            2016,
            2016,
            2016,
            2016,
            2016,
            2016,
            2016
           ],
           "xaxis": "x",
           "y": [
            7.267,
            6.573,
            6.379,
            6.375,
            6.355,
            6.239,
            6.218,
            5.615,
            5.389,
            5.303,
            5.151,
            5.129,
            5.045,
            4.813,
            4.754,
            4.575,
            4.362,
            3.724,
            3.069
           ],
           "yaxis": "y"
          },
          {
           "hovertemplate": "<b>%{hovertext}</b><br><br>Region=Latin America and Caribbean<br>year=%{x}<br>Happiness Score=%{y}<extra></extra>",
           "hovertext": [
            "Costa Rica",
            "Puerto Rico",
            "Brazil",
            "Mexico",
            "Chile",
            "Panama",
            "Argentina",
            "Uruguay",
            "Colombia",
            "Guatemala",
            "Suriname",
            "Trinidad and Tobago",
            "Venezuela",
            "El Salvador",
            "Nicaragua",
            "Ecuador",
            "Belize",
            "Bolivia",
            "Peru",
            "Paraguay",
            "Jamaica",
            "Dominican Republic",
            "Honduras",
            "Haiti"
           ],
           "ids": [
            "Costa Rica",
            "Puerto Rico",
            "Brazil",
            "Mexico",
            "Chile",
            "Panama",
            "Argentina",
            "Uruguay",
            "Colombia",
            "Guatemala",
            "Suriname",
            "Trinidad and Tobago",
            "Venezuela",
            "El Salvador",
            "Nicaragua",
            "Ecuador",
            "Belize",
            "Bolivia",
            "Peru",
            "Paraguay",
            "Jamaica",
            "Dominican Republic",
            "Honduras",
            "Haiti"
           ],
           "legendgroup": "Latin America and Caribbean",
           "marker": {
            "color": "#FFA15A",
            "symbol": "circle"
           },
           "mode": "markers",
           "name": "Latin America and Caribbean",
           "orientation": "v",
           "showlegend": true,
           "type": "scatter",
           "x": [
            2016,
            2016,
            2016,
            2016,
            2016,
            2016,
            2016,
            2016,
            2016,
            2016,
            2016,
            2016,
            2016,
            2016,
            2016,
            2016,
            2016,
            2016,
            2016,
            2016,
            2016,
            2016,
            2016,
            2016
           ],
           "xaxis": "x",
           "y": [
            7.087,
            7.039,
            6.952,
            6.778,
            6.705,
            6.701,
            6.65,
            6.545,
            6.481,
            6.324,
            6.269,
            6.168,
            6.084,
            6.068,
            5.992,
            5.976,
            5.956,
            5.822,
            5.743,
            5.538,
            5.51,
            5.155,
            4.871,
            4.028
           ],
           "yaxis": "y"
          },
          {
           "hovertemplate": "<b>%{hovertext}</b><br><br>Region=Southeast Asia<br>year=%{x}<br>Happiness Score=%{y}<extra></extra>",
           "hovertext": [
            "Singapore",
            "Thailand",
            "Malaysia",
            "Indonesia",
            "Philippines",
            "Vietnam",
            "Laos",
            "Myanmar",
            "Cambodia"
           ],
           "ids": [
            "Singapore",
            "Thailand",
            "Malaysia",
            "Indonesia",
            "Philippines",
            "Vietnam",
            "Laos",
            "Myanmar",
            "Cambodia"
           ],
           "legendgroup": "Southeast Asia",
           "marker": {
            "color": "#19d3f3",
            "symbol": "circle"
           },
           "mode": "markers",
           "name": "Southeast Asia",
           "orientation": "v",
           "showlegend": true,
           "type": "scatter",
           "x": [
            2016,
            2016,
            2016,
            2016,
            2016,
            2016,
            2016,
            2016,
            2016
           ],
           "xaxis": "x",
           "y": [
            6.739,
            6.474,
            6.005,
            5.314,
            5.279,
            5.061,
            4.876,
            4.395,
            3.907
           ],
           "yaxis": "y"
          },
          {
           "hovertemplate": "<b>%{hovertext}</b><br><br>Region=Central and Eastern Europe<br>year=%{x}<br>Happiness Score=%{y}<extra></extra>",
           "hovertext": [
            "Czechia",
            "Slovakia",
            "Poland",
            "Lithuania",
            "Slovenia",
            "Latvia",
            "Romania",
            "Estonia",
            "Croatia",
            "Kosovo",
            "Serbia",
            "Bosnia and Herzegovina",
            "Montenegro",
            "Hungary",
            "North Macedonia",
            "Albania",
            "Bulgaria"
           ],
           "ids": [
            "Czechia",
            "Slovakia",
            "Poland",
            "Lithuania",
            "Slovenia",
            "Latvia",
            "Romania",
            "Estonia",
            "Croatia",
            "Kosovo",
            "Serbia",
            "Bosnia and Herzegovina",
            "Montenegro",
            "Hungary",
            "North Macedonia",
            "Albania",
            "Bulgaria"
           ],
           "legendgroup": "Central and Eastern Europe",
           "marker": {
            "color": "#FF6692",
            "symbol": "circle"
           },
           "mode": "markers",
           "name": "Central and Eastern Europe",
           "orientation": "v",
           "showlegend": true,
           "type": "scatter",
           "x": [
            2016,
            2016,
            2016,
            2016,
            2016,
            2016,
            2016,
            2016,
            2016,
            2016,
            2016,
            2016,
            2016,
            2016,
            2016,
            2016,
            2016
           ],
           "xaxis": "x",
           "y": [
            6.596,
            6.078,
            5.835,
            5.813,
            5.768,
            5.56,
            5.528,
            5.517,
            5.488,
            5.401,
            5.177,
            5.163,
            5.161,
            5.145,
            5.121,
            4.655,
            4.217
           ],
           "yaxis": "y"
          },
          {
           "hovertemplate": "<b>%{hovertext}</b><br><br>Region=East Asia<br>year=%{x}<br>Happiness Score=%{y}<extra></extra>",
           "hovertext": [
            "Taiwan",
            "Japan",
            "South Korea",
            "Hong Kong S.A.R. of China",
            "China",
            "Mongolia"
           ],
           "ids": [
            "Taiwan",
            "Japan",
            "South Korea",
            "Hong Kong S.A.R. of China",
            "China",
            "Mongolia"
           ],
           "legendgroup": "East Asia",
           "marker": {
            "color": "#B6E880",
            "symbol": "circle"
           },
           "mode": "markers",
           "name": "East Asia",
           "orientation": "v",
           "showlegend": true,
           "type": "scatter",
           "x": [
            2016,
            2016,
            2016,
            2016,
            2016,
            2016
           ],
           "xaxis": "x",
           "y": [
            6.379,
            5.921,
            5.835,
            5.458,
            5.245,
            4.907
           ],
           "yaxis": "y"
          },
          {
           "hovertemplate": "<b>%{hovertext}</b><br><br>Region=Commonwealth of Independent States<br>year=%{x}<br>Happiness Score=%{y}<extra></extra>",
           "hovertext": [
            "Uzbekistan",
            "Kazakhstan",
            "Moldova",
            "Russia",
            "Belarus",
            "Turkmenistan",
            "Azerbaijan",
            "Kyrgyzstan",
            "Tajikistan",
            "Armenia",
            "Ukraine",
            "Georgia"
           ],
           "ids": [
            "Uzbekistan",
            "Kazakhstan",
            "Moldova",
            "Russia",
            "Belarus",
            "Turkmenistan",
            "Azerbaijan",
            "Kyrgyzstan",
            "Tajikistan",
            "Armenia",
            "Ukraine",
            "Georgia"
           ],
           "legendgroup": "Commonwealth of Independent States",
           "marker": {
            "color": "#FF97FF",
            "symbol": "circle"
           },
           "mode": "markers",
           "name": "Commonwealth of Independent States",
           "orientation": "v",
           "showlegend": true,
           "type": "scatter",
           "x": [
            2016,
            2016,
            2016,
            2016,
            2016,
            2016,
            2016,
            2016,
            2016,
            2016,
            2016,
            2016
           ],
           "xaxis": "x",
           "y": [
            5.987,
            5.919,
            5.897,
            5.856,
            5.802,
            5.658,
            5.291,
            5.185,
            4.996,
            4.36,
            4.324,
            4.252
           ],
           "yaxis": "y"
          },
          {
           "hovertemplate": "<b>%{hovertext}</b><br><br>Region=Sub-Saharan Africa<br>year=%{x}<br>Happiness Score=%{y}<extra></extra>",
           "hovertext": [
            "Mauritius",
            "Somalia",
            "Somaliland Region",
            "Nigeria",
            "Zambia",
            "Sierra Leone",
            "Namibia",
            "Cameroon",
            "Ethiopia",
            "South Africa",
            "Kenya",
            "Ghana",
            "Congo (Kinshasa)",
            "Congo (Brazzaville)",
            "Senegal",
            "Mauritania",
            "Zimbabwe",
            "Malawi",
            "Sudan",
            "Gabon",
            "Mali",
            "Botswana",
            "Comoros",
            "Ivory Coast",
            "Angola",
            "Niger",
            "South Sudan",
            "Chad",
            "Burkina Faso",
            "Uganda",
            "Madagascar",
            "Tanzania",
            "Liberia",
            "Guinea",
            "Rwanda",
            "Benin",
            "Togo",
            "Burundi"
           ],
           "ids": [
            "Mauritius",
            "Somalia",
            "Somaliland Region",
            "Nigeria",
            "Zambia",
            "Sierra Leone",
            "Namibia",
            "Cameroon",
            "Ethiopia",
            "South Africa",
            "Kenya",
            "Ghana",
            "Congo (Kinshasa)",
            "Congo (Brazzaville)",
            "Senegal",
            "Mauritania",
            "Zimbabwe",
            "Malawi",
            "Sudan",
            "Gabon",
            "Mali",
            "Botswana",
            "Comoros",
            "Ivory Coast",
            "Angola",
            "Niger",
            "South Sudan",
            "Chad",
            "Burkina Faso",
            "Uganda",
            "Madagascar",
            "Tanzania",
            "Liberia",
            "Guinea",
            "Rwanda",
            "Benin",
            "Togo",
            "Burundi"
           ],
           "legendgroup": "Sub-Saharan Africa",
           "marker": {
            "color": "#FECB52",
            "symbol": "circle"
           },
           "mode": "markers",
           "name": "Sub-Saharan Africa",
           "orientation": "v",
           "showlegend": true,
           "type": "scatter",
           "x": [
            2016,
            2016,
            2016,
            2016,
            2016,
            2016,
            2016,
            2016,
            2016,
            2016,
            2016,
            2016,
            2016,
            2016,
            2016,
            2016,
            2016,
            2016,
            2016,
            2016,
            2016,
            2016,
            2016,
            2016,
            2016,
            2016,
            2016,
            2016,
            2016,
            2016,
            2016,
            2016,
            2016,
            2016,
            2016,
            2016,
            2016,
            2016
           ],
           "xaxis": "x",
           "y": [
            5.648,
            5.44,
            5.057,
            4.875,
            4.795,
            4.635,
            4.574,
            4.513,
            4.508,
            4.459,
            4.356,
            4.276,
            4.272,
            4.236,
            4.219,
            4.201,
            4.193,
            4.156,
            4.139,
            4.121,
            4.073,
            3.974,
            3.956,
            3.916,
            3.866,
            3.856,
            3.832,
            3.763,
            3.739,
            3.739,
            3.695,
            3.666,
            3.622,
            3.607,
            3.515,
            3.484,
            3.303,
            2.905
           ],
           "yaxis": "y"
          },
          {
           "hovertemplate": "<b>%{hovertext}</b><br><br>Region=South Asia<br>year=%{x}<br>Happiness Score=%{y}<extra></extra>",
           "hovertext": [
            "Bhutan",
            "Pakistan",
            "Nepal",
            "Bangladesh",
            "Sri Lanka",
            "India",
            "Afghanistan"
           ],
           "ids": [
            "Bhutan",
            "Pakistan",
            "Nepal",
            "Bangladesh",
            "Sri Lanka",
            "India",
            "Afghanistan"
           ],
           "legendgroup": "South Asia",
           "marker": {
            "color": "#636efa",
            "symbol": "circle"
           },
           "mode": "markers",
           "name": "South Asia",
           "orientation": "v",
           "showlegend": true,
           "type": "scatter",
           "x": [
            2016,
            2016,
            2016,
            2016,
            2016,
            2016,
            2016
           ],
           "xaxis": "x",
           "y": [
            5.196,
            5.132,
            4.793,
            4.643,
            4.415,
            4.404,
            3.36
           ],
           "yaxis": "y"
          }
         ],
         "name": "2016.0"
        },
        {
         "data": [
          {
           "hovertemplate": "<b>%{hovertext}</b><br><br>Region=Western Europe<br>year=%{x}<br>Happiness Score=%{y}<extra></extra>",
           "hovertext": [
            "Norway",
            "Denmark",
            "Iceland",
            "Switzerland",
            "Finland",
            "Netherlands",
            "Sweden",
            "Austria",
            "Ireland",
            "Germany",
            "Belgium",
            "Luxembourg",
            "United Kingdom",
            "Malta",
            "France",
            "Spain",
            "Italy",
            "Northern Cyprus",
            "Cyprus",
            "Greece",
            "Portugal"
           ],
           "ids": [
            "Norway",
            "Denmark",
            "Iceland",
            "Switzerland",
            "Finland",
            "Netherlands",
            "Sweden",
            "Austria",
            "Ireland",
            "Germany",
            "Belgium",
            "Luxembourg",
            "United Kingdom",
            "Malta",
            "France",
            "Spain",
            "Italy",
            "Northern Cyprus",
            "Cyprus",
            "Greece",
            "Portugal"
           ],
           "legendgroup": "Western Europe",
           "marker": {
            "color": "#636efa",
            "symbol": "circle"
           },
           "mode": "markers",
           "name": "Western Europe",
           "orientation": "v",
           "showlegend": true,
           "type": "scatter",
           "x": [
            2017,
            2017,
            2017,
            2017,
            2017,
            2017,
            2017,
            2017,
            2017,
            2017,
            2017,
            2017,
            2017,
            2017,
            2017,
            2017,
            2017,
            2017,
            2017,
            2017,
            2017
           ],
           "xaxis": "x",
           "y": [
            7.53700017929077,
            7.52199983596802,
            7.50400018692017,
            7.49399995803833,
            7.4689998626709,
            7.3769998550415,
            7.28399991989136,
            7.00600004196167,
            6.97700023651123,
            6.95100021362305,
            6.89099979400635,
            6.86299991607666,
            6.71400022506714,
            6.52699995040894,
            6.44199991226196,
            6.40299987792969,
            5.96400022506714,
            5.80999994277954,
            5.62099981307983,
            5.22700023651123,
            5.19500017166138
           ],
           "yaxis": "y"
          },
          {
           "hovertemplate": "<b>%{hovertext}</b><br><br>Region=North America<br>year=%{x}<br>Happiness Score=%{y}<extra></extra>",
           "hovertext": [
            "Canada",
            "United States"
           ],
           "ids": [
            "Canada",
            "United States"
           ],
           "legendgroup": "North America",
           "marker": {
            "color": "#EF553B",
            "symbol": "circle"
           },
           "mode": "markers",
           "name": "North America",
           "orientation": "v",
           "showlegend": true,
           "type": "scatter",
           "x": [
            2017,
            2017
           ],
           "xaxis": "x",
           "y": [
            7.31599998474121,
            6.99300003051758
           ],
           "yaxis": "y"
          },
          {
           "hovertemplate": "<b>%{hovertext}</b><br><br>Region=Oceania<br>year=%{x}<br>Happiness Score=%{y}<extra></extra>",
           "hovertext": [
            "New Zealand",
            "Australia"
           ],
           "ids": [
            "New Zealand",
            "Australia"
           ],
           "legendgroup": "Oceania",
           "marker": {
            "color": "#00cc96",
            "symbol": "circle"
           },
           "mode": "markers",
           "name": "Oceania",
           "orientation": "v",
           "showlegend": true,
           "type": "scatter",
           "x": [
            2017,
            2017
           ],
           "xaxis": "x",
           "y": [
            7.31400012969971,
            7.28399991989136
           ],
           "yaxis": "y"
          },
          {
           "hovertemplate": "<b>%{hovertext}</b><br><br>Region=Middle East and North Africa<br>year=%{x}<br>Happiness Score=%{y}<extra></extra>",
           "hovertext": [
            "Israel",
            "United Arab Emirates",
            "Qatar",
            "Saudi Arabia",
            "Kuwait",
            "Bahrain",
            "Algeria",
            "Libya",
            "Turkey",
            "Jordan",
            "Morocco",
            "Lebanon",
            "Tunisia",
            "Palestinian Territories",
            "Egypt",
            "Iran",
            "Iraq",
            "Yemen",
            "Syria"
           ],
           "ids": [
            "Israel",
            "United Arab Emirates",
            "Qatar",
            "Saudi Arabia",
            "Kuwait",
            "Bahrain",
            "Algeria",
            "Libya",
            "Turkey",
            "Jordan",
            "Morocco",
            "Lebanon",
            "Tunisia",
            "Palestinian Territories",
            "Egypt",
            "Iran",
            "Iraq",
            "Yemen",
            "Syria"
           ],
           "legendgroup": "Middle East and North Africa",
           "marker": {
            "color": "#ab63fa",
            "symbol": "circle"
           },
           "mode": "markers",
           "name": "Middle East and North Africa",
           "orientation": "v",
           "showlegend": true,
           "type": "scatter",
           "x": [
            2017,
            2017,
            2017,
            2017,
            2017,
            2017,
            2017,
            2017,
            2017,
            2017,
            2017,
            2017,
            2017,
            2017,
            2017,
            2017,
            2017,
            2017,
            2017
           ],
           "xaxis": "x",
           "y": [
            7.21299982070923,
            6.64799976348877,
            6.375,
            6.3439998626709,
            6.10500001907349,
            6.08699989318848,
            5.87200021743774,
            5.52500009536743,
            5.5,
            5.33599996566772,
            5.2350001335144,
            5.22499990463257,
            4.80499982833862,
            4.77500009536743,
            4.7350001335144,
            4.69199991226196,
            4.49700021743774,
            3.59299993515015,
            3.46199989318848
           ],
           "yaxis": "y"
          },
          {
           "hovertemplate": "<b>%{hovertext}</b><br><br>Region=Latin America and Caribbean<br>year=%{x}<br>Happiness Score=%{y}<extra></extra>",
           "hovertext": [
            "Costa Rica",
            "Chile",
            "Brazil",
            "Argentina",
            "Mexico",
            "Uruguay",
            "Guatemala",
            "Panama",
            "Colombia",
            "Trinidad and Tobago",
            "Nicaragua",
            "Ecuador",
            "El Salvador",
            "Belize",
            "Bolivia",
            "Peru",
            "Paraguay",
            "Jamaica",
            "Venezuela",
            "Dominican Republic",
            "Honduras",
            "Haiti"
           ],
           "ids": [
            "Costa Rica",
            "Chile",
            "Brazil",
            "Argentina",
            "Mexico",
            "Uruguay",
            "Guatemala",
            "Panama",
            "Colombia",
            "Trinidad and Tobago",
            "Nicaragua",
            "Ecuador",
            "El Salvador",
            "Belize",
            "Bolivia",
            "Peru",
            "Paraguay",
            "Jamaica",
            "Venezuela",
            "Dominican Republic",
            "Honduras",
            "Haiti"
           ],
           "legendgroup": "Latin America and Caribbean",
           "marker": {
            "color": "#FFA15A",
            "symbol": "circle"
           },
           "mode": "markers",
           "name": "Latin America and Caribbean",
           "orientation": "v",
           "showlegend": true,
           "type": "scatter",
           "x": [
            2017,
            2017,
            2017,
            2017,
            2017,
            2017,
            2017,
            2017,
            2017,
            2017,
            2017,
            2017,
            2017,
            2017,
            2017,
            2017,
            2017,
            2017,
            2017,
            2017,
            2017,
            2017
           ],
           "xaxis": "x",
           "y": [
            7.0789999961853,
            6.65199995040894,
            6.63500022888184,
            6.59899997711182,
            6.57800006866455,
            6.4539999961853,
            6.4539999961853,
            6.4520001411438,
            6.35699987411499,
            6.16800022125244,
            6.07100009918213,
            6.00799989700317,
            6.00299978256226,
            5.95599985122681,
            5.82299995422363,
            5.71500015258789,
            5.49300003051758,
            5.31099987030029,
            5.25,
            5.23000001907349,
            5.18100023269653,
            3.6029999256134
           ],
           "yaxis": "y"
          },
          {
           "hovertemplate": "<b>%{hovertext}</b><br><br>Region=Southeast Asia<br>year=%{x}<br>Happiness Score=%{y}<extra></extra>",
           "hovertext": [
            "Singapore",
            "Thailand",
            "Malaysia",
            "Philippines",
            "Indonesia",
            "Vietnam",
            "Myanmar",
            "Cambodia"
           ],
           "ids": [
            "Singapore",
            "Thailand",
            "Malaysia",
            "Philippines",
            "Indonesia",
            "Vietnam",
            "Myanmar",
            "Cambodia"
           ],
           "legendgroup": "Southeast Asia",
           "marker": {
            "color": "#19d3f3",
            "symbol": "circle"
           },
           "mode": "markers",
           "name": "Southeast Asia",
           "orientation": "v",
           "showlegend": true,
           "type": "scatter",
           "x": [
            2017,
            2017,
            2017,
            2017,
            2017,
            2017,
            2017,
            2017
           ],
           "xaxis": "x",
           "y": [
            6.57200002670288,
            6.42399978637695,
            6.08400011062622,
            5.42999982833862,
            5.26200008392334,
            5.07399988174438,
            4.54500007629395,
            4.16800022125244
           ],
           "yaxis": "y"
          },
          {
           "hovertemplate": "<b>%{hovertext}</b><br><br>Region=Central and Eastern Europe<br>year=%{x}<br>Happiness Score=%{y}<extra></extra>",
           "hovertext": [
            "Czechia",
            "Slovakia",
            "Poland",
            "Lithuania",
            "Latvia",
            "Romania",
            "Slovenia",
            "Estonia",
            "Serbia",
            "Hungary",
            "Croatia",
            "Kosovo",
            "Montenegro",
            "Bosnia and Herzegovina",
            "North Macedonia",
            "Bulgaria",
            "Albania"
           ],
           "ids": [
            "Czechia",
            "Slovakia",
            "Poland",
            "Lithuania",
            "Latvia",
            "Romania",
            "Slovenia",
            "Estonia",
            "Serbia",
            "Hungary",
            "Croatia",
            "Kosovo",
            "Montenegro",
            "Bosnia and Herzegovina",
            "North Macedonia",
            "Bulgaria",
            "Albania"
           ],
           "legendgroup": "Central and Eastern Europe",
           "marker": {
            "color": "#FF6692",
            "symbol": "circle"
           },
           "mode": "markers",
           "name": "Central and Eastern Europe",
           "orientation": "v",
           "showlegend": true,
           "type": "scatter",
           "x": [
            2017,
            2017,
            2017,
            2017,
            2017,
            2017,
            2017,
            2017,
            2017,
            2017,
            2017,
            2017,
            2017,
            2017,
            2017,
            2017,
            2017
           ],
           "xaxis": "x",
           "y": [
            6.60900020599365,
            6.09800004959106,
            5.97300004959106,
            5.90199995040894,
            5.84999990463257,
            5.82499980926514,
            5.75799989700317,
            5.61100006103516,
            5.39499998092651,
            5.32399988174438,
            5.29300022125244,
            5.27899980545044,
            5.23699998855591,
            5.18200016021729,
            5.17500019073486,
            4.71400022506714,
            4.64400005340576
           ],
           "yaxis": "y"
          },
          {
           "hovertemplate": "<b>%{hovertext}</b><br><br>Region=East Asia<br>year=%{x}<br>Happiness Score=%{y}<extra></extra>",
           "hovertext": [
            "Taiwan",
            "Japan",
            "South Korea",
            "Hong Kong S.A.R. of China",
            "China",
            "Mongolia"
           ],
           "ids": [
            "Taiwan",
            "Japan",
            "South Korea",
            "Hong Kong S.A.R. of China",
            "China",
            "Mongolia"
           ],
           "legendgroup": "East Asia",
           "marker": {
            "color": "#B6E880",
            "symbol": "circle"
           },
           "mode": "markers",
           "name": "East Asia",
           "orientation": "v",
           "showlegend": true,
           "type": "scatter",
           "x": [
            2017,
            2017,
            2017,
            2017,
            2017,
            2017
           ],
           "xaxis": "x",
           "y": [
            6.42199993133545,
            5.92000007629395,
            5.83799982070923,
            5.47200012207031,
            5.27299976348877,
            4.95499992370605
           ],
           "yaxis": "y"
          },
          {
           "hovertemplate": "<b>%{hovertext}</b><br><br>Region=Commonwealth of Independent States<br>year=%{x}<br>Happiness Score=%{y}<extra></extra>",
           "hovertext": [
            "Uzbekistan",
            "Russia",
            "Moldova",
            "Turkmenistan",
            "Kazakhstan",
            "Belarus",
            "Azerbaijan",
            "Tajikistan",
            "Kyrgyzstan",
            "Armenia",
            "Georgia",
            "Ukraine"
           ],
           "ids": [
            "Uzbekistan",
            "Russia",
            "Moldova",
            "Turkmenistan",
            "Kazakhstan",
            "Belarus",
            "Azerbaijan",
            "Tajikistan",
            "Kyrgyzstan",
            "Armenia",
            "Georgia",
            "Ukraine"
           ],
           "legendgroup": "Commonwealth of Independent States",
           "marker": {
            "color": "#FF97FF",
            "symbol": "circle"
           },
           "mode": "markers",
           "name": "Commonwealth of Independent States",
           "orientation": "v",
           "showlegend": true,
           "type": "scatter",
           "x": [
            2017,
            2017,
            2017,
            2017,
            2017,
            2017,
            2017,
            2017,
            2017,
            2017,
            2017,
            2017
           ],
           "xaxis": "x",
           "y": [
            5.97100019454956,
            5.96299982070923,
            5.83799982070923,
            5.82200002670288,
            5.81899976730347,
            5.56899976730347,
            5.23400020599365,
            5.04099988937378,
            5.00400018692017,
            4.37599992752075,
            4.28599977493286,
            4.09600019454956
           ],
           "yaxis": "y"
          },
          {
           "hovertemplate": "<b>%{hovertext}</b><br><br>Region=Sub-Saharan Africa<br>year=%{x}<br>Happiness Score=%{y}<extra></extra>",
           "hovertext": [
            "Mauritius",
            "Somalia",
            "Nigeria",
            "South Africa",
            "Sierra Leone",
            "Cameroon",
            "Namibia",
            "Kenya",
            "Mozambique",
            "Senegal",
            "Zambia",
            "Gabon",
            "Ethiopia",
            "Mauritania",
            "Congo (Brazzaville)",
            "Congo (Kinshasa)",
            "Mali",
            "Ivory Coast",
            "Sudan",
            "Ghana",
            "Uganda",
            "Burkina Faso",
            "Niger",
            "Malawi",
            "Chad",
            "Zimbabwe",
            "Lesotho",
            "Angola",
            "Botswana",
            "Benin",
            "Madagascar",
            "South Sudan",
            "Liberia",
            "Guinea",
            "Togo",
            "Rwanda",
            "Tanzania",
            "Burundi",
            "Central African Republic"
           ],
           "ids": [
            "Mauritius",
            "Somalia",
            "Nigeria",
            "South Africa",
            "Sierra Leone",
            "Cameroon",
            "Namibia",
            "Kenya",
            "Mozambique",
            "Senegal",
            "Zambia",
            "Gabon",
            "Ethiopia",
            "Mauritania",
            "Congo (Brazzaville)",
            "Congo (Kinshasa)",
            "Mali",
            "Ivory Coast",
            "Sudan",
            "Ghana",
            "Uganda",
            "Burkina Faso",
            "Niger",
            "Malawi",
            "Chad",
            "Zimbabwe",
            "Lesotho",
            "Angola",
            "Botswana",
            "Benin",
            "Madagascar",
            "South Sudan",
            "Liberia",
            "Guinea",
            "Togo",
            "Rwanda",
            "Tanzania",
            "Burundi",
            "Central African Republic"
           ],
           "legendgroup": "Sub-Saharan Africa",
           "marker": {
            "color": "#FECB52",
            "symbol": "circle"
           },
           "mode": "markers",
           "name": "Sub-Saharan Africa",
           "orientation": "v",
           "showlegend": true,
           "type": "scatter",
           "x": [
            2017,
            2017,
            2017,
            2017,
            2017,
            2017,
            2017,
            2017,
            2017,
            2017,
            2017,
            2017,
            2017,
            2017,
            2017,
            2017,
            2017,
            2017,
            2017,
            2017,
            2017,
            2017,
            2017,
            2017,
            2017,
            2017,
            2017,
            2017,
            2017,
            2017,
            2017,
            2017,
            2017,
            2017,
            2017,
            2017,
            2017,
            2017,
            2017
           ],
           "xaxis": "x",
           "y": [
            5.62900018692017,
            5.15100002288818,
            5.07399988174438,
            4.8289999961853,
            4.70900011062622,
            4.69500017166138,
            4.57399988174438,
            4.55299997329712,
            4.55000019073486,
            4.53499984741211,
            4.51399993896484,
            4.46500015258789,
            4.46000003814697,
            4.29199981689453,
            4.29099988937378,
            4.28000020980835,
            4.19000005722046,
            4.17999982833862,
            4.13899993896484,
            4.11999988555908,
            4.08099985122681,
            4.03200006484985,
            4.02799987792969,
            3.97000002861023,
            3.93600010871887,
            3.875,
            3.80800008773804,
            3.79500007629395,
            3.76600003242493,
            3.65700006484985,
            3.64400005340576,
            3.59100008010864,
            3.53299999237061,
            3.50699996948242,
            3.49499988555908,
            3.47099995613098,
            3.34899997711182,
            2.90499997138977,
            2.69300007820129
           ],
           "yaxis": "y"
          },
          {
           "hovertemplate": "<b>%{hovertext}</b><br><br>Region=South Asia<br>year=%{x}<br>Happiness Score=%{y}<extra></extra>",
           "hovertext": [
            "Pakistan",
            "Bhutan",
            "Nepal",
            "Bangladesh",
            "Sri Lanka",
            "India",
            "Afghanistan"
           ],
           "ids": [
            "Pakistan",
            "Bhutan",
            "Nepal",
            "Bangladesh",
            "Sri Lanka",
            "India",
            "Afghanistan"
           ],
           "legendgroup": "South Asia",
           "marker": {
            "color": "#636efa",
            "symbol": "circle"
           },
           "mode": "markers",
           "name": "South Asia",
           "orientation": "v",
           "showlegend": true,
           "type": "scatter",
           "x": [
            2017,
            2017,
            2017,
            2017,
            2017,
            2017,
            2017
           ],
           "xaxis": "x",
           "y": [
            5.26900005340576,
            5.01100015640259,
            4.96199989318848,
            4.60799980163574,
            4.44000005722046,
            4.31500005722046,
            3.79399991035461
           ],
           "yaxis": "y"
          }
         ],
         "name": "2017.0"
        },
        {
         "data": [
          {
           "hovertemplate": "<b>%{hovertext}</b><br><br>Region=Western Europe<br>year=%{x}<br>Happiness Score=%{y}<extra></extra>",
           "hovertext": [
            "Finland",
            "Norway",
            "Denmark",
            "Iceland",
            "Switzerland",
            "Netherlands",
            "Sweden",
            "United Kingdom",
            "Austria",
            "Ireland",
            "Germany",
            "Belgium",
            "Luxembourg",
            "Malta",
            "France",
            "Spain",
            "Italy",
            "Northern Cyprus",
            "Cyprus",
            "Portugal",
            "Greece"
           ],
           "ids": [
            "Finland",
            "Norway",
            "Denmark",
            "Iceland",
            "Switzerland",
            "Netherlands",
            "Sweden",
            "United Kingdom",
            "Austria",
            "Ireland",
            "Germany",
            "Belgium",
            "Luxembourg",
            "Malta",
            "France",
            "Spain",
            "Italy",
            "Northern Cyprus",
            "Cyprus",
            "Portugal",
            "Greece"
           ],
           "legendgroup": "Western Europe",
           "marker": {
            "color": "#636efa",
            "symbol": "circle"
           },
           "mode": "markers",
           "name": "Western Europe",
           "orientation": "v",
           "showlegend": true,
           "type": "scatter",
           "x": [
            2018,
            2018,
            2018,
            2018,
            2018,
            2018,
            2018,
            2018,
            2018,
            2018,
            2018,
            2018,
            2018,
            2018,
            2018,
            2018,
            2018,
            2018,
            2018,
            2018,
            2018
           ],
           "xaxis": "x",
           "y": [
            7.632,
            7.594,
            7.555,
            7.495,
            7.487,
            7.441,
            7.314,
            7.19,
            7.139,
            6.977,
            6.965,
            6.927,
            6.91,
            6.627,
            6.489,
            6.31,
            6,
            5.835,
            5.762,
            5.41,
            5.358
           ],
           "yaxis": "y"
          },
          {
           "hovertemplate": "<b>%{hovertext}</b><br><br>Region=North America<br>year=%{x}<br>Happiness Score=%{y}<extra></extra>",
           "hovertext": [
            "Canada",
            "United States"
           ],
           "ids": [
            "Canada",
            "United States"
           ],
           "legendgroup": "North America",
           "marker": {
            "color": "#EF553B",
            "symbol": "circle"
           },
           "mode": "markers",
           "name": "North America",
           "orientation": "v",
           "showlegend": true,
           "type": "scatter",
           "x": [
            2018,
            2018
           ],
           "xaxis": "x",
           "y": [
            7.328,
            6.886
           ],
           "yaxis": "y"
          },
          {
           "hovertemplate": "<b>%{hovertext}</b><br><br>Region=Oceania<br>year=%{x}<br>Happiness Score=%{y}<extra></extra>",
           "hovertext": [
            "New Zealand",
            "Australia"
           ],
           "ids": [
            "New Zealand",
            "Australia"
           ],
           "legendgroup": "Oceania",
           "marker": {
            "color": "#00cc96",
            "symbol": "circle"
           },
           "mode": "markers",
           "name": "Oceania",
           "orientation": "v",
           "showlegend": true,
           "type": "scatter",
           "x": [
            2018,
            2018
           ],
           "xaxis": "x",
           "y": [
            7.324,
            7.272
           ],
           "yaxis": "y"
          },
          {
           "hovertemplate": "<b>%{hovertext}</b><br><br>Region=Middle East and North Africa<br>year=%{x}<br>Happiness Score=%{y}<extra></extra>",
           "hovertext": [
            "Israel",
            "United Arab Emirates",
            "Qatar",
            "Saudi Arabia",
            "Bahrain",
            "Kuwait",
            "Libya",
            "Turkey",
            "Lebanon",
            "Algeria",
            "Morocco",
            "Jordan",
            "Palestinian Territories",
            "Iran",
            "Tunisia",
            "Iraq",
            "Egypt",
            "Syria",
            "Yemen"
           ],
           "ids": [
            "Israel",
            "United Arab Emirates",
            "Qatar",
            "Saudi Arabia",
            "Bahrain",
            "Kuwait",
            "Libya",
            "Turkey",
            "Lebanon",
            "Algeria",
            "Morocco",
            "Jordan",
            "Palestinian Territories",
            "Iran",
            "Tunisia",
            "Iraq",
            "Egypt",
            "Syria",
            "Yemen"
           ],
           "legendgroup": "Middle East and North Africa",
           "marker": {
            "color": "#ab63fa",
            "symbol": "circle"
           },
           "mode": "markers",
           "name": "Middle East and North Africa",
           "orientation": "v",
           "showlegend": true,
           "type": "scatter",
           "x": [
            2018,
            2018,
            2018,
            2018,
            2018,
            2018,
            2018,
            2018,
            2018,
            2018,
            2018,
            2018,
            2018,
            2018,
            2018,
            2018,
            2018,
            2018,
            2018
           ],
           "xaxis": "x",
           "y": [
            6.814,
            6.774,
            6.374,
            6.371,
            6.105,
            6.083,
            5.566,
            5.483,
            5.358,
            5.295,
            5.254,
            5.161,
            4.743,
            4.707,
            4.592,
            4.456,
            4.419,
            3.462,
            3.355
           ],
           "yaxis": "y"
          },
          {
           "hovertemplate": "<b>%{hovertext}</b><br><br>Region=Latin America and Caribbean<br>year=%{x}<br>Happiness Score=%{y}<extra></extra>",
           "hovertext": [
            "Costa Rica",
            "Mexico",
            "Chile",
            "Panama",
            "Brazil",
            "Argentina",
            "Guatemala",
            "Uruguay",
            "Colombia",
            "Trinidad and Tobago",
            "El Salvador",
            "Nicaragua",
            "Ecuador",
            "Belize",
            "Jamaica",
            "Bolivia",
            "Paraguay",
            "Peru",
            "Honduras",
            "Dominican Republic",
            "Venezuela",
            "Haiti"
           ],
           "ids": [
            "Costa Rica",
            "Mexico",
            "Chile",
            "Panama",
            "Brazil",
            "Argentina",
            "Guatemala",
            "Uruguay",
            "Colombia",
            "Trinidad and Tobago",
            "El Salvador",
            "Nicaragua",
            "Ecuador",
            "Belize",
            "Jamaica",
            "Bolivia",
            "Paraguay",
            "Peru",
            "Honduras",
            "Dominican Republic",
            "Venezuela",
            "Haiti"
           ],
           "legendgroup": "Latin America and Caribbean",
           "marker": {
            "color": "#FFA15A",
            "symbol": "circle"
           },
           "mode": "markers",
           "name": "Latin America and Caribbean",
           "orientation": "v",
           "showlegend": true,
           "type": "scatter",
           "x": [
            2018,
            2018,
            2018,
            2018,
            2018,
            2018,
            2018,
            2018,
            2018,
            2018,
            2018,
            2018,
            2018,
            2018,
            2018,
            2018,
            2018,
            2018,
            2018,
            2018,
            2018,
            2018
           ],
           "xaxis": "x",
           "y": [
            7.072,
            6.488,
            6.476,
            6.43,
            6.419,
            6.388,
            6.382,
            6.379,
            6.26,
            6.192,
            6.167,
            6.141,
            5.973,
            5.956,
            5.89,
            5.752,
            5.681,
            5.663,
            5.504,
            5.302,
            4.806,
            3.582
           ],
           "yaxis": "y"
          },
          {
           "hovertemplate": "<b>%{hovertext}</b><br><br>Region=Southeast Asia<br>year=%{x}<br>Happiness Score=%{y}<extra></extra>",
           "hovertext": [
            "Singapore",
            "Malaysia",
            "Thailand",
            "Philippines",
            "Vietnam",
            "Indonesia",
            "Laos",
            "Cambodia",
            "Myanmar"
           ],
           "ids": [
            "Singapore",
            "Malaysia",
            "Thailand",
            "Philippines",
            "Vietnam",
            "Indonesia",
            "Laos",
            "Cambodia",
            "Myanmar"
           ],
           "legendgroup": "Southeast Asia",
           "marker": {
            "color": "#19d3f3",
            "symbol": "circle"
           },
           "mode": "markers",
           "name": "Southeast Asia",
           "orientation": "v",
           "showlegend": true,
           "type": "scatter",
           "x": [
            2018,
            2018,
            2018,
            2018,
            2018,
            2018,
            2018,
            2018,
            2018
           ],
           "xaxis": "x",
           "y": [
            6.343,
            6.322,
            6.072,
            5.524,
            5.103,
            5.093,
            4.623,
            4.433,
            4.308
           ],
           "yaxis": "y"
          },
          {
           "hovertemplate": "<b>%{hovertext}</b><br><br>Region=Central and Eastern Europe<br>year=%{x}<br>Happiness Score=%{y}<extra></extra>",
           "hovertext": [
            "Czechia",
            "Slovakia",
            "Poland",
            "Lithuania",
            "Slovenia",
            "Romania",
            "Latvia",
            "Estonia",
            "Kosovo",
            "Hungary",
            "Serbia",
            "Montenegro",
            "Croatia",
            "North Macedonia",
            "Bosnia and Herzegovina",
            "Bulgaria",
            "Albania"
           ],
           "ids": [
            "Czechia",
            "Slovakia",
            "Poland",
            "Lithuania",
            "Slovenia",
            "Romania",
            "Latvia",
            "Estonia",
            "Kosovo",
            "Hungary",
            "Serbia",
            "Montenegro",
            "Croatia",
            "North Macedonia",
            "Bosnia and Herzegovina",
            "Bulgaria",
            "Albania"
           ],
           "legendgroup": "Central and Eastern Europe",
           "marker": {
            "color": "#FF6692",
            "symbol": "circle"
           },
           "mode": "markers",
           "name": "Central and Eastern Europe",
           "orientation": "v",
           "showlegend": true,
           "type": "scatter",
           "x": [
            2018,
            2018,
            2018,
            2018,
            2018,
            2018,
            2018,
            2018,
            2018,
            2018,
            2018,
            2018,
            2018,
            2018,
            2018,
            2018,
            2018
           ],
           "xaxis": "x",
           "y": [
            6.711,
            6.173,
            6.123,
            5.952,
            5.948,
            5.945,
            5.933,
            5.739,
            5.662,
            5.62,
            5.398,
            5.347,
            5.321,
            5.185,
            5.129,
            4.933,
            4.586
           ],
           "yaxis": "y"
          },
          {
           "hovertemplate": "<b>%{hovertext}</b><br><br>Region=East Asia<br>year=%{x}<br>Happiness Score=%{y}<extra></extra>",
           "hovertext": [
            "Taiwan",
            "Japan",
            "South Korea",
            "Hong Kong S.A.R. of China",
            "China",
            "Mongolia"
           ],
           "ids": [
            "Taiwan",
            "Japan",
            "South Korea",
            "Hong Kong S.A.R. of China",
            "China",
            "Mongolia"
           ],
           "legendgroup": "East Asia",
           "marker": {
            "color": "#B6E880",
            "symbol": "circle"
           },
           "mode": "markers",
           "name": "East Asia",
           "orientation": "v",
           "showlegend": true,
           "type": "scatter",
           "x": [
            2018,
            2018,
            2018,
            2018,
            2018,
            2018
           ],
           "xaxis": "x",
           "y": [
            6.441,
            5.915,
            5.875,
            5.43,
            5.246,
            5.125
           ],
           "yaxis": "y"
          },
          {
           "hovertemplate": "<b>%{hovertext}</b><br><br>Region=Commonwealth of Independent States<br>year=%{x}<br>Happiness Score=%{y}<extra></extra>",
           "hovertext": [
            "Uzbekistan",
            "Russia",
            "Kazakhstan",
            "Moldova",
            "Turkmenistan",
            "Belarus",
            "Azerbaijan",
            "Tajikistan",
            "Kyrgyzstan",
            "Georgia",
            "Armenia",
            "Ukraine"
           ],
           "ids": [
            "Uzbekistan",
            "Russia",
            "Kazakhstan",
            "Moldova",
            "Turkmenistan",
            "Belarus",
            "Azerbaijan",
            "Tajikistan",
            "Kyrgyzstan",
            "Georgia",
            "Armenia",
            "Ukraine"
           ],
           "legendgroup": "Commonwealth of Independent States",
           "marker": {
            "color": "#FF97FF",
            "symbol": "circle"
           },
           "mode": "markers",
           "name": "Commonwealth of Independent States",
           "orientation": "v",
           "showlegend": true,
           "type": "scatter",
           "x": [
            2018,
            2018,
            2018,
            2018,
            2018,
            2018,
            2018,
            2018,
            2018,
            2018,
            2018,
            2018
           ],
           "xaxis": "x",
           "y": [
            6.096,
            5.81,
            5.79,
            5.64,
            5.636,
            5.483,
            5.201,
            5.199,
            5.131,
            4.34,
            4.321,
            4.103
           ],
           "yaxis": "y"
          },
          {
           "hovertemplate": "<b>%{hovertext}</b><br><br>Region=Sub-Saharan Africa<br>year=%{x}<br>Happiness Score=%{y}<extra></extra>",
           "hovertext": [
            "Mauritius",
            "Nigeria",
            "Somalia",
            "Cameroon",
            "Gabon",
            "South Africa",
            "Ivory Coast",
            "Ghana",
            "Senegal",
            "Sierra Leone",
            "Congo (Brazzaville)",
            "Mali",
            "Namibia",
            "Burkina Faso",
            "Mozambique",
            "Kenya",
            "Zambia",
            "Mauritania",
            "Ethiopia",
            "Chad",
            "Congo (Kinshasa)",
            "Niger",
            "Uganda",
            "Benin",
            "Sudan",
            "Togo",
            "Guinea",
            "Lesotho",
            "Angola",
            "Madagascar",
            "Zimbabwe",
            "Botswana",
            "Malawi",
            "Liberia",
            "Rwanda",
            "Tanzania",
            "South Sudan",
            "Central African Republic",
            "Burundi"
           ],
           "ids": [
            "Mauritius",
            "Nigeria",
            "Somalia",
            "Cameroon",
            "Gabon",
            "South Africa",
            "Ivory Coast",
            "Ghana",
            "Senegal",
            "Sierra Leone",
            "Congo (Brazzaville)",
            "Mali",
            "Namibia",
            "Burkina Faso",
            "Mozambique",
            "Kenya",
            "Zambia",
            "Mauritania",
            "Ethiopia",
            "Chad",
            "Congo (Kinshasa)",
            "Niger",
            "Uganda",
            "Benin",
            "Sudan",
            "Togo",
            "Guinea",
            "Lesotho",
            "Angola",
            "Madagascar",
            "Zimbabwe",
            "Botswana",
            "Malawi",
            "Liberia",
            "Rwanda",
            "Tanzania",
            "South Sudan",
            "Central African Republic",
            "Burundi"
           ],
           "legendgroup": "Sub-Saharan Africa",
           "marker": {
            "color": "#FECB52",
            "symbol": "circle"
           },
           "mode": "markers",
           "name": "Sub-Saharan Africa",
           "orientation": "v",
           "showlegend": true,
           "type": "scatter",
           "x": [
            2018,
            2018,
            2018,
            2018,
            2018,
            2018,
            2018,
            2018,
            2018,
            2018,
            2018,
            2018,
            2018,
            2018,
            2018,
            2018,
            2018,
            2018,
            2018,
            2018,
            2018,
            2018,
            2018,
            2018,
            2018,
            2018,
            2018,
            2018,
            2018,
            2018,
            2018,
            2018,
            2018,
            2018,
            2018,
            2018,
            2018,
            2018,
            2018
           ],
           "xaxis": "x",
           "y": [
            5.891,
            5.155,
            4.982,
            4.975,
            4.758,
            4.724,
            4.671,
            4.657,
            4.631,
            4.571,
            4.559,
            4.447,
            4.441,
            4.424,
            4.417,
            4.41,
            4.377,
            4.356,
            4.35,
            4.301,
            4.245,
            4.166,
            4.161,
            4.141,
            4.139,
            3.999,
            3.964,
            3.808,
            3.795,
            3.774,
            3.692,
            3.59,
            3.587,
            3.495,
            3.408,
            3.303,
            3.254,
            3.083,
            2.905
           ],
           "yaxis": "y"
          },
          {
           "hovertemplate": "<b>%{hovertext}</b><br><br>Region=South Asia<br>year=%{x}<br>Happiness Score=%{y}<extra></extra>",
           "hovertext": [
            "Pakistan",
            "Bhutan",
            "Nepal",
            "Bangladesh",
            "Sri Lanka",
            "India",
            "Afghanistan"
           ],
           "ids": [
            "Pakistan",
            "Bhutan",
            "Nepal",
            "Bangladesh",
            "Sri Lanka",
            "India",
            "Afghanistan"
           ],
           "legendgroup": "South Asia",
           "marker": {
            "color": "#636efa",
            "symbol": "circle"
           },
           "mode": "markers",
           "name": "South Asia",
           "orientation": "v",
           "showlegend": true,
           "type": "scatter",
           "x": [
            2018,
            2018,
            2018,
            2018,
            2018,
            2018,
            2018
           ],
           "xaxis": "x",
           "y": [
            5.472,
            5.082,
            4.88,
            4.5,
            4.471,
            4.19,
            3.632
           ],
           "yaxis": "y"
          }
         ],
         "name": "2018.0"
        },
        {
         "data": [
          {
           "hovertemplate": "<b>%{hovertext}</b><br><br>Region=Western Europe<br>year=%{x}<br>Happiness Score=%{y}<extra></extra>",
           "hovertext": [
            "Finland",
            "Denmark",
            "Norway",
            "Iceland",
            "Netherlands",
            "Switzerland",
            "Sweden",
            "Austria",
            "Luxembourg",
            "United Kingdom",
            "Ireland",
            "Germany",
            "Belgium",
            "Malta",
            "France",
            "Spain",
            "Italy",
            "Cyprus",
            "Northern Cyprus",
            "Portugal",
            "Greece"
           ],
           "ids": [
            "Finland",
            "Denmark",
            "Norway",
            "Iceland",
            "Netherlands",
            "Switzerland",
            "Sweden",
            "Austria",
            "Luxembourg",
            "United Kingdom",
            "Ireland",
            "Germany",
            "Belgium",
            "Malta",
            "France",
            "Spain",
            "Italy",
            "Cyprus",
            "Northern Cyprus",
            "Portugal",
            "Greece"
           ],
           "legendgroup": "Western Europe",
           "marker": {
            "color": "#636efa",
            "symbol": "circle"
           },
           "mode": "markers",
           "name": "Western Europe",
           "orientation": "v",
           "showlegend": true,
           "type": "scatter",
           "x": [
            2019,
            2019,
            2019,
            2019,
            2019,
            2019,
            2019,
            2019,
            2019,
            2019,
            2019,
            2019,
            2019,
            2019,
            2019,
            2019,
            2019,
            2019,
            2019,
            2019,
            2019
           ],
           "xaxis": "x",
           "y": [
            7.769,
            7.6,
            7.554,
            7.494,
            7.488,
            7.48,
            7.343,
            7.246,
            7.09,
            7.054,
            7.021,
            6.985,
            6.923,
            6.726,
            6.592,
            6.354,
            6.223,
            6.046,
            5.718,
            5.693,
            5.287
           ],
           "yaxis": "y"
          },
          {
           "hovertemplate": "<b>%{hovertext}</b><br><br>Region=North America<br>year=%{x}<br>Happiness Score=%{y}<extra></extra>",
           "hovertext": [
            "Canada",
            "United States"
           ],
           "ids": [
            "Canada",
            "United States"
           ],
           "legendgroup": "North America",
           "marker": {
            "color": "#EF553B",
            "symbol": "circle"
           },
           "mode": "markers",
           "name": "North America",
           "orientation": "v",
           "showlegend": true,
           "type": "scatter",
           "x": [
            2019,
            2019
           ],
           "xaxis": "x",
           "y": [
            7.278,
            6.892
           ],
           "yaxis": "y"
          },
          {
           "hovertemplate": "<b>%{hovertext}</b><br><br>Region=Oceania<br>year=%{x}<br>Happiness Score=%{y}<extra></extra>",
           "hovertext": [
            "New Zealand",
            "Australia"
           ],
           "ids": [
            "New Zealand",
            "Australia"
           ],
           "legendgroup": "Oceania",
           "marker": {
            "color": "#00cc96",
            "symbol": "circle"
           },
           "mode": "markers",
           "name": "Oceania",
           "orientation": "v",
           "showlegend": true,
           "type": "scatter",
           "x": [
            2019,
            2019
           ],
           "xaxis": "x",
           "y": [
            7.307,
            7.228
           ],
           "yaxis": "y"
          },
          {
           "hovertemplate": "<b>%{hovertext}</b><br><br>Region=Middle East and North Africa<br>year=%{x}<br>Happiness Score=%{y}<extra></extra>",
           "hovertext": [
            "Israel",
            "United Arab Emirates",
            "Saudi Arabia",
            "Qatar",
            "Bahrain",
            "Kuwait",
            "Libya",
            "Turkey",
            "Algeria",
            "Morocco",
            "Lebanon",
            "Jordan",
            "Palestinian Territories",
            "Iran",
            "Tunisia",
            "Iraq",
            "Egypt",
            "Syria",
            "Yemen"
           ],
           "ids": [
            "Israel",
            "United Arab Emirates",
            "Saudi Arabia",
            "Qatar",
            "Bahrain",
            "Kuwait",
            "Libya",
            "Turkey",
            "Algeria",
            "Morocco",
            "Lebanon",
            "Jordan",
            "Palestinian Territories",
            "Iran",
            "Tunisia",
            "Iraq",
            "Egypt",
            "Syria",
            "Yemen"
           ],
           "legendgroup": "Middle East and North Africa",
           "marker": {
            "color": "#ab63fa",
            "symbol": "circle"
           },
           "mode": "markers",
           "name": "Middle East and North Africa",
           "orientation": "v",
           "showlegend": true,
           "type": "scatter",
           "x": [
            2019,
            2019,
            2019,
            2019,
            2019,
            2019,
            2019,
            2019,
            2019,
            2019,
            2019,
            2019,
            2019,
            2019,
            2019,
            2019,
            2019,
            2019,
            2019
           ],
           "xaxis": "x",
           "y": [
            7.139,
            6.825,
            6.375,
            6.374,
            6.199,
            6.021,
            5.525,
            5.373,
            5.211,
            5.208,
            5.197,
            4.906,
            4.696,
            4.548,
            4.461,
            4.437,
            4.166,
            3.462,
            3.38
           ],
           "yaxis": "y"
          },
          {
           "hovertemplate": "<b>%{hovertext}</b><br><br>Region=Latin America and Caribbean<br>year=%{x}<br>Happiness Score=%{y}<extra></extra>",
           "hovertext": [
            "Costa Rica",
            "Mexico",
            "Chile",
            "Guatemala",
            "Panama",
            "Brazil",
            "Uruguay",
            "El Salvador",
            "Trinidad and Tobago",
            "Colombia",
            "Nicaragua",
            "Argentina",
            "Ecuador",
            "Jamaica",
            "Honduras",
            "Bolivia",
            "Paraguay",
            "Peru",
            "Dominican Republic",
            "Venezuela",
            "Haiti"
           ],
           "ids": [
            "Costa Rica",
            "Mexico",
            "Chile",
            "Guatemala",
            "Panama",
            "Brazil",
            "Uruguay",
            "El Salvador",
            "Trinidad and Tobago",
            "Colombia",
            "Nicaragua",
            "Argentina",
            "Ecuador",
            "Jamaica",
            "Honduras",
            "Bolivia",
            "Paraguay",
            "Peru",
            "Dominican Republic",
            "Venezuela",
            "Haiti"
           ],
           "legendgroup": "Latin America and Caribbean",
           "marker": {
            "color": "#FFA15A",
            "symbol": "circle"
           },
           "mode": "markers",
           "name": "Latin America and Caribbean",
           "orientation": "v",
           "showlegend": true,
           "type": "scatter",
           "x": [
            2019,
            2019,
            2019,
            2019,
            2019,
            2019,
            2019,
            2019,
            2019,
            2019,
            2019,
            2019,
            2019,
            2019,
            2019,
            2019,
            2019,
            2019,
            2019,
            2019,
            2019
           ],
           "xaxis": "x",
           "y": [
            7.167,
            6.595,
            6.444,
            6.436,
            6.321,
            6.3,
            6.293,
            6.253,
            6.192,
            6.125,
            6.105,
            6.086,
            6.028,
            5.89,
            5.86,
            5.779,
            5.743,
            5.697,
            5.425,
            4.707,
            3.597
           ],
           "yaxis": "y"
          },
          {
           "hovertemplate": "<b>%{hovertext}</b><br><br>Region=Southeast Asia<br>year=%{x}<br>Happiness Score=%{y}<extra></extra>",
           "hovertext": [
            "Singapore",
            "Thailand",
            "Philippines",
            "Malaysia",
            "Indonesia",
            "Vietnam",
            "Laos",
            "Cambodia",
            "Myanmar"
           ],
           "ids": [
            "Singapore",
            "Thailand",
            "Philippines",
            "Malaysia",
            "Indonesia",
            "Vietnam",
            "Laos",
            "Cambodia",
            "Myanmar"
           ],
           "legendgroup": "Southeast Asia",
           "marker": {
            "color": "#19d3f3",
            "symbol": "circle"
           },
           "mode": "markers",
           "name": "Southeast Asia",
           "orientation": "v",
           "showlegend": true,
           "type": "scatter",
           "x": [
            2019,
            2019,
            2019,
            2019,
            2019,
            2019,
            2019,
            2019,
            2019
           ],
           "xaxis": "x",
           "y": [
            6.262,
            6.008,
            5.631,
            5.339,
            5.192,
            5.175,
            4.796,
            4.7,
            4.36
           ],
           "yaxis": "y"
          },
          {
           "hovertemplate": "<b>%{hovertext}</b><br><br>Region=Central and Eastern Europe<br>year=%{x}<br>Happiness Score=%{y}<extra></extra>",
           "hovertext": [
            "Czechia",
            "Slovakia",
            "Poland",
            "Lithuania",
            "Slovenia",
            "Kosovo",
            "Romania",
            "Latvia",
            "Estonia",
            "Hungary",
            "Serbia",
            "Montenegro",
            "Croatia",
            "Bosnia and Herzegovina",
            "North Macedonia",
            "Bulgaria",
            "Albania"
           ],
           "ids": [
            "Czechia",
            "Slovakia",
            "Poland",
            "Lithuania",
            "Slovenia",
            "Kosovo",
            "Romania",
            "Latvia",
            "Estonia",
            "Hungary",
            "Serbia",
            "Montenegro",
            "Croatia",
            "Bosnia and Herzegovina",
            "North Macedonia",
            "Bulgaria",
            "Albania"
           ],
           "legendgroup": "Central and Eastern Europe",
           "marker": {
            "color": "#FF6692",
            "symbol": "circle"
           },
           "mode": "markers",
           "name": "Central and Eastern Europe",
           "orientation": "v",
           "showlegend": true,
           "type": "scatter",
           "x": [
            2019,
            2019,
            2019,
            2019,
            2019,
            2019,
            2019,
            2019,
            2019,
            2019,
            2019,
            2019,
            2019,
            2019,
            2019,
            2019,
            2019
           ],
           "xaxis": "x",
           "y": [
            6.852,
            6.198,
            6.182,
            6.149,
            6.118,
            6.1,
            6.07,
            5.94,
            5.893,
            5.758,
            5.603,
            5.523,
            5.432,
            5.386,
            5.274,
            5.011,
            4.719
           ],
           "yaxis": "y"
          },
          {
           "hovertemplate": "<b>%{hovertext}</b><br><br>Region=East Asia<br>year=%{x}<br>Happiness Score=%{y}<extra></extra>",
           "hovertext": [
            "Taiwan",
            "South Korea",
            "Japan",
            "Hong Kong S.A.R. of China",
            "Mongolia",
            "China"
           ],
           "ids": [
            "Taiwan",
            "South Korea",
            "Japan",
            "Hong Kong S.A.R. of China",
            "Mongolia",
            "China"
           ],
           "legendgroup": "East Asia",
           "marker": {
            "color": "#B6E880",
            "symbol": "circle"
           },
           "mode": "markers",
           "name": "East Asia",
           "orientation": "v",
           "showlegend": true,
           "type": "scatter",
           "x": [
            2019,
            2019,
            2019,
            2019,
            2019,
            2019
           ],
           "xaxis": "x",
           "y": [
            6.446,
            5.895,
            5.886,
            5.43,
            5.285,
            5.191
           ],
           "yaxis": "y"
          },
          {
           "hovertemplate": "<b>%{hovertext}</b><br><br>Region=Commonwealth of Independent States<br>year=%{x}<br>Happiness Score=%{y}<extra></extra>",
           "hovertext": [
            "Uzbekistan",
            "Kazakhstan",
            "Russia",
            "Moldova",
            "Tajikistan",
            "Belarus",
            "Kyrgyzstan",
            "Turkmenistan",
            "Azerbaijan",
            "Armenia",
            "Georgia",
            "Ukraine"
           ],
           "ids": [
            "Uzbekistan",
            "Kazakhstan",
            "Russia",
            "Moldova",
            "Tajikistan",
            "Belarus",
            "Kyrgyzstan",
            "Turkmenistan",
            "Azerbaijan",
            "Armenia",
            "Georgia",
            "Ukraine"
           ],
           "legendgroup": "Commonwealth of Independent States",
           "marker": {
            "color": "#FF97FF",
            "symbol": "circle"
           },
           "mode": "markers",
           "name": "Commonwealth of Independent States",
           "orientation": "v",
           "showlegend": true,
           "type": "scatter",
           "x": [
            2019,
            2019,
            2019,
            2019,
            2019,
            2019,
            2019,
            2019,
            2019,
            2019,
            2019,
            2019
           ],
           "xaxis": "x",
           "y": [
            6.174,
            5.809,
            5.648,
            5.529,
            5.467,
            5.323,
            5.261,
            5.247,
            5.208,
            4.559,
            4.519,
            4.332
           ],
           "yaxis": "y"
          },
          {
           "hovertemplate": "<b>%{hovertext}</b><br><br>Region=Sub-Saharan Africa<br>year=%{x}<br>Happiness Score=%{y}<extra></extra>",
           "hovertext": [
            "Mauritius",
            "Nigeria",
            "Cameroon",
            "Ghana",
            "Ivory Coast",
            "Benin",
            "Congo (Brazzaville)",
            "Gabon",
            "South Africa",
            "Senegal",
            "Somalia",
            "Namibia",
            "Niger",
            "Burkina Faso",
            "Guinea",
            "Gambia",
            "Kenya",
            "Mauritania",
            "Mozambique",
            "Congo (Kinshasa)",
            "Mali",
            "Sierra Leone",
            "Chad",
            "Ethiopia",
            "Kingdom of Eswatini ",
            "Uganda",
            "Zambia",
            "Togo",
            "Liberia",
            "Comoros",
            "Madagascar",
            "Lesotho",
            "Burundi",
            "Zimbabwe",
            "Botswana",
            "Malawi",
            "Rwanda",
            "Tanzania",
            "Central African Republic",
            "South Sudan"
           ],
           "ids": [
            "Mauritius",
            "Nigeria",
            "Cameroon",
            "Ghana",
            "Ivory Coast",
            "Benin",
            "Congo (Brazzaville)",
            "Gabon",
            "South Africa",
            "Senegal",
            "Somalia",
            "Namibia",
            "Niger",
            "Burkina Faso",
            "Guinea",
            "Gambia",
            "Kenya",
            "Mauritania",
            "Mozambique",
            "Congo (Kinshasa)",
            "Mali",
            "Sierra Leone",
            "Chad",
            "Ethiopia",
            "Kingdom of Eswatini ",
            "Uganda",
            "Zambia",
            "Togo",
            "Liberia",
            "Comoros",
            "Madagascar",
            "Lesotho",
            "Burundi",
            "Zimbabwe",
            "Botswana",
            "Malawi",
            "Rwanda",
            "Tanzania",
            "Central African Republic",
            "South Sudan"
           ],
           "legendgroup": "Sub-Saharan Africa",
           "marker": {
            "color": "#FECB52",
            "symbol": "circle"
           },
           "mode": "markers",
           "name": "Sub-Saharan Africa",
           "orientation": "v",
           "showlegend": true,
           "type": "scatter",
           "x": [
            2019,
            2019,
            2019,
            2019,
            2019,
            2019,
            2019,
            2019,
            2019,
            2019,
            2019,
            2019,
            2019,
            2019,
            2019,
            2019,
            2019,
            2019,
            2019,
            2019,
            2019,
            2019,
            2019,
            2019,
            2019,
            2019,
            2019,
            2019,
            2019,
            2019,
            2019,
            2019,
            2019,
            2019,
            2019,
            2019,
            2019,
            2019,
            2019,
            2019
           ],
           "xaxis": "x",
           "y": [
            5.888,
            5.265,
            5.044,
            4.996,
            4.944,
            4.883,
            4.812,
            4.799,
            4.722,
            4.681,
            4.668,
            4.639,
            4.628,
            4.587,
            4.534,
            4.516,
            4.509,
            4.49,
            4.466,
            4.418,
            4.39,
            4.374,
            4.35,
            4.286,
            4.212,
            4.189,
            4.107,
            4.085,
            3.975,
            3.973,
            3.933,
            3.802,
            3.775,
            3.663,
            3.488,
            3.41,
            3.334,
            3.231,
            3.083,
            2.853
           ],
           "yaxis": "y"
          },
          {
           "hovertemplate": "<b>%{hovertext}</b><br><br>Region=South Asia<br>year=%{x}<br>Happiness Score=%{y}<extra></extra>",
           "hovertext": [
            "Pakistan",
            "Bhutan",
            "Nepal",
            "Bangladesh",
            "Sri Lanka",
            "India",
            "Afghanistan"
           ],
           "ids": [
            "Pakistan",
            "Bhutan",
            "Nepal",
            "Bangladesh",
            "Sri Lanka",
            "India",
            "Afghanistan"
           ],
           "legendgroup": "South Asia",
           "marker": {
            "color": "#636efa",
            "symbol": "circle"
           },
           "mode": "markers",
           "name": "South Asia",
           "orientation": "v",
           "showlegend": true,
           "type": "scatter",
           "x": [
            2019,
            2019,
            2019,
            2019,
            2019,
            2019,
            2019
           ],
           "xaxis": "x",
           "y": [
            5.653,
            5.082,
            4.913,
            4.456,
            4.366,
            4.015,
            3.203
           ],
           "yaxis": "y"
          }
         ],
         "name": "2019.0"
        },
        {
         "data": [
          {
           "hovertemplate": "<b>%{hovertext}</b><br><br>Region=Western Europe<br>year=%{x}<br>Happiness Score=%{y}<extra></extra>",
           "hovertext": [
            "Finland",
            "Denmark",
            "Switzerland",
            "Iceland",
            "Norway",
            "Netherlands",
            "Sweden",
            "Austria",
            "Luxembourg",
            "United Kingdom",
            "Ireland",
            "Germany",
            "Belgium",
            "Malta",
            "France",
            "Spain",
            "Italy",
            "Cyprus",
            "Portugal",
            "Northern Cyprus",
            "Greece"
           ],
           "ids": [
            "Finland",
            "Denmark",
            "Switzerland",
            "Iceland",
            "Norway",
            "Netherlands",
            "Sweden",
            "Austria",
            "Luxembourg",
            "United Kingdom",
            "Ireland",
            "Germany",
            "Belgium",
            "Malta",
            "France",
            "Spain",
            "Italy",
            "Cyprus",
            "Portugal",
            "Northern Cyprus",
            "Greece"
           ],
           "legendgroup": "Western Europe",
           "marker": {
            "color": "#636efa",
            "symbol": "circle"
           },
           "mode": "markers",
           "name": "Western Europe",
           "orientation": "v",
           "showlegend": true,
           "type": "scatter",
           "x": [
            2020,
            2020,
            2020,
            2020,
            2020,
            2020,
            2020,
            2020,
            2020,
            2020,
            2020,
            2020,
            2020,
            2020,
            2020,
            2020,
            2020,
            2020,
            2020,
            2020,
            2020
           ],
           "xaxis": "x",
           "y": [
            7.808700085,
            7.645599842,
            7.559899807,
            7.504499912,
            7.487999916,
            7.448900223,
            7.353499889,
            7.294199944,
            7.237500191,
            7.164500237,
            7.093699932,
            7.075799942,
            6.863500118,
            6.772799969,
            6.663799763,
            6.400899887,
            6.38740015,
            6.15899992,
            5.910900116,
            5.53550005,
            5.514999866
           ],
           "yaxis": "y"
          },
          {
           "hovertemplate": "<b>%{hovertext}</b><br><br>Region=North America<br>year=%{x}<br>Happiness Score=%{y}<extra></extra>",
           "hovertext": [
            "Canada",
            "United States"
           ],
           "ids": [
            "Canada",
            "United States"
           ],
           "legendgroup": "North America",
           "marker": {
            "color": "#EF553B",
            "symbol": "circle"
           },
           "mode": "markers",
           "name": "North America",
           "orientation": "v",
           "showlegend": true,
           "type": "scatter",
           "x": [
            2020,
            2020
           ],
           "xaxis": "x",
           "y": [
            7.23210001,
            6.939599991
           ],
           "yaxis": "y"
          },
          {
           "hovertemplate": "<b>%{hovertext}</b><br><br>Region=Oceania<br>year=%{x}<br>Happiness Score=%{y}<extra></extra>",
           "hovertext": [
            "New Zealand",
            "Australia"
           ],
           "ids": [
            "New Zealand",
            "Australia"
           ],
           "legendgroup": "Oceania",
           "marker": {
            "color": "#00cc96",
            "symbol": "circle"
           },
           "mode": "markers",
           "name": "Oceania",
           "orientation": "v",
           "showlegend": true,
           "type": "scatter",
           "x": [
            2020,
            2020
           ],
           "xaxis": "x",
           "y": [
            7.299600124,
            7.222799778
           ],
           "yaxis": "y"
          },
          {
           "hovertemplate": "<b>%{hovertext}</b><br><br>Region=Middle East and North Africa<br>year=%{x}<br>Happiness Score=%{y}<extra></extra>",
           "hovertext": [
            "Israel",
            "United Arab Emirates",
            "Saudi Arabia",
            "Bahrain",
            "Kuwait",
            "Libya",
            "Turkey",
            "Morocco",
            "Algeria",
            "Iraq",
            "Lebanon",
            "Iran",
            "Jordan",
            "Palestinian Territories",
            "Tunisia",
            "Egypt",
            "Yemen"
           ],
           "ids": [
            "Israel",
            "United Arab Emirates",
            "Saudi Arabia",
            "Bahrain",
            "Kuwait",
            "Libya",
            "Turkey",
            "Morocco",
            "Algeria",
            "Iraq",
            "Lebanon",
            "Iran",
            "Jordan",
            "Palestinian Territories",
            "Tunisia",
            "Egypt",
            "Yemen"
           ],
           "legendgroup": "Middle East and North Africa",
           "marker": {
            "color": "#ab63fa",
            "symbol": "circle"
           },
           "mode": "markers",
           "name": "Middle East and North Africa",
           "orientation": "v",
           "showlegend": true,
           "type": "scatter",
           "x": [
            2020,
            2020,
            2020,
            2020,
            2020,
            2020,
            2020,
            2020,
            2020,
            2020,
            2020,
            2020,
            2020,
            2020,
            2020,
            2020,
            2020
           ],
           "xaxis": "x",
           "y": [
            7.128600121,
            6.790800095,
            6.406499863,
            6.227300167,
            6.102099895,
            5.488800049,
            5.131800175,
            5.094799995,
            5.005099773,
            4.784800053,
            4.771500111,
            4.672399998,
            4.633399963,
            4.552800179,
            4.392199993,
            4.151400089,
            3.527400017
           ],
           "yaxis": "y"
          },
          {
           "hovertemplate": "<b>%{hovertext}</b><br><br>Region=Latin America and Caribbean<br>year=%{x}<br>Happiness Score=%{y}<extra></extra>",
           "hovertext": [
            "Costa Rica",
            "Mexico",
            "Uruguay",
            "Guatemala",
            "Brazil",
            "El Salvador",
            "Panama",
            "Chile",
            "Trinidad and Tobago",
            "Colombia",
            "Nicaragua",
            "Argentina",
            "Honduras",
            "Ecuador",
            "Jamaica",
            "Peru",
            "Bolivia",
            "Paraguay",
            "Dominican Republic",
            "Venezuela",
            "Haiti"
           ],
           "ids": [
            "Costa Rica",
            "Mexico",
            "Uruguay",
            "Guatemala",
            "Brazil",
            "El Salvador",
            "Panama",
            "Chile",
            "Trinidad and Tobago",
            "Colombia",
            "Nicaragua",
            "Argentina",
            "Honduras",
            "Ecuador",
            "Jamaica",
            "Peru",
            "Bolivia",
            "Paraguay",
            "Dominican Republic",
            "Venezuela",
            "Haiti"
           ],
           "legendgroup": "Latin America and Caribbean",
           "marker": {
            "color": "#FFA15A",
            "symbol": "circle"
           },
           "mode": "markers",
           "name": "Latin America and Caribbean",
           "orientation": "v",
           "showlegend": true,
           "type": "scatter",
           "x": [
            2020,
            2020,
            2020,
            2020,
            2020,
            2020,
            2020,
            2020,
            2020,
            2020,
            2020,
            2020,
            2020,
            2020,
            2020,
            2020,
            2020,
            2020,
            2020,
            2020,
            2020
           ],
           "xaxis": "x",
           "y": [
            7.121399879,
            6.465000153,
            6.440100193,
            6.398900032,
            6.375599861,
            6.34829998,
            6.304800034,
            6.228499889,
            6.191899776,
            6.163400173,
            6.13710022,
            5.974699974,
            5.953199863,
            5.925199986,
            5.889800072,
            5.796800137,
            5.747499943,
            5.692100048,
            5.689199924,
            5.053199768,
            3.720799923
           ],
           "yaxis": "y"
          },
          {
           "hovertemplate": "<b>%{hovertext}</b><br><br>Region=Southeast Asia<br>year=%{x}<br>Happiness Score=%{y}<extra></extra>",
           "hovertext": [
            "Singapore",
            "Philippines",
            "Thailand",
            "Malaysia",
            "Vietnam",
            "Indonesia",
            "Laos",
            "Cambodia",
            "Myanmar"
           ],
           "ids": [
            "Singapore",
            "Philippines",
            "Thailand",
            "Malaysia",
            "Vietnam",
            "Indonesia",
            "Laos",
            "Cambodia",
            "Myanmar"
           ],
           "legendgroup": "Southeast Asia",
           "marker": {
            "color": "#19d3f3",
            "symbol": "circle"
           },
           "mode": "markers",
           "name": "Southeast Asia",
           "orientation": "v",
           "showlegend": true,
           "type": "scatter",
           "x": [
            2020,
            2020,
            2020,
            2020,
            2020,
            2020,
            2020,
            2020,
            2020
           ],
           "xaxis": "x",
           "y": [
            6.377099991,
            6.006000042,
            5.998799801,
            5.384300232,
            5.353499889,
            5.285600185,
            4.888599873,
            4.848400116,
            4.308000088
           ],
           "yaxis": "y"
          },
          {
           "hovertemplate": "<b>%{hovertext}</b><br><br>Region=Central and Eastern Europe<br>year=%{x}<br>Happiness Score=%{y}<extra></extra>",
           "hovertext": [
            "Czechia",
            "Slovenia",
            "Kosovo",
            "Slovakia",
            "Lithuania",
            "Poland",
            "Romania",
            "Estonia",
            "Hungary",
            "Latvia",
            "Serbia",
            "Bosnia and Herzegovina",
            "Montenegro",
            "Croatia",
            "North Macedonia",
            "Bulgaria",
            "Albania"
           ],
           "ids": [
            "Czechia",
            "Slovenia",
            "Kosovo",
            "Slovakia",
            "Lithuania",
            "Poland",
            "Romania",
            "Estonia",
            "Hungary",
            "Latvia",
            "Serbia",
            "Bosnia and Herzegovina",
            "Montenegro",
            "Croatia",
            "North Macedonia",
            "Bulgaria",
            "Albania"
           ],
           "legendgroup": "Central and Eastern Europe",
           "marker": {
            "color": "#FF6692",
            "symbol": "circle"
           },
           "mode": "markers",
           "name": "Central and Eastern Europe",
           "orientation": "v",
           "showlegend": true,
           "type": "scatter",
           "x": [
            2020,
            2020,
            2020,
            2020,
            2020,
            2020,
            2020,
            2020,
            2020,
            2020,
            2020,
            2020,
            2020,
            2020,
            2020,
            2020,
            2020
           ],
           "xaxis": "x",
           "y": [
            6.910900116,
            6.363399982,
            6.325200081,
            6.280600071,
            6.215499878,
            6.186299801,
            6.123700142,
            6.021800041,
            6.000400066,
            5.949999809,
            5.77820015,
            5.674099922,
            5.54610014,
            5.504700184,
            5.159800053,
            5.101500034,
            4.882699966
           ],
           "yaxis": "y"
          },
          {
           "hovertemplate": "<b>%{hovertext}</b><br><br>Region=East Asia<br>year=%{x}<br>Happiness Score=%{y}<extra></extra>",
           "hovertext": [
            "Taiwan",
            "South Korea",
            "Japan",
            "Hong Kong S.A.R. of China",
            "Mongolia",
            "China"
           ],
           "ids": [
            "Taiwan",
            "South Korea",
            "Japan",
            "Hong Kong S.A.R. of China",
            "Mongolia",
            "China"
           ],
           "legendgroup": "East Asia",
           "marker": {
            "color": "#B6E880",
            "symbol": "circle"
           },
           "mode": "markers",
           "name": "East Asia",
           "orientation": "v",
           "showlegend": true,
           "type": "scatter",
           "x": [
            2020,
            2020,
            2020,
            2020,
            2020,
            2020
           ],
           "xaxis": "x",
           "y": [
            6.45539999,
            5.872399807,
            5.870800018,
            5.510399818,
            5.456200123,
            5.123899937
           ],
           "yaxis": "y"
          },
          {
           "hovertemplate": "<b>%{hovertext}</b><br><br>Region=Commonwealth of Independent States<br>year=%{x}<br>Happiness Score=%{y}<extra></extra>",
           "hovertext": [
            "Uzbekistan",
            "Kazakhstan",
            "Moldova",
            "Tajikistan",
            "Russia",
            "Kyrgyzstan",
            "Belarus",
            "Azerbaijan",
            "Turkmenistan",
            "Armenia",
            "Georgia",
            "Ukraine"
           ],
           "ids": [
            "Uzbekistan",
            "Kazakhstan",
            "Moldova",
            "Tajikistan",
            "Russia",
            "Kyrgyzstan",
            "Belarus",
            "Azerbaijan",
            "Turkmenistan",
            "Armenia",
            "Georgia",
            "Ukraine"
           ],
           "legendgroup": "Commonwealth of Independent States",
           "marker": {
            "color": "#FF97FF",
            "symbol": "circle"
           },
           "mode": "markers",
           "name": "Commonwealth of Independent States",
           "orientation": "v",
           "showlegend": true,
           "type": "scatter",
           "x": [
            2020,
            2020,
            2020,
            2020,
            2020,
            2020,
            2020,
            2020,
            2020,
            2020,
            2020,
            2020
           ],
           "xaxis": "x",
           "y": [
            6.257599831,
            6.057899952,
            5.607500076,
            5.555699825,
            5.546000004,
            5.541500092,
            5.539899826,
            5.164800167,
            5.119100094,
            4.676799774,
            4.672599792,
            4.56069994
           ],
           "yaxis": "y"
          },
          {
           "hovertemplate": "<b>%{hovertext}</b><br><br>Region=Sub-Saharan Africa<br>year=%{x}<br>Happiness Score=%{y}<extra></extra>",
           "hovertext": [
            "Mauritius",
            "Ivory Coast",
            "Benin",
            "Congo (Brazzaville)",
            "Ghana",
            "Cameroon",
            "Senegal",
            "Guinea",
            "Niger",
            "Gabon",
            "South Africa",
            "Burkina Faso",
            "Gambia",
            "Mali",
            "Nigeria",
            "Mozambique",
            "Kenya",
            "Namibia",
            "Liberia",
            "Uganda",
            "Chad",
            "Mauritania",
            "Congo (Kinshasa)",
            "Kingdom of Eswatini ",
            "Comoros",
            "Togo",
            "Ethiopia",
            "Madagascar",
            "Sierra Leone",
            "Burundi",
            "Zambia",
            "Lesotho",
            "Malawi",
            "Botswana",
            "Tanzania",
            "Central African Republic",
            "Rwanda",
            "Zimbabwe",
            "South Sudan"
           ],
           "ids": [
            "Mauritius",
            "Ivory Coast",
            "Benin",
            "Congo (Brazzaville)",
            "Ghana",
            "Cameroon",
            "Senegal",
            "Guinea",
            "Niger",
            "Gabon",
            "South Africa",
            "Burkina Faso",
            "Gambia",
            "Mali",
            "Nigeria",
            "Mozambique",
            "Kenya",
            "Namibia",
            "Liberia",
            "Uganda",
            "Chad",
            "Mauritania",
            "Congo (Kinshasa)",
            "Kingdom of Eswatini ",
            "Comoros",
            "Togo",
            "Ethiopia",
            "Madagascar",
            "Sierra Leone",
            "Burundi",
            "Zambia",
            "Lesotho",
            "Malawi",
            "Botswana",
            "Tanzania",
            "Central African Republic",
            "Rwanda",
            "Zimbabwe",
            "South Sudan"
           ],
           "legendgroup": "Sub-Saharan Africa",
           "marker": {
            "color": "#FECB52",
            "symbol": "circle"
           },
           "mode": "markers",
           "name": "Sub-Saharan Africa",
           "orientation": "v",
           "showlegend": true,
           "type": "scatter",
           "x": [
            2020,
            2020,
            2020,
            2020,
            2020,
            2020,
            2020,
            2020,
            2020,
            2020,
            2020,
            2020,
            2020,
            2020,
            2020,
            2020,
            2020,
            2020,
            2020,
            2020,
            2020,
            2020,
            2020,
            2020,
            2020,
            2020,
            2020,
            2020,
            2020,
            2020,
            2020,
            2020,
            2020,
            2020,
            2020,
            2020,
            2020,
            2020,
            2020
           ],
           "xaxis": "x",
           "y": [
            6.101299763,
            5.233300209,
            5.21600008,
            5.194399834,
            5.147999763,
            5.084899902,
            4.980800152,
            4.949299812,
            4.909599781,
            4.829299927,
            4.814099789,
            4.768700123,
            4.750599861,
            4.729300022,
            4.724100113,
            4.623600006,
            4.583000183,
            4.571100235,
            4.557899952,
            4.43200016,
            4.422699928,
            4.374599934,
            4.31099987,
            4.308100224,
            4.288599968,
            4.187200069,
            4.186200142,
            4.165599823,
            3.926399946,
            3.775300026,
            3.759399891,
            3.652800083,
            3.538000107,
            3.478899956,
            3.476200104,
            3.475899935,
            3.312299967,
            3.299200058,
            2.816600084
           ],
           "yaxis": "y"
          },
          {
           "hovertemplate": "<b>%{hovertext}</b><br><br>Region=South Asia<br>year=%{x}<br>Happiness Score=%{y}<extra></extra>",
           "hovertext": [
            "Pakistan",
            "Maldives",
            "Nepal",
            "Bangladesh",
            "Sri Lanka",
            "India",
            "Afghanistan"
           ],
           "ids": [
            "Pakistan",
            "Maldives",
            "Nepal",
            "Bangladesh",
            "Sri Lanka",
            "India",
            "Afghanistan"
           ],
           "legendgroup": "South Asia",
           "marker": {
            "color": "#636efa",
            "symbol": "circle"
           },
           "mode": "markers",
           "name": "South Asia",
           "orientation": "v",
           "showlegend": true,
           "type": "scatter",
           "x": [
            2020,
            2020,
            2020,
            2020,
            2020,
            2020,
            2020
           ],
           "xaxis": "x",
           "y": [
            5.69329977,
            5.197599888,
            5.137199879,
            4.832799911,
            4.327000141,
            3.573299885,
            2.566900015
           ],
           "yaxis": "y"
          }
         ],
         "name": "2020.0"
        },
        {
         "data": [
          {
           "hovertemplate": "<b>%{hovertext}</b><br><br>Region=Western Europe<br>year=%{x}<br>Happiness Score=%{y}<extra></extra>",
           "hovertext": [
            "Finland",
            "Denmark",
            "Switzerland",
            "Iceland",
            "Netherlands",
            "Norway",
            "Sweden",
            "Luxembourg",
            "Austria",
            "Germany",
            "Ireland",
            "United Kingdom",
            "Belgium",
            "France",
            "Malta",
            "Spain",
            "Italy",
            "Cyprus",
            "Portugal",
            "Greece",
            "Northern Cyprus"
           ],
           "ids": [
            "Finland",
            "Denmark",
            "Switzerland",
            "Iceland",
            "Netherlands",
            "Norway",
            "Sweden",
            "Luxembourg",
            "Austria",
            "Germany",
            "Ireland",
            "United Kingdom",
            "Belgium",
            "France",
            "Malta",
            "Spain",
            "Italy",
            "Cyprus",
            "Portugal",
            "Greece",
            "Northern Cyprus"
           ],
           "legendgroup": "Western Europe",
           "marker": {
            "color": "#636efa",
            "symbol": "circle"
           },
           "mode": "markers",
           "name": "Western Europe",
           "orientation": "v",
           "showlegend": true,
           "type": "scatter",
           "x": [
            2021,
            2021,
            2021,
            2021,
            2021,
            2021,
            2021,
            2021,
            2021,
            2021,
            2021,
            2021,
            2021,
            2021,
            2021,
            2021,
            2021,
            2021,
            2021,
            2021,
            2021
           ],
           "xaxis": "x",
           "y": [
            7.842,
            7.62,
            7.571,
            7.554,
            7.464,
            7.392,
            7.363,
            7.324,
            7.268,
            7.155,
            7.085,
            7.064,
            6.834,
            6.69,
            6.602,
            6.491,
            6.483,
            6.223,
            5.929,
            5.723,
            5.536
           ],
           "yaxis": "y"
          },
          {
           "hovertemplate": "<b>%{hovertext}</b><br><br>Region=North America<br>year=%{x}<br>Happiness Score=%{y}<extra></extra>",
           "hovertext": [
            "Canada",
            "United States"
           ],
           "ids": [
            "Canada",
            "United States"
           ],
           "legendgroup": "North America",
           "marker": {
            "color": "#EF553B",
            "symbol": "circle"
           },
           "mode": "markers",
           "name": "North America",
           "orientation": "v",
           "showlegend": true,
           "type": "scatter",
           "x": [
            2021,
            2021
           ],
           "xaxis": "x",
           "y": [
            7.103,
            6.951
           ],
           "yaxis": "y"
          },
          {
           "hovertemplate": "<b>%{hovertext}</b><br><br>Region=Oceania<br>year=%{x}<br>Happiness Score=%{y}<extra></extra>",
           "hovertext": [
            "New Zealand",
            "Australia"
           ],
           "ids": [
            "New Zealand",
            "Australia"
           ],
           "legendgroup": "Oceania",
           "marker": {
            "color": "#00cc96",
            "symbol": "circle"
           },
           "mode": "markers",
           "name": "Oceania",
           "orientation": "v",
           "showlegend": true,
           "type": "scatter",
           "x": [
            2021,
            2021
           ],
           "xaxis": "x",
           "y": [
            7.277,
            7.183
           ],
           "yaxis": "y"
          },
          {
           "hovertemplate": "<b>%{hovertext}</b><br><br>Region=Middle East and North Africa<br>year=%{x}<br>Happiness Score=%{y}<extra></extra>",
           "hovertext": [
            "Israel",
            "Bahrain",
            "United Arab Emirates",
            "Saudi Arabia",
            "Kuwait",
            "Libya",
            "Turkey",
            "Morocco",
            "Algeria",
            "Iraq",
            "Iran",
            "Tunisia",
            "Lebanon",
            "Palestinian Territories",
            "Jordan",
            "Egypt",
            "Yemen"
           ],
           "ids": [
            "Israel",
            "Bahrain",
            "United Arab Emirates",
            "Saudi Arabia",
            "Kuwait",
            "Libya",
            "Turkey",
            "Morocco",
            "Algeria",
            "Iraq",
            "Iran",
            "Tunisia",
            "Lebanon",
            "Palestinian Territories",
            "Jordan",
            "Egypt",
            "Yemen"
           ],
           "legendgroup": "Middle East and North Africa",
           "marker": {
            "color": "#ab63fa",
            "symbol": "circle"
           },
           "mode": "markers",
           "name": "Middle East and North Africa",
           "orientation": "v",
           "showlegend": true,
           "type": "scatter",
           "x": [
            2021,
            2021,
            2021,
            2021,
            2021,
            2021,
            2021,
            2021,
            2021,
            2021,
            2021,
            2021,
            2021,
            2021,
            2021,
            2021,
            2021
           ],
           "xaxis": "x",
           "y": [
            7.157,
            6.647,
            6.561,
            6.494,
            6.106,
            5.41,
            4.948,
            4.918,
            4.887,
            4.854,
            4.721,
            4.596,
            4.584,
            4.517,
            4.395,
            4.283,
            3.658
           ],
           "yaxis": "y"
          },
          {
           "hovertemplate": "<b>%{hovertext}</b><br><br>Region=Latin America and Caribbean<br>year=%{x}<br>Happiness Score=%{y}<extra></extra>",
           "hovertext": [
            "Costa Rica",
            "Guatemala",
            "Uruguay",
            "Brazil",
            "Mexico",
            "Jamaica",
            "Panama",
            "Chile",
            "El Salvador",
            "Colombia",
            "Nicaragua",
            "Argentina",
            "Honduras",
            "Peru",
            "Ecuador",
            "Bolivia",
            "Paraguay",
            "Dominican Republic",
            "Venezuela",
            "Haiti"
           ],
           "ids": [
            "Costa Rica",
            "Guatemala",
            "Uruguay",
            "Brazil",
            "Mexico",
            "Jamaica",
            "Panama",
            "Chile",
            "El Salvador",
            "Colombia",
            "Nicaragua",
            "Argentina",
            "Honduras",
            "Peru",
            "Ecuador",
            "Bolivia",
            "Paraguay",
            "Dominican Republic",
            "Venezuela",
            "Haiti"
           ],
           "legendgroup": "Latin America and Caribbean",
           "marker": {
            "color": "#FFA15A",
            "symbol": "circle"
           },
           "mode": "markers",
           "name": "Latin America and Caribbean",
           "orientation": "v",
           "showlegend": true,
           "type": "scatter",
           "x": [
            2021,
            2021,
            2021,
            2021,
            2021,
            2021,
            2021,
            2021,
            2021,
            2021,
            2021,
            2021,
            2021,
            2021,
            2021,
            2021,
            2021,
            2021,
            2021,
            2021
           ],
           "xaxis": "x",
           "y": [
            7.069,
            6.435,
            6.431,
            6.33,
            6.317,
            6.309,
            6.18,
            6.172,
            6.061,
            6.012,
            5.972,
            5.929,
            5.919,
            5.84,
            5.764,
            5.716,
            5.653,
            5.545,
            4.892,
            3.615
           ],
           "yaxis": "y"
          },
          {
           "hovertemplate": "<b>%{hovertext}</b><br><br>Region=Southeast Asia<br>year=%{x}<br>Happiness Score=%{y}<extra></extra>",
           "hovertext": [
            "Singapore",
            "Thailand",
            "Philippines",
            "Vietnam",
            "Malaysia",
            "Indonesia",
            "Laos",
            "Cambodia",
            "Myanmar"
           ],
           "ids": [
            "Singapore",
            "Thailand",
            "Philippines",
            "Vietnam",
            "Malaysia",
            "Indonesia",
            "Laos",
            "Cambodia",
            "Myanmar"
           ],
           "legendgroup": "Southeast Asia",
           "marker": {
            "color": "#19d3f3",
            "symbol": "circle"
           },
           "mode": "markers",
           "name": "Southeast Asia",
           "orientation": "v",
           "showlegend": true,
           "type": "scatter",
           "x": [
            2021,
            2021,
            2021,
            2021,
            2021,
            2021,
            2021,
            2021,
            2021
           ],
           "xaxis": "x",
           "y": [
            6.377,
            5.985,
            5.88,
            5.411,
            5.384,
            5.345,
            5.03,
            4.83,
            4.426
           ],
           "yaxis": "y"
          },
          {
           "hovertemplate": "<b>%{hovertext}</b><br><br>Region=Central and Eastern Europe<br>year=%{x}<br>Happiness Score=%{y}<extra></extra>",
           "hovertext": [
            "Czechia",
            "Slovenia",
            "Kosovo",
            "Slovakia",
            "Lithuania",
            "Estonia",
            "Poland",
            "Romania",
            "Serbia",
            "Latvia",
            "Hungary",
            "Croatia",
            "Bosnia and Herzegovina",
            "Montenegro",
            "Bulgaria",
            "Albania",
            "North Macedonia"
           ],
           "ids": [
            "Czechia",
            "Slovenia",
            "Kosovo",
            "Slovakia",
            "Lithuania",
            "Estonia",
            "Poland",
            "Romania",
            "Serbia",
            "Latvia",
            "Hungary",
            "Croatia",
            "Bosnia and Herzegovina",
            "Montenegro",
            "Bulgaria",
            "Albania",
            "North Macedonia"
           ],
           "legendgroup": "Central and Eastern Europe",
           "marker": {
            "color": "#FF6692",
            "symbol": "circle"
           },
           "mode": "markers",
           "name": "Central and Eastern Europe",
           "orientation": "v",
           "showlegend": true,
           "type": "scatter",
           "x": [
            2021,
            2021,
            2021,
            2021,
            2021,
            2021,
            2021,
            2021,
            2021,
            2021,
            2021,
            2021,
            2021,
            2021,
            2021,
            2021,
            2021
           ],
           "xaxis": "x",
           "y": [
            6.965,
            6.461,
            6.372,
            6.331,
            6.255,
            6.189,
            6.166,
            6.14,
            6.078,
            6.032,
            5.992,
            5.882,
            5.813,
            5.581,
            5.266,
            5.117,
            5.101
           ],
           "yaxis": "y"
          },
          {
           "hovertemplate": "<b>%{hovertext}</b><br><br>Region=East Asia<br>year=%{x}<br>Happiness Score=%{y}<extra></extra>",
           "hovertext": [
            "Taiwan",
            "Japan",
            "South Korea",
            "Mongolia",
            "Hong Kong S.A.R. of China",
            "China"
           ],
           "ids": [
            "Taiwan",
            "Japan",
            "South Korea",
            "Mongolia",
            "Hong Kong S.A.R. of China",
            "China"
           ],
           "legendgroup": "East Asia",
           "marker": {
            "color": "#B6E880",
            "symbol": "circle"
           },
           "mode": "markers",
           "name": "East Asia",
           "orientation": "v",
           "showlegend": true,
           "type": "scatter",
           "x": [
            2021,
            2021,
            2021,
            2021,
            2021,
            2021
           ],
           "xaxis": "x",
           "y": [
            6.584,
            5.94,
            5.845,
            5.677,
            5.477,
            5.339
           ],
           "yaxis": "y"
          },
          {
           "hovertemplate": "<b>%{hovertext}</b><br><br>Region=Commonwealth of Independent States<br>year=%{x}<br>Happiness Score=%{y}<extra></extra>",
           "hovertext": [
            "Uzbekistan",
            "Kazakhstan",
            "Moldova",
            "Kyrgyzstan",
            "Belarus",
            "Russia",
            "Tajikistan",
            "Armenia",
            "Azerbaijan",
            "Turkmenistan",
            "Georgia",
            "Ukraine"
           ],
           "ids": [
            "Uzbekistan",
            "Kazakhstan",
            "Moldova",
            "Kyrgyzstan",
            "Belarus",
            "Russia",
            "Tajikistan",
            "Armenia",
            "Azerbaijan",
            "Turkmenistan",
            "Georgia",
            "Ukraine"
           ],
           "legendgroup": "Commonwealth of Independent States",
           "marker": {
            "color": "#FF97FF",
            "symbol": "circle"
           },
           "mode": "markers",
           "name": "Commonwealth of Independent States",
           "orientation": "v",
           "showlegend": true,
           "type": "scatter",
           "x": [
            2021,
            2021,
            2021,
            2021,
            2021,
            2021,
            2021,
            2021,
            2021,
            2021,
            2021,
            2021
           ],
           "xaxis": "x",
           "y": [
            6.179,
            6.152,
            5.766,
            5.744,
            5.534,
            5.477,
            5.466,
            5.283,
            5.171,
            5.066,
            4.891,
            4.875
           ],
           "yaxis": "y"
          },
          {
           "hovertemplate": "<b>%{hovertext}</b><br><br>Region=Sub-Saharan Africa<br>year=%{x}<br>Happiness Score=%{y}<extra></extra>",
           "hovertext": [
            "Mauritius",
            "Congo (Brazzaville)",
            "Ivory Coast",
            "Cameroon",
            "Senegal",
            "Ghana",
            "Niger",
            "Gambia",
            "Benin",
            "Guinea",
            "South Africa",
            "Gabon",
            "Burkina Faso",
            "Mozambique",
            "Nigeria",
            "Mali",
            "Uganda",
            "Liberia",
            "Kenya",
            "Namibia",
            "Chad",
            "Kingdom of Eswatini ",
            "Comoros",
            "Ethiopia",
            "Mauritania",
            "Madagascar",
            "Togo",
            "Zambia",
            "Sierra Leone",
            "Burundi",
            "Tanzania",
            "Malawi",
            "Lesotho",
            "Botswana",
            "Rwanda",
            "Zimbabwe"
           ],
           "ids": [
            "Mauritius",
            "Congo (Brazzaville)",
            "Ivory Coast",
            "Cameroon",
            "Senegal",
            "Ghana",
            "Niger",
            "Gambia",
            "Benin",
            "Guinea",
            "South Africa",
            "Gabon",
            "Burkina Faso",
            "Mozambique",
            "Nigeria",
            "Mali",
            "Uganda",
            "Liberia",
            "Kenya",
            "Namibia",
            "Chad",
            "Kingdom of Eswatini ",
            "Comoros",
            "Ethiopia",
            "Mauritania",
            "Madagascar",
            "Togo",
            "Zambia",
            "Sierra Leone",
            "Burundi",
            "Tanzania",
            "Malawi",
            "Lesotho",
            "Botswana",
            "Rwanda",
            "Zimbabwe"
           ],
           "legendgroup": "Sub-Saharan Africa",
           "marker": {
            "color": "#FECB52",
            "symbol": "circle"
           },
           "mode": "markers",
           "name": "Sub-Saharan Africa",
           "orientation": "v",
           "showlegend": true,
           "type": "scatter",
           "x": [
            2021,
            2021,
            2021,
            2021,
            2021,
            2021,
            2021,
            2021,
            2021,
            2021,
            2021,
            2021,
            2021,
            2021,
            2021,
            2021,
            2021,
            2021,
            2021,
            2021,
            2021,
            2021,
            2021,
            2021,
            2021,
            2021,
            2021,
            2021,
            2021,
            2021,
            2021,
            2021,
            2021,
            2021,
            2021,
            2021
           ],
           "xaxis": "x",
           "y": [
            6.049,
            5.342,
            5.306,
            5.142,
            5.132,
            5.088,
            5.074,
            5.051,
            5.045,
            4.984,
            4.956,
            4.852,
            4.834,
            4.794,
            4.759,
            4.723,
            4.636,
            4.625,
            4.607,
            4.574,
            4.355,
            4.308,
            4.289,
            4.275,
            4.227,
            4.208,
            4.107,
            4.073,
            3.849,
            3.775,
            3.623,
            3.6,
            3.512,
            3.467,
            3.415,
            3.145
           ],
           "yaxis": "y"
          },
          {
           "hovertemplate": "<b>%{hovertext}</b><br><br>Region=South Asia<br>year=%{x}<br>Happiness Score=%{y}<extra></extra>",
           "hovertext": [
            "Nepal",
            "Maldives",
            "Bangladesh",
            "Pakistan",
            "Sri Lanka",
            "India",
            "Afghanistan"
           ],
           "ids": [
            "Nepal",
            "Maldives",
            "Bangladesh",
            "Pakistan",
            "Sri Lanka",
            "India",
            "Afghanistan"
           ],
           "legendgroup": "South Asia",
           "marker": {
            "color": "#636efa",
            "symbol": "circle"
           },
           "mode": "markers",
           "name": "South Asia",
           "orientation": "v",
           "showlegend": true,
           "type": "scatter",
           "x": [
            2021,
            2021,
            2021,
            2021,
            2021,
            2021,
            2021
           ],
           "xaxis": "x",
           "y": [
            5.269,
            5.198,
            5.025,
            4.934,
            4.325,
            3.819,
            2.523
           ],
           "yaxis": "y"
          }
         ],
         "name": "2021.0"
        },
        {
         "data": [
          {
           "hovertemplate": "<b>%{hovertext}</b><br><br>Region=Western Europe<br>year=%{x}<br>Happiness Score=%{y}<extra></extra>",
           "hovertext": [
            "Finland",
            "Denmark",
            "Iceland",
            "Switzerland",
            "Netherlands",
            "Luxembourg",
            "Sweden",
            "Norway",
            "Austria",
            "Ireland",
            "Germany",
            "United Kingdom",
            "Belgium",
            "France",
            "Spain",
            "Italy",
            "Malta",
            "Cyprus",
            "Portugal",
            "Greece",
            "Northern Cyprus"
           ],
           "ids": [
            "Finland",
            "Denmark",
            "Iceland",
            "Switzerland",
            "Netherlands",
            "Luxembourg",
            "Sweden",
            "Norway",
            "Austria",
            "Ireland",
            "Germany",
            "United Kingdom",
            "Belgium",
            "France",
            "Spain",
            "Italy",
            "Malta",
            "Cyprus",
            "Portugal",
            "Greece",
            "Northern Cyprus"
           ],
           "legendgroup": "Western Europe",
           "marker": {
            "color": "#636efa",
            "symbol": "circle"
           },
           "mode": "markers",
           "name": "Western Europe",
           "orientation": "v",
           "showlegend": true,
           "type": "scatter",
           "x": [
            2022,
            2022,
            2022,
            2022,
            2022,
            2022,
            2022,
            2022,
            2022,
            2022,
            2022,
            2022,
            2022,
            2022,
            2022,
            2022,
            2022,
            2022,
            2022,
            2022,
            2022
           ],
           "xaxis": "x",
           "y": [
            7.821,
            7.636,
            7.557,
            7.512,
            7.415,
            7.404,
            7.384,
            7.365,
            7.163,
            7.041,
            7.034,
            6.943,
            6.805,
            6.687,
            6.476,
            6.467,
            6.447,
            6.221,
            6.016,
            5.948,
            5.467
           ],
           "yaxis": "y"
          },
          {
           "hovertemplate": "<b>%{hovertext}</b><br><br>Region=North America<br>year=%{x}<br>Happiness Score=%{y}<extra></extra>",
           "hovertext": [
            "Canada",
            "United States"
           ],
           "ids": [
            "Canada",
            "United States"
           ],
           "legendgroup": "North America",
           "marker": {
            "color": "#EF553B",
            "symbol": "circle"
           },
           "mode": "markers",
           "name": "North America",
           "orientation": "v",
           "showlegend": true,
           "type": "scatter",
           "x": [
            2022,
            2022
           ],
           "xaxis": "x",
           "y": [
            7.025,
            6.977
           ],
           "yaxis": "y"
          },
          {
           "hovertemplate": "<b>%{hovertext}</b><br><br>Region=Oceania<br>year=%{x}<br>Happiness Score=%{y}<extra></extra>",
           "hovertext": [
            "New Zealand",
            "Australia"
           ],
           "ids": [
            "New Zealand",
            "Australia"
           ],
           "legendgroup": "Oceania",
           "marker": {
            "color": "#00cc96",
            "symbol": "circle"
           },
           "mode": "markers",
           "name": "Oceania",
           "orientation": "v",
           "showlegend": true,
           "type": "scatter",
           "x": [
            2022,
            2022
           ],
           "xaxis": "x",
           "y": [
            7.2,
            7.162
           ],
           "yaxis": "y"
          },
          {
           "hovertemplate": "<b>%{hovertext}</b><br><br>Region=Middle East and North Africa<br>year=%{x}<br>Happiness Score=%{y}<extra></extra>",
           "hovertext": [
            "Israel",
            "Bahrain",
            "United Arab Emirates",
            "Saudi Arabia",
            "Kuwait",
            "Libya",
            "Algeria",
            "Morocco",
            "Iraq",
            "Iran",
            "Turkey",
            "Tunisia",
            "Palestinian Territories",
            "Egypt",
            "Yemen",
            "Jordan",
            "Lebanon"
           ],
           "ids": [
            "Israel",
            "Bahrain",
            "United Arab Emirates",
            "Saudi Arabia",
            "Kuwait",
            "Libya",
            "Algeria",
            "Morocco",
            "Iraq",
            "Iran",
            "Turkey",
            "Tunisia",
            "Palestinian Territories",
            "Egypt",
            "Yemen",
            "Jordan",
            "Lebanon"
           ],
           "legendgroup": "Middle East and North Africa",
           "marker": {
            "color": "#ab63fa",
            "symbol": "circle"
           },
           "mode": "markers",
           "name": "Middle East and North Africa",
           "orientation": "v",
           "showlegend": true,
           "type": "scatter",
           "x": [
            2022,
            2022,
            2022,
            2022,
            2022,
            2022,
            2022,
            2022,
            2022,
            2022,
            2022,
            2022,
            2022,
            2022,
            2022,
            2022,
            2022
           ],
           "xaxis": "x",
           "y": [
            7.364,
            6.647,
            6.576,
            6.523,
            6.106,
            5.33,
            5.122,
            5.06,
            4.941,
            4.888,
            4.744,
            4.516,
            4.483,
            4.288,
            4.197,
            4.152,
            2.955
           ],
           "yaxis": "y"
          },
          {
           "hovertemplate": "<b>%{hovertext}</b><br><br>Region=Latin America and Caribbean<br>year=%{x}<br>Happiness Score=%{y}<extra></extra>",
           "hovertext": [
            "Costa Rica",
            "Uruguay",
            "Panama",
            "Brazil",
            "Guatemala",
            "Chile",
            "Nicaragua",
            "Mexico",
            "El Salvador",
            "Honduras",
            "Argentina",
            "Jamaica",
            "Colombia",
            "Dominican Republic",
            "Bolivia",
            "Paraguay",
            "Peru",
            "Ecuador",
            "Venezuela"
           ],
           "ids": [
            "Costa Rica",
            "Uruguay",
            "Panama",
            "Brazil",
            "Guatemala",
            "Chile",
            "Nicaragua",
            "Mexico",
            "El Salvador",
            "Honduras",
            "Argentina",
            "Jamaica",
            "Colombia",
            "Dominican Republic",
            "Bolivia",
            "Paraguay",
            "Peru",
            "Ecuador",
            "Venezuela"
           ],
           "legendgroup": "Latin America and Caribbean",
           "marker": {
            "color": "#FFA15A",
            "symbol": "circle"
           },
           "mode": "markers",
           "name": "Latin America and Caribbean",
           "orientation": "v",
           "showlegend": true,
           "type": "scatter",
           "x": [
            2022,
            2022,
            2022,
            2022,
            2022,
            2022,
            2022,
            2022,
            2022,
            2022,
            2022,
            2022,
            2022,
            2022,
            2022,
            2022,
            2022,
            2022,
            2022
           ],
           "xaxis": "x",
           "y": [
            6.582,
            6.474,
            6.309,
            6.293,
            6.262,
            6.172,
            6.165,
            6.128,
            6.12,
            6.022,
            5.967,
            5.85,
            5.781,
            5.737,
            5.6,
            5.578,
            5.559,
            5.533,
            4.925
           ],
           "yaxis": "y"
          },
          {
           "hovertemplate": "<b>%{hovertext}</b><br><br>Region=Southeast Asia<br>year=%{x}<br>Happiness Score=%{y}<extra></extra>",
           "hovertext": [
            "Singapore",
            "Philippines",
            "Thailand",
            "Malaysia",
            "Vietnam",
            "Indonesia",
            "Laos",
            "Cambodia",
            "Myanmar"
           ],
           "ids": [
            "Singapore",
            "Philippines",
            "Thailand",
            "Malaysia",
            "Vietnam",
            "Indonesia",
            "Laos",
            "Cambodia",
            "Myanmar"
           ],
           "legendgroup": "Southeast Asia",
           "marker": {
            "color": "#19d3f3",
            "symbol": "circle"
           },
           "mode": "markers",
           "name": "Southeast Asia",
           "orientation": "v",
           "showlegend": true,
           "type": "scatter",
           "x": [
            2022,
            2022,
            2022,
            2022,
            2022,
            2022,
            2022,
            2022,
            2022
           ],
           "xaxis": "x",
           "y": [
            6.48,
            5.904,
            5.891,
            5.711,
            5.485,
            5.24,
            5.14,
            4.64,
            4.394
           ],
           "yaxis": "y"
          },
          {
           "hovertemplate": "<b>%{hovertext}</b><br><br>Region=Central and Eastern Europe<br>year=%{x}<br>Happiness Score=%{y}<extra></extra>",
           "hovertext": [
            "Czechia",
            "Slovenia",
            "Romania",
            "Kosovo",
            "Lithuania",
            "Slovakia",
            "Estonia",
            "Latvia",
            "Serbia",
            "Croatia",
            "Poland",
            "Hungary",
            "Bosnia and Herzegovina",
            "Montenegro",
            "Bulgaria",
            "North Macedonia",
            "Albania"
           ],
           "ids": [
            "Czechia",
            "Slovenia",
            "Romania",
            "Kosovo",
            "Lithuania",
            "Slovakia",
            "Estonia",
            "Latvia",
            "Serbia",
            "Croatia",
            "Poland",
            "Hungary",
            "Bosnia and Herzegovina",
            "Montenegro",
            "Bulgaria",
            "North Macedonia",
            "Albania"
           ],
           "legendgroup": "Central and Eastern Europe",
           "marker": {
            "color": "#FF6692",
            "symbol": "circle"
           },
           "mode": "markers",
           "name": "Central and Eastern Europe",
           "orientation": "v",
           "showlegend": true,
           "type": "scatter",
           "x": [
            2022,
            2022,
            2022,
            2022,
            2022,
            2022,
            2022,
            2022,
            2022,
            2022,
            2022,
            2022,
            2022,
            2022,
            2022,
            2022,
            2022
           ],
           "xaxis": "x",
           "y": [
            6.92,
            6.63,
            6.477,
            6.455,
            6.446,
            6.391,
            6.341,
            6.18,
            6.178,
            6.125,
            6.123,
            6.086,
            5.768,
            5.547,
            5.371,
            5.199,
            5.199
           ],
           "yaxis": "y"
          },
          {
           "hovertemplate": "<b>%{hovertext}</b><br><br>Region=East Asia<br>year=%{x}<br>Happiness Score=%{y}<extra></extra>",
           "hovertext": [
            "Taiwan",
            "Japan",
            "South Korea",
            "Mongolia",
            "China",
            "Hong Kong S.A.R. of China"
           ],
           "ids": [
            "Taiwan",
            "Japan",
            "South Korea",
            "Mongolia",
            "China",
            "Hong Kong S.A.R. of China"
           ],
           "legendgroup": "East Asia",
           "marker": {
            "color": "#B6E880",
            "symbol": "circle"
           },
           "mode": "markers",
           "name": "East Asia",
           "orientation": "v",
           "showlegend": true,
           "type": "scatter",
           "x": [
            2022,
            2022,
            2022,
            2022,
            2022,
            2022
           ],
           "xaxis": "x",
           "y": [
            6.512,
            6.039,
            5.935,
            5.761,
            5.585,
            5.425
           ],
           "yaxis": "y"
          },
          {
           "hovertemplate": "<b>%{hovertext}</b><br><br>Region=Commonwealth of Independent States<br>year=%{x}<br>Happiness Score=%{y}<extra></extra>",
           "hovertext": [
            "Kazakhstan",
            "Uzbekistan",
            "Moldova",
            "Kyrgyzstan",
            "Belarus",
            "Turkmenistan",
            "Russia",
            "Armenia",
            "Tajikistan",
            "Azerbaijan",
            "Ukraine",
            "Georgia"
           ],
           "ids": [
            "Kazakhstan",
            "Uzbekistan",
            "Moldova",
            "Kyrgyzstan",
            "Belarus",
            "Turkmenistan",
            "Russia",
            "Armenia",
            "Tajikistan",
            "Azerbaijan",
            "Ukraine",
            "Georgia"
           ],
           "legendgroup": "Commonwealth of Independent States",
           "marker": {
            "color": "#FF97FF",
            "symbol": "circle"
           },
           "mode": "markers",
           "name": "Commonwealth of Independent States",
           "orientation": "v",
           "showlegend": true,
           "type": "scatter",
           "x": [
            2022,
            2022,
            2022,
            2022,
            2022,
            2022,
            2022,
            2022,
            2022,
            2022,
            2022,
            2022
           ],
           "xaxis": "x",
           "y": [
            6.234,
            6.063,
            5.857,
            5.828,
            5.821,
            5.474,
            5.459,
            5.399,
            5.377,
            5.173,
            5.084,
            4.973
           ],
           "yaxis": "y"
          },
          {
           "hovertemplate": "<b>%{hovertext}</b><br><br>Region=Sub-Saharan Africa<br>year=%{x}<br>Happiness Score=%{y}<extra></extra>",
           "hovertext": [
            "Mauritius",
            "Ivory Coast",
            "South Africa",
            "Gambia",
            "Liberia",
            "Congo (Brazzaville)",
            "Mozambique",
            "Cameroon",
            "Senegal",
            "Niger",
            "Gabon",
            "Guinea",
            "Ghana",
            "Burkina Faso",
            "Benin",
            "Comoros",
            "Uganda",
            "Nigeria",
            "Kenya",
            "Mali",
            "Namibia",
            "Kingdom of Eswatini ",
            "Madagascar",
            "Chad",
            "Ethiopia",
            "Mauritania",
            "Togo",
            "Zambia",
            "Malawi",
            "Tanzania",
            "Sierra Leone",
            "Lesotho",
            "Botswana",
            "Rwanda",
            "Zimbabwe"
           ],
           "ids": [
            "Mauritius",
            "Ivory Coast",
            "South Africa",
            "Gambia",
            "Liberia",
            "Congo (Brazzaville)",
            "Mozambique",
            "Cameroon",
            "Senegal",
            "Niger",
            "Gabon",
            "Guinea",
            "Ghana",
            "Burkina Faso",
            "Benin",
            "Comoros",
            "Uganda",
            "Nigeria",
            "Kenya",
            "Mali",
            "Namibia",
            "Kingdom of Eswatini ",
            "Madagascar",
            "Chad",
            "Ethiopia",
            "Mauritania",
            "Togo",
            "Zambia",
            "Malawi",
            "Tanzania",
            "Sierra Leone",
            "Lesotho",
            "Botswana",
            "Rwanda",
            "Zimbabwe"
           ],
           "legendgroup": "Sub-Saharan Africa",
           "marker": {
            "color": "#FECB52",
            "symbol": "circle"
           },
           "mode": "markers",
           "name": "Sub-Saharan Africa",
           "orientation": "v",
           "showlegend": true,
           "type": "scatter",
           "x": [
            2022,
            2022,
            2022,
            2022,
            2022,
            2022,
            2022,
            2022,
            2022,
            2022,
            2022,
            2022,
            2022,
            2022,
            2022,
            2022,
            2022,
            2022,
            2022,
            2022,
            2022,
            2022,
            2022,
            2022,
            2022,
            2022,
            2022,
            2022,
            2022,
            2022,
            2022,
            2022,
            2022,
            2022,
            2022
           ],
           "xaxis": "x",
           "y": [
            6.071,
            5.235,
            5.194,
            5.164,
            5.122,
            5.075,
            5.048,
            5.048,
            5.046,
            5.003,
            4.958,
            4.891,
            4.872,
            4.67,
            4.623,
            4.609,
            4.603,
            4.552,
            4.543,
            4.479,
            4.459,
            4.396,
            4.339,
            4.251,
            4.241,
            4.153,
            4.112,
            3.76,
            3.75,
            3.702,
            3.574,
            3.512,
            3.471,
            3.268,
            2.995
           ],
           "yaxis": "y"
          },
          {
           "hovertemplate": "<b>%{hovertext}</b><br><br>Region=South Asia<br>year=%{x}<br>Happiness Score=%{y}<extra></extra>",
           "hovertext": [
            "Nepal",
            "Bangladesh",
            "Pakistan",
            "Sri Lanka",
            "India",
            "Afghanistan"
           ],
           "ids": [
            "Nepal",
            "Bangladesh",
            "Pakistan",
            "Sri Lanka",
            "India",
            "Afghanistan"
           ],
           "legendgroup": "South Asia",
           "marker": {
            "color": "#636efa",
            "symbol": "circle"
           },
           "mode": "markers",
           "name": "South Asia",
           "orientation": "v",
           "showlegend": true,
           "type": "scatter",
           "x": [
            2022,
            2022,
            2022,
            2022,
            2022,
            2022
           ],
           "xaxis": "x",
           "y": [
            5.377,
            5.155,
            4.516,
            4.362,
            3.777,
            2.404
           ],
           "yaxis": "y"
          }
         ],
         "name": "2022.0"
        }
       ],
       "layout": {
        "legend": {
         "title": {
          "text": "Region"
         },
         "tracegroupgap": 0
        },
        "margin": {
         "t": 60
        },
        "sliders": [
         {
          "active": 0,
          "currentvalue": {
           "prefix": "year="
          },
          "len": 0.9,
          "pad": {
           "b": 10,
           "t": 60
          },
          "steps": [
           {
            "args": [
             [
              "2015.0"
             ],
             {
              "frame": {
               "duration": 0,
               "redraw": false
              },
              "fromcurrent": true,
              "mode": "immediate",
              "transition": {
               "duration": 0,
               "easing": "linear"
              }
             }
            ],
            "label": "2015.0",
            "method": "animate"
           },
           {
            "args": [
             [
              "2016.0"
             ],
             {
              "frame": {
               "duration": 0,
               "redraw": false
              },
              "fromcurrent": true,
              "mode": "immediate",
              "transition": {
               "duration": 0,
               "easing": "linear"
              }
             }
            ],
            "label": "2016.0",
            "method": "animate"
           },
           {
            "args": [
             [
              "2017.0"
             ],
             {
              "frame": {
               "duration": 0,
               "redraw": false
              },
              "fromcurrent": true,
              "mode": "immediate",
              "transition": {
               "duration": 0,
               "easing": "linear"
              }
             }
            ],
            "label": "2017.0",
            "method": "animate"
           },
           {
            "args": [
             [
              "2018.0"
             ],
             {
              "frame": {
               "duration": 0,
               "redraw": false
              },
              "fromcurrent": true,
              "mode": "immediate",
              "transition": {
               "duration": 0,
               "easing": "linear"
              }
             }
            ],
            "label": "2018.0",
            "method": "animate"
           },
           {
            "args": [
             [
              "2019.0"
             ],
             {
              "frame": {
               "duration": 0,
               "redraw": false
              },
              "fromcurrent": true,
              "mode": "immediate",
              "transition": {
               "duration": 0,
               "easing": "linear"
              }
             }
            ],
            "label": "2019.0",
            "method": "animate"
           },
           {
            "args": [
             [
              "2020.0"
             ],
             {
              "frame": {
               "duration": 0,
               "redraw": false
              },
              "fromcurrent": true,
              "mode": "immediate",
              "transition": {
               "duration": 0,
               "easing": "linear"
              }
             }
            ],
            "label": "2020.0",
            "method": "animate"
           },
           {
            "args": [
             [
              "2021.0"
             ],
             {
              "frame": {
               "duration": 0,
               "redraw": false
              },
              "fromcurrent": true,
              "mode": "immediate",
              "transition": {
               "duration": 0,
               "easing": "linear"
              }
             }
            ],
            "label": "2021.0",
            "method": "animate"
           },
           {
            "args": [
             [
              "2022.0"
             ],
             {
              "frame": {
               "duration": 0,
               "redraw": false
              },
              "fromcurrent": true,
              "mode": "immediate",
              "transition": {
               "duration": 0,
               "easing": "linear"
              }
             }
            ],
            "label": "2022.0",
            "method": "animate"
           }
          ],
          "x": 0.1,
          "xanchor": "left",
          "y": 0,
          "yanchor": "top"
         }
        ],
        "template": {
         "data": {
          "bar": [
           {
            "error_x": {
             "color": "#2a3f5f"
            },
            "error_y": {
             "color": "#2a3f5f"
            },
            "marker": {
             "line": {
              "color": "#E5ECF6",
              "width": 0.5
             },
             "pattern": {
              "fillmode": "overlay",
              "size": 10,
              "solidity": 0.2
             }
            },
            "type": "bar"
           }
          ],
          "barpolar": [
           {
            "marker": {
             "line": {
              "color": "#E5ECF6",
              "width": 0.5
             },
             "pattern": {
              "fillmode": "overlay",
              "size": 10,
              "solidity": 0.2
             }
            },
            "type": "barpolar"
           }
          ],
          "carpet": [
           {
            "aaxis": {
             "endlinecolor": "#2a3f5f",
             "gridcolor": "white",
             "linecolor": "white",
             "minorgridcolor": "white",
             "startlinecolor": "#2a3f5f"
            },
            "baxis": {
             "endlinecolor": "#2a3f5f",
             "gridcolor": "white",
             "linecolor": "white",
             "minorgridcolor": "white",
             "startlinecolor": "#2a3f5f"
            },
            "type": "carpet"
           }
          ],
          "choropleth": [
           {
            "colorbar": {
             "outlinewidth": 0,
             "ticks": ""
            },
            "type": "choropleth"
           }
          ],
          "contour": [
           {
            "colorbar": {
             "outlinewidth": 0,
             "ticks": ""
            },
            "colorscale": [
             [
              0,
              "#0d0887"
             ],
             [
              0.1111111111111111,
              "#46039f"
             ],
             [
              0.2222222222222222,
              "#7201a8"
             ],
             [
              0.3333333333333333,
              "#9c179e"
             ],
             [
              0.4444444444444444,
              "#bd3786"
             ],
             [
              0.5555555555555556,
              "#d8576b"
             ],
             [
              0.6666666666666666,
              "#ed7953"
             ],
             [
              0.7777777777777778,
              "#fb9f3a"
             ],
             [
              0.8888888888888888,
              "#fdca26"
             ],
             [
              1,
              "#f0f921"
             ]
            ],
            "type": "contour"
           }
          ],
          "contourcarpet": [
           {
            "colorbar": {
             "outlinewidth": 0,
             "ticks": ""
            },
            "type": "contourcarpet"
           }
          ],
          "heatmap": [
           {
            "colorbar": {
             "outlinewidth": 0,
             "ticks": ""
            },
            "colorscale": [
             [
              0,
              "#0d0887"
             ],
             [
              0.1111111111111111,
              "#46039f"
             ],
             [
              0.2222222222222222,
              "#7201a8"
             ],
             [
              0.3333333333333333,
              "#9c179e"
             ],
             [
              0.4444444444444444,
              "#bd3786"
             ],
             [
              0.5555555555555556,
              "#d8576b"
             ],
             [
              0.6666666666666666,
              "#ed7953"
             ],
             [
              0.7777777777777778,
              "#fb9f3a"
             ],
             [
              0.8888888888888888,
              "#fdca26"
             ],
             [
              1,
              "#f0f921"
             ]
            ],
            "type": "heatmap"
           }
          ],
          "heatmapgl": [
           {
            "colorbar": {
             "outlinewidth": 0,
             "ticks": ""
            },
            "colorscale": [
             [
              0,
              "#0d0887"
             ],
             [
              0.1111111111111111,
              "#46039f"
             ],
             [
              0.2222222222222222,
              "#7201a8"
             ],
             [
              0.3333333333333333,
              "#9c179e"
             ],
             [
              0.4444444444444444,
              "#bd3786"
             ],
             [
              0.5555555555555556,
              "#d8576b"
             ],
             [
              0.6666666666666666,
              "#ed7953"
             ],
             [
              0.7777777777777778,
              "#fb9f3a"
             ],
             [
              0.8888888888888888,
              "#fdca26"
             ],
             [
              1,
              "#f0f921"
             ]
            ],
            "type": "heatmapgl"
           }
          ],
          "histogram": [
           {
            "marker": {
             "pattern": {
              "fillmode": "overlay",
              "size": 10,
              "solidity": 0.2
             }
            },
            "type": "histogram"
           }
          ],
          "histogram2d": [
           {
            "colorbar": {
             "outlinewidth": 0,
             "ticks": ""
            },
            "colorscale": [
             [
              0,
              "#0d0887"
             ],
             [
              0.1111111111111111,
              "#46039f"
             ],
             [
              0.2222222222222222,
              "#7201a8"
             ],
             [
              0.3333333333333333,
              "#9c179e"
             ],
             [
              0.4444444444444444,
              "#bd3786"
             ],
             [
              0.5555555555555556,
              "#d8576b"
             ],
             [
              0.6666666666666666,
              "#ed7953"
             ],
             [
              0.7777777777777778,
              "#fb9f3a"
             ],
             [
              0.8888888888888888,
              "#fdca26"
             ],
             [
              1,
              "#f0f921"
             ]
            ],
            "type": "histogram2d"
           }
          ],
          "histogram2dcontour": [
           {
            "colorbar": {
             "outlinewidth": 0,
             "ticks": ""
            },
            "colorscale": [
             [
              0,
              "#0d0887"
             ],
             [
              0.1111111111111111,
              "#46039f"
             ],
             [
              0.2222222222222222,
              "#7201a8"
             ],
             [
              0.3333333333333333,
              "#9c179e"
             ],
             [
              0.4444444444444444,
              "#bd3786"
             ],
             [
              0.5555555555555556,
              "#d8576b"
             ],
             [
              0.6666666666666666,
              "#ed7953"
             ],
             [
              0.7777777777777778,
              "#fb9f3a"
             ],
             [
              0.8888888888888888,
              "#fdca26"
             ],
             [
              1,
              "#f0f921"
             ]
            ],
            "type": "histogram2dcontour"
           }
          ],
          "mesh3d": [
           {
            "colorbar": {
             "outlinewidth": 0,
             "ticks": ""
            },
            "type": "mesh3d"
           }
          ],
          "parcoords": [
           {
            "line": {
             "colorbar": {
              "outlinewidth": 0,
              "ticks": ""
             }
            },
            "type": "parcoords"
           }
          ],
          "pie": [
           {
            "automargin": true,
            "type": "pie"
           }
          ],
          "scatter": [
           {
            "fillpattern": {
             "fillmode": "overlay",
             "size": 10,
             "solidity": 0.2
            },
            "type": "scatter"
           }
          ],
          "scatter3d": [
           {
            "line": {
             "colorbar": {
              "outlinewidth": 0,
              "ticks": ""
             }
            },
            "marker": {
             "colorbar": {
              "outlinewidth": 0,
              "ticks": ""
             }
            },
            "type": "scatter3d"
           }
          ],
          "scattercarpet": [
           {
            "marker": {
             "colorbar": {
              "outlinewidth": 0,
              "ticks": ""
             }
            },
            "type": "scattercarpet"
           }
          ],
          "scattergeo": [
           {
            "marker": {
             "colorbar": {
              "outlinewidth": 0,
              "ticks": ""
             }
            },
            "type": "scattergeo"
           }
          ],
          "scattergl": [
           {
            "marker": {
             "colorbar": {
              "outlinewidth": 0,
              "ticks": ""
             }
            },
            "type": "scattergl"
           }
          ],
          "scattermapbox": [
           {
            "marker": {
             "colorbar": {
              "outlinewidth": 0,
              "ticks": ""
             }
            },
            "type": "scattermapbox"
           }
          ],
          "scatterpolar": [
           {
            "marker": {
             "colorbar": {
              "outlinewidth": 0,
              "ticks": ""
             }
            },
            "type": "scatterpolar"
           }
          ],
          "scatterpolargl": [
           {
            "marker": {
             "colorbar": {
              "outlinewidth": 0,
              "ticks": ""
             }
            },
            "type": "scatterpolargl"
           }
          ],
          "scatterternary": [
           {
            "marker": {
             "colorbar": {
              "outlinewidth": 0,
              "ticks": ""
             }
            },
            "type": "scatterternary"
           }
          ],
          "surface": [
           {
            "colorbar": {
             "outlinewidth": 0,
             "ticks": ""
            },
            "colorscale": [
             [
              0,
              "#0d0887"
             ],
             [
              0.1111111111111111,
              "#46039f"
             ],
             [
              0.2222222222222222,
              "#7201a8"
             ],
             [
              0.3333333333333333,
              "#9c179e"
             ],
             [
              0.4444444444444444,
              "#bd3786"
             ],
             [
              0.5555555555555556,
              "#d8576b"
             ],
             [
              0.6666666666666666,
              "#ed7953"
             ],
             [
              0.7777777777777778,
              "#fb9f3a"
             ],
             [
              0.8888888888888888,
              "#fdca26"
             ],
             [
              1,
              "#f0f921"
             ]
            ],
            "type": "surface"
           }
          ],
          "table": [
           {
            "cells": {
             "fill": {
              "color": "#EBF0F8"
             },
             "line": {
              "color": "white"
             }
            },
            "header": {
             "fill": {
              "color": "#C8D4E3"
             },
             "line": {
              "color": "white"
             }
            },
            "type": "table"
           }
          ]
         },
         "layout": {
          "annotationdefaults": {
           "arrowcolor": "#2a3f5f",
           "arrowhead": 0,
           "arrowwidth": 1
          },
          "autotypenumbers": "strict",
          "coloraxis": {
           "colorbar": {
            "outlinewidth": 0,
            "ticks": ""
           }
          },
          "colorscale": {
           "diverging": [
            [
             0,
             "#8e0152"
            ],
            [
             0.1,
             "#c51b7d"
            ],
            [
             0.2,
             "#de77ae"
            ],
            [
             0.3,
             "#f1b6da"
            ],
            [
             0.4,
             "#fde0ef"
            ],
            [
             0.5,
             "#f7f7f7"
            ],
            [
             0.6,
             "#e6f5d0"
            ],
            [
             0.7,
             "#b8e186"
            ],
            [
             0.8,
             "#7fbc41"
            ],
            [
             0.9,
             "#4d9221"
            ],
            [
             1,
             "#276419"
            ]
           ],
           "sequential": [
            [
             0,
             "#0d0887"
            ],
            [
             0.1111111111111111,
             "#46039f"
            ],
            [
             0.2222222222222222,
             "#7201a8"
            ],
            [
             0.3333333333333333,
             "#9c179e"
            ],
            [
             0.4444444444444444,
             "#bd3786"
            ],
            [
             0.5555555555555556,
             "#d8576b"
            ],
            [
             0.6666666666666666,
             "#ed7953"
            ],
            [
             0.7777777777777778,
             "#fb9f3a"
            ],
            [
             0.8888888888888888,
             "#fdca26"
            ],
            [
             1,
             "#f0f921"
            ]
           ],
           "sequentialminus": [
            [
             0,
             "#0d0887"
            ],
            [
             0.1111111111111111,
             "#46039f"
            ],
            [
             0.2222222222222222,
             "#7201a8"
            ],
            [
             0.3333333333333333,
             "#9c179e"
            ],
            [
             0.4444444444444444,
             "#bd3786"
            ],
            [
             0.5555555555555556,
             "#d8576b"
            ],
            [
             0.6666666666666666,
             "#ed7953"
            ],
            [
             0.7777777777777778,
             "#fb9f3a"
            ],
            [
             0.8888888888888888,
             "#fdca26"
            ],
            [
             1,
             "#f0f921"
            ]
           ]
          },
          "colorway": [
           "#636efa",
           "#EF553B",
           "#00cc96",
           "#ab63fa",
           "#FFA15A",
           "#19d3f3",
           "#FF6692",
           "#B6E880",
           "#FF97FF",
           "#FECB52"
          ],
          "font": {
           "color": "#2a3f5f"
          },
          "geo": {
           "bgcolor": "white",
           "lakecolor": "white",
           "landcolor": "#E5ECF6",
           "showlakes": true,
           "showland": true,
           "subunitcolor": "white"
          },
          "hoverlabel": {
           "align": "left"
          },
          "hovermode": "closest",
          "mapbox": {
           "style": "light"
          },
          "paper_bgcolor": "white",
          "plot_bgcolor": "#E5ECF6",
          "polar": {
           "angularaxis": {
            "gridcolor": "white",
            "linecolor": "white",
            "ticks": ""
           },
           "bgcolor": "#E5ECF6",
           "radialaxis": {
            "gridcolor": "white",
            "linecolor": "white",
            "ticks": ""
           }
          },
          "scene": {
           "xaxis": {
            "backgroundcolor": "#E5ECF6",
            "gridcolor": "white",
            "gridwidth": 2,
            "linecolor": "white",
            "showbackground": true,
            "ticks": "",
            "zerolinecolor": "white"
           },
           "yaxis": {
            "backgroundcolor": "#E5ECF6",
            "gridcolor": "white",
            "gridwidth": 2,
            "linecolor": "white",
            "showbackground": true,
            "ticks": "",
            "zerolinecolor": "white"
           },
           "zaxis": {
            "backgroundcolor": "#E5ECF6",
            "gridcolor": "white",
            "gridwidth": 2,
            "linecolor": "white",
            "showbackground": true,
            "ticks": "",
            "zerolinecolor": "white"
           }
          },
          "shapedefaults": {
           "line": {
            "color": "#2a3f5f"
           }
          },
          "ternary": {
           "aaxis": {
            "gridcolor": "white",
            "linecolor": "white",
            "ticks": ""
           },
           "baxis": {
            "gridcolor": "white",
            "linecolor": "white",
            "ticks": ""
           },
           "bgcolor": "#E5ECF6",
           "caxis": {
            "gridcolor": "white",
            "linecolor": "white",
            "ticks": ""
           }
          },
          "title": {
           "x": 0.05
          },
          "xaxis": {
           "automargin": true,
           "gridcolor": "white",
           "linecolor": "white",
           "ticks": "",
           "title": {
            "standoff": 15
           },
           "zerolinecolor": "white",
           "zerolinewidth": 2
          },
          "yaxis": {
           "automargin": true,
           "gridcolor": "white",
           "linecolor": "white",
           "ticks": "",
           "title": {
            "standoff": 15
           },
           "zerolinecolor": "white",
           "zerolinewidth": 2
          }
         }
        },
        "updatemenus": [
         {
          "buttons": [
           {
            "args": [
             null,
             {
              "frame": {
               "duration": 500,
               "redraw": false
              },
              "fromcurrent": true,
              "mode": "immediate",
              "transition": {
               "duration": 500,
               "easing": "linear"
              }
             }
            ],
            "label": "&#9654;",
            "method": "animate"
           },
           {
            "args": [
             [
              null
             ],
             {
              "frame": {
               "duration": 0,
               "redraw": false
              },
              "fromcurrent": true,
              "mode": "immediate",
              "transition": {
               "duration": 0,
               "easing": "linear"
              }
             }
            ],
            "label": "&#9724;",
            "method": "animate"
           }
          ],
          "direction": "left",
          "pad": {
           "r": 10,
           "t": 70
          },
          "showactive": false,
          "type": "buttons",
          "x": 0.1,
          "xanchor": "right",
          "y": 0,
          "yanchor": "top"
         }
        ],
        "xaxis": {
         "anchor": "y",
         "categoryarray": [
          2015,
          2016,
          2017,
          2018,
          2019,
          2020,
          2021,
          2022
         ],
         "categoryorder": "array",
         "domain": [
          0,
          1
         ],
         "range": [
          3.304275050477128,
          3.305781151254982
         ],
         "title": {
          "text": "year"
         },
         "type": "log"
        },
        "yaxis": {
         "anchor": "x",
         "domain": [
          0,
          1
         ],
         "range": [
          1,
          9
         ],
         "title": {
          "text": "Happiness Score"
         }
        }
       }
      }
     },
     "metadata": {},
     "output_type": "display_data"
    }
   ],
   "source": [
    "import pandas as pd\n",
    "import plotly.express as px\n",
    "df = pd.read_csv('updatedreport.csv')\n",
    "\n",
    "fig = px.scatter(df, x=\"year\", y=\"Happiness Score\", animation_frame=\"year\", animation_group=\"Country\",\n",
    "            color=\"Region\", hover_name=\"Country\",\n",
    "           log_x=True, size_max=55, range_x=[2015,2022], range_y=[1,9])\n",
    "\n",
    "fig.show()"
   ]
  },
  {
   "cell_type": "code",
   "execution_count": 17,
   "metadata": {},
   "outputs": [
    {
     "name": "stdout",
     "output_type": "stream",
     "text": [
      "Displaying chart at http://localhost:19875/\n"
     ]
    },
    {
     "ename": "KeyboardInterrupt",
     "evalue": "",
     "output_type": "error",
     "traceback": [
      "\u001b[0;31m---------------------------------------------------------------------------\u001b[0m",
      "\u001b[0;31mKeyboardInterrupt\u001b[0m                         Traceback (most recent call last)",
      "\u001b[1;32m/Users/ashfi/code/python/datapane/dataclean.ipynb Cell 10'\u001b[0m in \u001b[0;36m<cell line: 4>\u001b[0;34m()\u001b[0m\n\u001b[1;32m      <a href='vscode-notebook-cell:/Users/ashfi/code/python/datapane/dataclean.ipynb#ch0000010?line=1'>2</a>\u001b[0m date_dropdown \u001b[39m=\u001b[39m alt\u001b[39m.\u001b[39mbinding_select(options\u001b[39m=\u001b[39mdate_list)\n\u001b[1;32m      <a href='vscode-notebook-cell:/Users/ashfi/code/python/datapane/dataclean.ipynb#ch0000010?line=2'>3</a>\u001b[0m selection \u001b[39m=\u001b[39m alt\u001b[39m.\u001b[39mselection_single(fields\u001b[39m=\u001b[39m[\u001b[39m'\u001b[39m\u001b[39myear\u001b[39m\u001b[39m'\u001b[39m], bind\u001b[39m=\u001b[39mdate_dropdown, name \u001b[39m=\u001b[39m \u001b[39m'\u001b[39m\u001b[39mYear\u001b[39m\u001b[39m'\u001b[39m)\n\u001b[1;32m      <a href='vscode-notebook-cell:/Users/ashfi/code/python/datapane/dataclean.ipynb#ch0000010?line=3'>4</a>\u001b[0m alt\u001b[39m.\u001b[39;49mChart(df)\u001b[39m.\u001b[39;49mmark_bar()\u001b[39m.\u001b[39;49mencode(\n\u001b[1;32m      <a href='vscode-notebook-cell:/Users/ashfi/code/python/datapane/dataclean.ipynb#ch0000010?line=4'>5</a>\u001b[0m     alt\u001b[39m.\u001b[39;49mX(\u001b[39m'\u001b[39;49m\u001b[39mHappiness Score:Q\u001b[39;49m\u001b[39m'\u001b[39;49m, \u001b[39mbin\u001b[39;49m\u001b[39m=\u001b[39;49m\u001b[39mTrue\u001b[39;49;00m ),\n\u001b[1;32m      <a href='vscode-notebook-cell:/Users/ashfi/code/python/datapane/dataclean.ipynb#ch0000010?line=5'>6</a>\u001b[0m     y\u001b[39m=\u001b[39;49m\u001b[39m'\u001b[39;49m\u001b[39mcount()\u001b[39;49m\u001b[39m'\u001b[39;49m,\n\u001b[1;32m      <a href='vscode-notebook-cell:/Users/ashfi/code/python/datapane/dataclean.ipynb#ch0000010?line=6'>7</a>\u001b[0m )\u001b[39m.\u001b[39;49mproperties(\n\u001b[1;32m      <a href='vscode-notebook-cell:/Users/ashfi/code/python/datapane/dataclean.ipynb#ch0000010?line=7'>8</a>\u001b[0m     title\u001b[39m=\u001b[39;49m\u001b[39m'\u001b[39;49m\u001b[39mHistogram of Happiness Score\u001b[39;49m\u001b[39m'\u001b[39;49m\n\u001b[1;32m      <a href='vscode-notebook-cell:/Users/ashfi/code/python/datapane/dataclean.ipynb#ch0000010?line=8'>9</a>\u001b[0m )\u001b[39m.\u001b[39;49madd_selection(\n\u001b[1;32m     <a href='vscode-notebook-cell:/Users/ashfi/code/python/datapane/dataclean.ipynb#ch0000010?line=9'>10</a>\u001b[0m     selection\n\u001b[1;32m     <a href='vscode-notebook-cell:/Users/ashfi/code/python/datapane/dataclean.ipynb#ch0000010?line=10'>11</a>\u001b[0m )\u001b[39m.\u001b[39;49mtransform_filter(\n\u001b[1;32m     <a href='vscode-notebook-cell:/Users/ashfi/code/python/datapane/dataclean.ipynb#ch0000010?line=11'>12</a>\u001b[0m     selection\n\u001b[0;32m---> <a href='vscode-notebook-cell:/Users/ashfi/code/python/datapane/dataclean.ipynb#ch0000010?line=12'>13</a>\u001b[0m )\u001b[39m.\u001b[39;49minteractive()\u001b[39m.\u001b[39;49mshow()\n\u001b[1;32m     <a href='vscode-notebook-cell:/Users/ashfi/code/python/datapane/dataclean.ipynb#ch0000010?line=14'>15</a>\u001b[0m alt\u001b[39m.\u001b[39mrenderers\u001b[39m.\u001b[39menable(\u001b[39m'\u001b[39m\u001b[39mnotebook\u001b[39m\u001b[39m'\u001b[39m)\n",
      "File \u001b[0;32m~/Library/Caches/pypoetry/virtualenvs/tutorial-1j-2efPE-py3.10/lib/python3.10/site-packages/altair/vegalite/v4/api.py:1795\u001b[0m, in \u001b[0;36mTopLevelMixin.show\u001b[0;34m(self, embed_opt, open_browser)\u001b[0m\n\u001b[1;32m   <a href='file:///Users/ashfi/Library/Caches/pypoetry/virtualenvs/tutorial-1j-2efPE-py3.10/lib/python3.10/site-packages/altair/vegalite/v4/api.py?line=1789'>1790</a>\u001b[0m \u001b[39mexcept\u001b[39;00m \u001b[39mImportError\u001b[39;00m:\n\u001b[1;32m   <a href='file:///Users/ashfi/Library/Caches/pypoetry/virtualenvs/tutorial-1j-2efPE-py3.10/lib/python3.10/site-packages/altair/vegalite/v4/api.py?line=1790'>1791</a>\u001b[0m     \u001b[39mraise\u001b[39;00m \u001b[39mValueError\u001b[39;00m(\n\u001b[1;32m   <a href='file:///Users/ashfi/Library/Caches/pypoetry/virtualenvs/tutorial-1j-2efPE-py3.10/lib/python3.10/site-packages/altair/vegalite/v4/api.py?line=1791'>1792</a>\u001b[0m         \u001b[39m\"\u001b[39m\u001b[39mshow() method requires the altair_viewer package. \u001b[39m\u001b[39m\"\u001b[39m\n\u001b[1;32m   <a href='file:///Users/ashfi/Library/Caches/pypoetry/virtualenvs/tutorial-1j-2efPE-py3.10/lib/python3.10/site-packages/altair/vegalite/v4/api.py?line=1792'>1793</a>\u001b[0m         \u001b[39m\"\u001b[39m\u001b[39mSee http://github.com/altair-viz/altair_viewer\u001b[39m\u001b[39m\"\u001b[39m\n\u001b[1;32m   <a href='file:///Users/ashfi/Library/Caches/pypoetry/virtualenvs/tutorial-1j-2efPE-py3.10/lib/python3.10/site-packages/altair/vegalite/v4/api.py?line=1793'>1794</a>\u001b[0m     )\n\u001b[0;32m-> <a href='file:///Users/ashfi/Library/Caches/pypoetry/virtualenvs/tutorial-1j-2efPE-py3.10/lib/python3.10/site-packages/altair/vegalite/v4/api.py?line=1794'>1795</a>\u001b[0m altair_viewer\u001b[39m.\u001b[39;49mshow(\u001b[39mself\u001b[39;49m, embed_opt\u001b[39m=\u001b[39;49membed_opt, open_browser\u001b[39m=\u001b[39;49mopen_browser)\n",
      "File \u001b[0;32m~/Library/Caches/pypoetry/virtualenvs/tutorial-1j-2efPE-py3.10/lib/python3.10/site-packages/altair_viewer/_viewer.py:358\u001b[0m, in \u001b[0;36mChartViewer.show\u001b[0;34m(self, chart, embed_opt, open_browser)\u001b[0m\n\u001b[1;32m    <a href='file:///Users/ashfi/Library/Caches/pypoetry/virtualenvs/tutorial-1j-2efPE-py3.10/lib/python3.10/site-packages/altair_viewer/_viewer.py?line=355'>356</a>\u001b[0m \u001b[39mprint\u001b[39m(msg)\n\u001b[1;32m    <a href='file:///Users/ashfi/Library/Caches/pypoetry/virtualenvs/tutorial-1j-2efPE-py3.10/lib/python3.10/site-packages/altair_viewer/_viewer.py?line=356'>357</a>\u001b[0m \u001b[39mif\u001b[39;00m \u001b[39mself\u001b[39m\u001b[39m.\u001b[39m_provider \u001b[39mis\u001b[39;00m \u001b[39mnot\u001b[39;00m \u001b[39mNone\u001b[39;00m:\n\u001b[0;32m--> <a href='file:///Users/ashfi/Library/Caches/pypoetry/virtualenvs/tutorial-1j-2efPE-py3.10/lib/python3.10/site-packages/altair_viewer/_viewer.py?line=357'>358</a>\u001b[0m     \u001b[39mself\u001b[39;49m\u001b[39m.\u001b[39;49m_provider\u001b[39m.\u001b[39;49m_disconnect_event\u001b[39m.\u001b[39;49mwait()\n",
      "File \u001b[0;32m/opt/homebrew/Cellar/python@3.10/3.10.4/Frameworks/Python.framework/Versions/3.10/lib/python3.10/threading.py:600\u001b[0m, in \u001b[0;36mEvent.wait\u001b[0;34m(self, timeout)\u001b[0m\n\u001b[1;32m    <a href='file:///opt/homebrew/Cellar/python%403.10/3.10.4/Frameworks/Python.framework/Versions/3.10/lib/python3.10/threading.py?line=597'>598</a>\u001b[0m signaled \u001b[39m=\u001b[39m \u001b[39mself\u001b[39m\u001b[39m.\u001b[39m_flag\n\u001b[1;32m    <a href='file:///opt/homebrew/Cellar/python%403.10/3.10.4/Frameworks/Python.framework/Versions/3.10/lib/python3.10/threading.py?line=598'>599</a>\u001b[0m \u001b[39mif\u001b[39;00m \u001b[39mnot\u001b[39;00m signaled:\n\u001b[0;32m--> <a href='file:///opt/homebrew/Cellar/python%403.10/3.10.4/Frameworks/Python.framework/Versions/3.10/lib/python3.10/threading.py?line=599'>600</a>\u001b[0m     signaled \u001b[39m=\u001b[39m \u001b[39mself\u001b[39;49m\u001b[39m.\u001b[39;49m_cond\u001b[39m.\u001b[39;49mwait(timeout)\n\u001b[1;32m    <a href='file:///opt/homebrew/Cellar/python%403.10/3.10.4/Frameworks/Python.framework/Versions/3.10/lib/python3.10/threading.py?line=600'>601</a>\u001b[0m \u001b[39mreturn\u001b[39;00m signaled\n",
      "File \u001b[0;32m/opt/homebrew/Cellar/python@3.10/3.10.4/Frameworks/Python.framework/Versions/3.10/lib/python3.10/threading.py:320\u001b[0m, in \u001b[0;36mCondition.wait\u001b[0;34m(self, timeout)\u001b[0m\n\u001b[1;32m    <a href='file:///opt/homebrew/Cellar/python%403.10/3.10.4/Frameworks/Python.framework/Versions/3.10/lib/python3.10/threading.py?line=317'>318</a>\u001b[0m \u001b[39mtry\u001b[39;00m:    \u001b[39m# restore state no matter what (e.g., KeyboardInterrupt)\u001b[39;00m\n\u001b[1;32m    <a href='file:///opt/homebrew/Cellar/python%403.10/3.10.4/Frameworks/Python.framework/Versions/3.10/lib/python3.10/threading.py?line=318'>319</a>\u001b[0m     \u001b[39mif\u001b[39;00m timeout \u001b[39mis\u001b[39;00m \u001b[39mNone\u001b[39;00m:\n\u001b[0;32m--> <a href='file:///opt/homebrew/Cellar/python%403.10/3.10.4/Frameworks/Python.framework/Versions/3.10/lib/python3.10/threading.py?line=319'>320</a>\u001b[0m         waiter\u001b[39m.\u001b[39;49macquire()\n\u001b[1;32m    <a href='file:///opt/homebrew/Cellar/python%403.10/3.10.4/Frameworks/Python.framework/Versions/3.10/lib/python3.10/threading.py?line=320'>321</a>\u001b[0m         gotit \u001b[39m=\u001b[39m \u001b[39mTrue\u001b[39;00m\n\u001b[1;32m    <a href='file:///opt/homebrew/Cellar/python%403.10/3.10.4/Frameworks/Python.framework/Versions/3.10/lib/python3.10/threading.py?line=321'>322</a>\u001b[0m     \u001b[39melse\u001b[39;00m:\n",
      "\u001b[0;31mKeyboardInterrupt\u001b[0m: "
     ]
    }
   ],
   "source": [
    "date_list = list(df['year'].unique())\n",
    "date_dropdown = alt.binding_select(options=date_list)\n",
    "selection = alt.selection_single(fields=['year'], bind=date_dropdown, name = 'Year')\n",
    "alt.Chart(df).mark_bar().encode(\n",
    "    alt.X('Happiness Score:Q', bin=True ),\n",
    "    y='count()',\n",
    ").properties(\n",
    "    title='Histogram of Happiness Score'\n",
    ").add_selection(\n",
    "    selection\n",
    ").transform_filter(\n",
    "    selection\n",
    ").interactive().show()\n",
    "\n",
    "alt.renderers.enable('notebook')\n"
   ]
  },
  {
   "cell_type": "code",
   "execution_count": 8,
   "metadata": {},
   "outputs": [
    {
     "name": "stdout",
     "output_type": "stream",
     "text": [
      "Displaying chart at http://localhost:19875/\n"
     ]
    },
    {
     "ename": "KeyboardInterrupt",
     "evalue": "",
     "output_type": "error",
     "traceback": [
      "\u001b[0;31m---------------------------------------------------------------------------\u001b[0m",
      "\u001b[0;31mKeyboardInterrupt\u001b[0m                         Traceback (most recent call last)",
      "\u001b[1;32m/Users/ashfi/code/python/datapane/dataclean.ipynb Cell 10'\u001b[0m in \u001b[0;36m<cell line: 5>\u001b[0;34m()\u001b[0m\n\u001b[1;32m      <a href='vscode-notebook-cell:/Users/ashfi/code/python/datapane/dataclean.ipynb#ch0000009?line=1'>2</a>\u001b[0m date_dropdown \u001b[39m=\u001b[39m alt\u001b[39m.\u001b[39mbinding_select(options\u001b[39m=\u001b[39mdate_list)\n\u001b[1;32m      <a href='vscode-notebook-cell:/Users/ashfi/code/python/datapane/dataclean.ipynb#ch0000009?line=2'>3</a>\u001b[0m selection \u001b[39m=\u001b[39m alt\u001b[39m.\u001b[39mselection_single(fields\u001b[39m=\u001b[39m[\u001b[39m'\u001b[39m\u001b[39myear\u001b[39m\u001b[39m'\u001b[39m], bind\u001b[39m=\u001b[39mdate_dropdown, name \u001b[39m=\u001b[39m \u001b[39m'\u001b[39m\u001b[39mYear\u001b[39m\u001b[39m'\u001b[39m)\n\u001b[1;32m      <a href='vscode-notebook-cell:/Users/ashfi/code/python/datapane/dataclean.ipynb#ch0000009?line=4'>5</a>\u001b[0m alt\u001b[39m.\u001b[39;49mChart(df)\u001b[39m.\u001b[39;49mmark_circle()\u001b[39m.\u001b[39;49mencode(\n\u001b[1;32m      <a href='vscode-notebook-cell:/Users/ashfi/code/python/datapane/dataclean.ipynb#ch0000009?line=5'>6</a>\u001b[0m     alt\u001b[39m.\u001b[39;49mX(alt\u001b[39m.\u001b[39;49mrepeat(\u001b[39m\"\u001b[39;49m\u001b[39mcolumn\u001b[39;49m\u001b[39m\"\u001b[39;49m), \u001b[39mtype\u001b[39;49m\u001b[39m=\u001b[39;49m\u001b[39m'\u001b[39;49m\u001b[39mquantitative\u001b[39;49m\u001b[39m'\u001b[39;49m),\n\u001b[1;32m      <a href='vscode-notebook-cell:/Users/ashfi/code/python/datapane/dataclean.ipynb#ch0000009?line=6'>7</a>\u001b[0m     alt\u001b[39m.\u001b[39;49mY(alt\u001b[39m.\u001b[39;49mrepeat(\u001b[39m\"\u001b[39;49m\u001b[39mrow\u001b[39;49m\u001b[39m\"\u001b[39;49m), \u001b[39mtype\u001b[39;49m\u001b[39m=\u001b[39;49m\u001b[39m'\u001b[39;49m\u001b[39mquantitative\u001b[39;49m\u001b[39m'\u001b[39;49m),\n\u001b[1;32m      <a href='vscode-notebook-cell:/Users/ashfi/code/python/datapane/dataclean.ipynb#ch0000009?line=7'>8</a>\u001b[0m     color\u001b[39m=\u001b[39;49m\u001b[39m'\u001b[39;49m\u001b[39mRegion:N\u001b[39;49m\u001b[39m'\u001b[39;49m\n\u001b[1;32m      <a href='vscode-notebook-cell:/Users/ashfi/code/python/datapane/dataclean.ipynb#ch0000009?line=8'>9</a>\u001b[0m )\u001b[39m.\u001b[39;49mproperties(\n\u001b[1;32m     <a href='vscode-notebook-cell:/Users/ashfi/code/python/datapane/dataclean.ipynb#ch0000009?line=9'>10</a>\u001b[0m     width\u001b[39m=\u001b[39;49m\u001b[39m150\u001b[39;49m,\n\u001b[1;32m     <a href='vscode-notebook-cell:/Users/ashfi/code/python/datapane/dataclean.ipynb#ch0000009?line=10'>11</a>\u001b[0m     height\u001b[39m=\u001b[39;49m\u001b[39m150\u001b[39;49m\n\u001b[1;32m     <a href='vscode-notebook-cell:/Users/ashfi/code/python/datapane/dataclean.ipynb#ch0000009?line=11'>12</a>\u001b[0m )\u001b[39m.\u001b[39;49mrepeat(\n\u001b[1;32m     <a href='vscode-notebook-cell:/Users/ashfi/code/python/datapane/dataclean.ipynb#ch0000009?line=12'>13</a>\u001b[0m     row\u001b[39m=\u001b[39;49m[\u001b[39m'\u001b[39;49m\u001b[39mEconomy\u001b[39;49m\u001b[39m'\u001b[39;49m, \u001b[39m'\u001b[39;49m\u001b[39mHealth\u001b[39;49m\u001b[39m'\u001b[39;49m, \u001b[39m'\u001b[39;49m\u001b[39mFreedom\u001b[39;49m\u001b[39m'\u001b[39;49m, \u001b[39m'\u001b[39;49m\u001b[39mTrust\u001b[39;49m\u001b[39m'\u001b[39;49m, \u001b[39m'\u001b[39;49m\u001b[39mGenerosity\u001b[39;49m\u001b[39m'\u001b[39;49m],\n\u001b[1;32m     <a href='vscode-notebook-cell:/Users/ashfi/code/python/datapane/dataclean.ipynb#ch0000009?line=13'>14</a>\u001b[0m     column\u001b[39m=\u001b[39;49m[\u001b[39m'\u001b[39;49m\u001b[39mGenerosity\u001b[39;49m\u001b[39m'\u001b[39;49m, \u001b[39m'\u001b[39;49m\u001b[39mTrust\u001b[39;49m\u001b[39m'\u001b[39;49m, \u001b[39m'\u001b[39;49m\u001b[39mFreedom\u001b[39;49m\u001b[39m'\u001b[39;49m, \u001b[39m'\u001b[39;49m\u001b[39mHealth\u001b[39;49m\u001b[39m'\u001b[39;49m, \u001b[39m'\u001b[39;49m\u001b[39mEconomy\u001b[39;49m\u001b[39m'\u001b[39;49m]\n\u001b[1;32m     <a href='vscode-notebook-cell:/Users/ashfi/code/python/datapane/dataclean.ipynb#ch0000009?line=14'>15</a>\u001b[0m )\u001b[39m.\u001b[39;49madd_selection(\n\u001b[1;32m     <a href='vscode-notebook-cell:/Users/ashfi/code/python/datapane/dataclean.ipynb#ch0000009?line=15'>16</a>\u001b[0m     selection\n\u001b[1;32m     <a href='vscode-notebook-cell:/Users/ashfi/code/python/datapane/dataclean.ipynb#ch0000009?line=16'>17</a>\u001b[0m )\u001b[39m.\u001b[39;49mtransform_filter(\n\u001b[1;32m     <a href='vscode-notebook-cell:/Users/ashfi/code/python/datapane/dataclean.ipynb#ch0000009?line=17'>18</a>\u001b[0m     selection\n\u001b[0;32m---> <a href='vscode-notebook-cell:/Users/ashfi/code/python/datapane/dataclean.ipynb#ch0000009?line=18'>19</a>\u001b[0m )\u001b[39m.\u001b[39;49minteractive()\u001b[39m.\u001b[39;49mshow()\n\u001b[1;32m     <a href='vscode-notebook-cell:/Users/ashfi/code/python/datapane/dataclean.ipynb#ch0000009?line=20'>21</a>\u001b[0m alt\u001b[39m.\u001b[39mrenderers\u001b[39m.\u001b[39menable(\u001b[39m'\u001b[39m\u001b[39mnotebook\u001b[39m\u001b[39m'\u001b[39m)\n",
      "File \u001b[0;32m~/Library/Caches/pypoetry/virtualenvs/tutorial-1j-2efPE-py3.10/lib/python3.10/site-packages/altair/vegalite/v4/api.py:1795\u001b[0m, in \u001b[0;36mTopLevelMixin.show\u001b[0;34m(self, embed_opt, open_browser)\u001b[0m\n\u001b[1;32m   <a href='file:///Users/ashfi/Library/Caches/pypoetry/virtualenvs/tutorial-1j-2efPE-py3.10/lib/python3.10/site-packages/altair/vegalite/v4/api.py?line=1789'>1790</a>\u001b[0m \u001b[39mexcept\u001b[39;00m \u001b[39mImportError\u001b[39;00m:\n\u001b[1;32m   <a href='file:///Users/ashfi/Library/Caches/pypoetry/virtualenvs/tutorial-1j-2efPE-py3.10/lib/python3.10/site-packages/altair/vegalite/v4/api.py?line=1790'>1791</a>\u001b[0m     \u001b[39mraise\u001b[39;00m \u001b[39mValueError\u001b[39;00m(\n\u001b[1;32m   <a href='file:///Users/ashfi/Library/Caches/pypoetry/virtualenvs/tutorial-1j-2efPE-py3.10/lib/python3.10/site-packages/altair/vegalite/v4/api.py?line=1791'>1792</a>\u001b[0m         \u001b[39m\"\u001b[39m\u001b[39mshow() method requires the altair_viewer package. \u001b[39m\u001b[39m\"\u001b[39m\n\u001b[1;32m   <a href='file:///Users/ashfi/Library/Caches/pypoetry/virtualenvs/tutorial-1j-2efPE-py3.10/lib/python3.10/site-packages/altair/vegalite/v4/api.py?line=1792'>1793</a>\u001b[0m         \u001b[39m\"\u001b[39m\u001b[39mSee http://github.com/altair-viz/altair_viewer\u001b[39m\u001b[39m\"\u001b[39m\n\u001b[1;32m   <a href='file:///Users/ashfi/Library/Caches/pypoetry/virtualenvs/tutorial-1j-2efPE-py3.10/lib/python3.10/site-packages/altair/vegalite/v4/api.py?line=1793'>1794</a>\u001b[0m     )\n\u001b[0;32m-> <a href='file:///Users/ashfi/Library/Caches/pypoetry/virtualenvs/tutorial-1j-2efPE-py3.10/lib/python3.10/site-packages/altair/vegalite/v4/api.py?line=1794'>1795</a>\u001b[0m altair_viewer\u001b[39m.\u001b[39;49mshow(\u001b[39mself\u001b[39;49m, embed_opt\u001b[39m=\u001b[39;49membed_opt, open_browser\u001b[39m=\u001b[39;49mopen_browser)\n",
      "File \u001b[0;32m~/Library/Caches/pypoetry/virtualenvs/tutorial-1j-2efPE-py3.10/lib/python3.10/site-packages/altair_viewer/_viewer.py:358\u001b[0m, in \u001b[0;36mChartViewer.show\u001b[0;34m(self, chart, embed_opt, open_browser)\u001b[0m\n\u001b[1;32m    <a href='file:///Users/ashfi/Library/Caches/pypoetry/virtualenvs/tutorial-1j-2efPE-py3.10/lib/python3.10/site-packages/altair_viewer/_viewer.py?line=355'>356</a>\u001b[0m \u001b[39mprint\u001b[39m(msg)\n\u001b[1;32m    <a href='file:///Users/ashfi/Library/Caches/pypoetry/virtualenvs/tutorial-1j-2efPE-py3.10/lib/python3.10/site-packages/altair_viewer/_viewer.py?line=356'>357</a>\u001b[0m \u001b[39mif\u001b[39;00m \u001b[39mself\u001b[39m\u001b[39m.\u001b[39m_provider \u001b[39mis\u001b[39;00m \u001b[39mnot\u001b[39;00m \u001b[39mNone\u001b[39;00m:\n\u001b[0;32m--> <a href='file:///Users/ashfi/Library/Caches/pypoetry/virtualenvs/tutorial-1j-2efPE-py3.10/lib/python3.10/site-packages/altair_viewer/_viewer.py?line=357'>358</a>\u001b[0m     \u001b[39mself\u001b[39;49m\u001b[39m.\u001b[39;49m_provider\u001b[39m.\u001b[39;49m_disconnect_event\u001b[39m.\u001b[39;49mwait()\n",
      "File \u001b[0;32m/opt/homebrew/Cellar/python@3.10/3.10.4/Frameworks/Python.framework/Versions/3.10/lib/python3.10/threading.py:600\u001b[0m, in \u001b[0;36mEvent.wait\u001b[0;34m(self, timeout)\u001b[0m\n\u001b[1;32m    <a href='file:///opt/homebrew/Cellar/python%403.10/3.10.4/Frameworks/Python.framework/Versions/3.10/lib/python3.10/threading.py?line=597'>598</a>\u001b[0m signaled \u001b[39m=\u001b[39m \u001b[39mself\u001b[39m\u001b[39m.\u001b[39m_flag\n\u001b[1;32m    <a href='file:///opt/homebrew/Cellar/python%403.10/3.10.4/Frameworks/Python.framework/Versions/3.10/lib/python3.10/threading.py?line=598'>599</a>\u001b[0m \u001b[39mif\u001b[39;00m \u001b[39mnot\u001b[39;00m signaled:\n\u001b[0;32m--> <a href='file:///opt/homebrew/Cellar/python%403.10/3.10.4/Frameworks/Python.framework/Versions/3.10/lib/python3.10/threading.py?line=599'>600</a>\u001b[0m     signaled \u001b[39m=\u001b[39m \u001b[39mself\u001b[39;49m\u001b[39m.\u001b[39;49m_cond\u001b[39m.\u001b[39;49mwait(timeout)\n\u001b[1;32m    <a href='file:///opt/homebrew/Cellar/python%403.10/3.10.4/Frameworks/Python.framework/Versions/3.10/lib/python3.10/threading.py?line=600'>601</a>\u001b[0m \u001b[39mreturn\u001b[39;00m signaled\n",
      "File \u001b[0;32m/opt/homebrew/Cellar/python@3.10/3.10.4/Frameworks/Python.framework/Versions/3.10/lib/python3.10/threading.py:320\u001b[0m, in \u001b[0;36mCondition.wait\u001b[0;34m(self, timeout)\u001b[0m\n\u001b[1;32m    <a href='file:///opt/homebrew/Cellar/python%403.10/3.10.4/Frameworks/Python.framework/Versions/3.10/lib/python3.10/threading.py?line=317'>318</a>\u001b[0m \u001b[39mtry\u001b[39;00m:    \u001b[39m# restore state no matter what (e.g., KeyboardInterrupt)\u001b[39;00m\n\u001b[1;32m    <a href='file:///opt/homebrew/Cellar/python%403.10/3.10.4/Frameworks/Python.framework/Versions/3.10/lib/python3.10/threading.py?line=318'>319</a>\u001b[0m     \u001b[39mif\u001b[39;00m timeout \u001b[39mis\u001b[39;00m \u001b[39mNone\u001b[39;00m:\n\u001b[0;32m--> <a href='file:///opt/homebrew/Cellar/python%403.10/3.10.4/Frameworks/Python.framework/Versions/3.10/lib/python3.10/threading.py?line=319'>320</a>\u001b[0m         waiter\u001b[39m.\u001b[39;49macquire()\n\u001b[1;32m    <a href='file:///opt/homebrew/Cellar/python%403.10/3.10.4/Frameworks/Python.framework/Versions/3.10/lib/python3.10/threading.py?line=320'>321</a>\u001b[0m         gotit \u001b[39m=\u001b[39m \u001b[39mTrue\u001b[39;00m\n\u001b[1;32m    <a href='file:///opt/homebrew/Cellar/python%403.10/3.10.4/Frameworks/Python.framework/Versions/3.10/lib/python3.10/threading.py?line=321'>322</a>\u001b[0m     \u001b[39melse\u001b[39;00m:\n",
      "\u001b[0;31mKeyboardInterrupt\u001b[0m: "
     ]
    }
   ],
   "source": [
    "# repeated matrix scatterplot\n",
    "date_list = list(df['year'].unique())\n",
    "date_dropdown = alt.binding_select(options=date_list)\n",
    "selection = alt.selection_single(fields=['year'], bind=date_dropdown, name = 'Year')\n",
    "\n",
    "alt.Chart(df).mark_circle().encode(\n",
    "    alt.X(alt.repeat(\"column\"), type='quantitative'),\n",
    "    alt.Y(alt.repeat(\"row\"), type='quantitative'),\n",
    "    color='Region:N'\n",
    ").properties(\n",
    "    width=150,\n",
    "    height=150\n",
    ").repeat(\n",
    "    row=['Economy', 'Health', 'Freedom', 'Trust', 'Generosity'],\n",
    "    column=['Generosity', 'Trust', 'Freedom', 'Health', 'Economy']\n",
    ").add_selection(\n",
    "    selection\n",
    ").transform_filter(\n",
    "    selection\n",
    ").interactive().show()\n",
    "\n",
    "alt.renderers.enable('notebook')\n"
   ]
  },
  {
   "cell_type": "code",
   "execution_count": 26,
   "metadata": {},
   "outputs": [
    {
     "name": "stdout",
     "output_type": "stream",
     "text": [
      "Displaying chart at http://localhost:19875/\n",
      "Displaying chart at http://localhost:19875/\n"
     ]
    }
   ],
   "source": [
    "# EDA\n",
    "import altair_ally as aly\n",
    "\n",
    "# distribution density \n",
    "aly.dist(df).show()\n"
   ]
  },
  {
   "cell_type": "code",
   "execution_count": 30,
   "metadata": {},
   "outputs": [
    {
     "name": "stdout",
     "output_type": "stream",
     "text": [
      "Displaying chart at http://localhost:19875/\n"
     ]
    }
   ],
   "source": [
    "aly.corr(df).show()\n",
    "# Correlation plot  "
   ]
  },
  {
   "cell_type": "code",
   "execution_count": 29,
   "metadata": {},
   "outputs": [
    {
     "name": "stdout",
     "output_type": "stream",
     "text": [
      "Displaying chart at http://localhost:19875/\n"
     ]
    },
    {
     "ename": "KeyboardInterrupt",
     "evalue": "",
     "output_type": "error",
     "traceback": [
      "\u001b[0;31m---------------------------------------------------------------------------\u001b[0m",
      "\u001b[0;31mKeyboardInterrupt\u001b[0m                         Traceback (most recent call last)",
      "\u001b[1;32m/Users/ashfi/code/python/datapane/dataclean.ipynb Cell 14'\u001b[0m in \u001b[0;36m<cell line: 2>\u001b[0;34m()\u001b[0m\n\u001b[1;32m      <a href='vscode-notebook-cell:/Users/ashfi/code/python/datapane/dataclean.ipynb#ch0000013?line=0'>1</a>\u001b[0m \u001b[39m# parallel coordinates \u001b[39;00m\n\u001b[0;32m----> <a href='vscode-notebook-cell:/Users/ashfi/code/python/datapane/dataclean.ipynb#ch0000013?line=1'>2</a>\u001b[0m aly\u001b[39m.\u001b[39;49mparcoord(df, \u001b[39m'\u001b[39;49m\u001b[39mRegion\u001b[39;49m\u001b[39m'\u001b[39;49m)\u001b[39m.\u001b[39;49mshow()\n",
      "File \u001b[0;32m~/Library/Caches/pypoetry/virtualenvs/tutorial-1j-2efPE-py3.10/lib/python3.10/site-packages/altair/vegalite/v4/api.py:1795\u001b[0m, in \u001b[0;36mTopLevelMixin.show\u001b[0;34m(self, embed_opt, open_browser)\u001b[0m\n\u001b[1;32m   <a href='file:///Users/ashfi/Library/Caches/pypoetry/virtualenvs/tutorial-1j-2efPE-py3.10/lib/python3.10/site-packages/altair/vegalite/v4/api.py?line=1789'>1790</a>\u001b[0m \u001b[39mexcept\u001b[39;00m \u001b[39mImportError\u001b[39;00m:\n\u001b[1;32m   <a href='file:///Users/ashfi/Library/Caches/pypoetry/virtualenvs/tutorial-1j-2efPE-py3.10/lib/python3.10/site-packages/altair/vegalite/v4/api.py?line=1790'>1791</a>\u001b[0m     \u001b[39mraise\u001b[39;00m \u001b[39mValueError\u001b[39;00m(\n\u001b[1;32m   <a href='file:///Users/ashfi/Library/Caches/pypoetry/virtualenvs/tutorial-1j-2efPE-py3.10/lib/python3.10/site-packages/altair/vegalite/v4/api.py?line=1791'>1792</a>\u001b[0m         \u001b[39m\"\u001b[39m\u001b[39mshow() method requires the altair_viewer package. \u001b[39m\u001b[39m\"\u001b[39m\n\u001b[1;32m   <a href='file:///Users/ashfi/Library/Caches/pypoetry/virtualenvs/tutorial-1j-2efPE-py3.10/lib/python3.10/site-packages/altair/vegalite/v4/api.py?line=1792'>1793</a>\u001b[0m         \u001b[39m\"\u001b[39m\u001b[39mSee http://github.com/altair-viz/altair_viewer\u001b[39m\u001b[39m\"\u001b[39m\n\u001b[1;32m   <a href='file:///Users/ashfi/Library/Caches/pypoetry/virtualenvs/tutorial-1j-2efPE-py3.10/lib/python3.10/site-packages/altair/vegalite/v4/api.py?line=1793'>1794</a>\u001b[0m     )\n\u001b[0;32m-> <a href='file:///Users/ashfi/Library/Caches/pypoetry/virtualenvs/tutorial-1j-2efPE-py3.10/lib/python3.10/site-packages/altair/vegalite/v4/api.py?line=1794'>1795</a>\u001b[0m altair_viewer\u001b[39m.\u001b[39;49mshow(\u001b[39mself\u001b[39;49m, embed_opt\u001b[39m=\u001b[39;49membed_opt, open_browser\u001b[39m=\u001b[39;49mopen_browser)\n",
      "File \u001b[0;32m~/Library/Caches/pypoetry/virtualenvs/tutorial-1j-2efPE-py3.10/lib/python3.10/site-packages/altair_viewer/_viewer.py:358\u001b[0m, in \u001b[0;36mChartViewer.show\u001b[0;34m(self, chart, embed_opt, open_browser)\u001b[0m\n\u001b[1;32m    <a href='file:///Users/ashfi/Library/Caches/pypoetry/virtualenvs/tutorial-1j-2efPE-py3.10/lib/python3.10/site-packages/altair_viewer/_viewer.py?line=355'>356</a>\u001b[0m \u001b[39mprint\u001b[39m(msg)\n\u001b[1;32m    <a href='file:///Users/ashfi/Library/Caches/pypoetry/virtualenvs/tutorial-1j-2efPE-py3.10/lib/python3.10/site-packages/altair_viewer/_viewer.py?line=356'>357</a>\u001b[0m \u001b[39mif\u001b[39;00m \u001b[39mself\u001b[39m\u001b[39m.\u001b[39m_provider \u001b[39mis\u001b[39;00m \u001b[39mnot\u001b[39;00m \u001b[39mNone\u001b[39;00m:\n\u001b[0;32m--> <a href='file:///Users/ashfi/Library/Caches/pypoetry/virtualenvs/tutorial-1j-2efPE-py3.10/lib/python3.10/site-packages/altair_viewer/_viewer.py?line=357'>358</a>\u001b[0m     \u001b[39mself\u001b[39;49m\u001b[39m.\u001b[39;49m_provider\u001b[39m.\u001b[39;49m_disconnect_event\u001b[39m.\u001b[39;49mwait()\n",
      "File \u001b[0;32m/opt/homebrew/Cellar/python@3.10/3.10.4/Frameworks/Python.framework/Versions/3.10/lib/python3.10/threading.py:600\u001b[0m, in \u001b[0;36mEvent.wait\u001b[0;34m(self, timeout)\u001b[0m\n\u001b[1;32m    <a href='file:///opt/homebrew/Cellar/python%403.10/3.10.4/Frameworks/Python.framework/Versions/3.10/lib/python3.10/threading.py?line=597'>598</a>\u001b[0m signaled \u001b[39m=\u001b[39m \u001b[39mself\u001b[39m\u001b[39m.\u001b[39m_flag\n\u001b[1;32m    <a href='file:///opt/homebrew/Cellar/python%403.10/3.10.4/Frameworks/Python.framework/Versions/3.10/lib/python3.10/threading.py?line=598'>599</a>\u001b[0m \u001b[39mif\u001b[39;00m \u001b[39mnot\u001b[39;00m signaled:\n\u001b[0;32m--> <a href='file:///opt/homebrew/Cellar/python%403.10/3.10.4/Frameworks/Python.framework/Versions/3.10/lib/python3.10/threading.py?line=599'>600</a>\u001b[0m     signaled \u001b[39m=\u001b[39m \u001b[39mself\u001b[39;49m\u001b[39m.\u001b[39;49m_cond\u001b[39m.\u001b[39;49mwait(timeout)\n\u001b[1;32m    <a href='file:///opt/homebrew/Cellar/python%403.10/3.10.4/Frameworks/Python.framework/Versions/3.10/lib/python3.10/threading.py?line=600'>601</a>\u001b[0m \u001b[39mreturn\u001b[39;00m signaled\n",
      "File \u001b[0;32m/opt/homebrew/Cellar/python@3.10/3.10.4/Frameworks/Python.framework/Versions/3.10/lib/python3.10/threading.py:320\u001b[0m, in \u001b[0;36mCondition.wait\u001b[0;34m(self, timeout)\u001b[0m\n\u001b[1;32m    <a href='file:///opt/homebrew/Cellar/python%403.10/3.10.4/Frameworks/Python.framework/Versions/3.10/lib/python3.10/threading.py?line=317'>318</a>\u001b[0m \u001b[39mtry\u001b[39;00m:    \u001b[39m# restore state no matter what (e.g., KeyboardInterrupt)\u001b[39;00m\n\u001b[1;32m    <a href='file:///opt/homebrew/Cellar/python%403.10/3.10.4/Frameworks/Python.framework/Versions/3.10/lib/python3.10/threading.py?line=318'>319</a>\u001b[0m     \u001b[39mif\u001b[39;00m timeout \u001b[39mis\u001b[39;00m \u001b[39mNone\u001b[39;00m:\n\u001b[0;32m--> <a href='file:///opt/homebrew/Cellar/python%403.10/3.10.4/Frameworks/Python.framework/Versions/3.10/lib/python3.10/threading.py?line=319'>320</a>\u001b[0m         waiter\u001b[39m.\u001b[39;49macquire()\n\u001b[1;32m    <a href='file:///opt/homebrew/Cellar/python%403.10/3.10.4/Frameworks/Python.framework/Versions/3.10/lib/python3.10/threading.py?line=320'>321</a>\u001b[0m         gotit \u001b[39m=\u001b[39m \u001b[39mTrue\u001b[39;00m\n\u001b[1;32m    <a href='file:///opt/homebrew/Cellar/python%403.10/3.10.4/Frameworks/Python.framework/Versions/3.10/lib/python3.10/threading.py?line=321'>322</a>\u001b[0m     \u001b[39melse\u001b[39;00m:\n",
      "\u001b[0;31mKeyboardInterrupt\u001b[0m: "
     ]
    }
   ],
   "source": [
    "# parallel coordinates \n",
    "aly.parcoord(df, 'Region').show()"
   ]
  }
 ],
 "metadata": {
  "interpreter": {
   "hash": "172f1cd80e52b4b4982097e6e3505668cb59312d5a34f1349d0b81aa76d54ab6"
  },
  "kernelspec": {
   "display_name": "Python 3.10.2 ('tutorial-1j-2efPE-py3.10')",
   "language": "python",
   "name": "python3"
  },
  "language_info": {
   "codemirror_mode": {
    "name": "ipython",
    "version": 3
   },
   "file_extension": ".py",
   "mimetype": "text/x-python",
   "name": "python",
   "nbconvert_exporter": "python",
   "pygments_lexer": "ipython3",
   "version": "3.10.4"
  },
  "orig_nbformat": 4
 },
 "nbformat": 4,
 "nbformat_minor": 2
}
