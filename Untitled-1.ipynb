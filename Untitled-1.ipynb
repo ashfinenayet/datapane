{
 "cells": [
  {
   "cell_type": "code",
   "execution_count": 12,
   "metadata": {},
   "outputs": [
    {
     "name": "stderr",
     "output_type": "stream",
     "text": [
      "/var/folders/2_/dkxg0fq56mv06fxh6723qjn00000gn/T/ipykernel_22451/2478205903.py:10: FutureWarning: In a future version of pandas all arguments of DataFrame.drop except for the argument 'labels' will be keyword-only.\n",
      "  countrydf = countrydf.drop('GDP (BILLIONS)', 1)\n"
     ]
    }
   ],
   "source": [
    "import pandas as pd\n",
    "import altair as alt\n",
    "import os as os\n",
    "import numpy as np\n",
    "\n",
    "countrydf = pd.read_csv('2014_world_gdp_with_codes.csv')\n",
    "\n",
    "countrydf = countrydf.replace(['West Bank', 'Congo, Democratic Republic of the', 'Congo, Republic of the', 'Hong Kong', 'Macedonia', 'Swaziland', 'Czech Republic'], [\n",
    "                              'Palestinian Territories', 'Congo (Kinshasa)', 'Congo (Brazzaville)', 'Hong Kong S.A.R. of China', 'Northern Macedonia', 'Kingdom of Eswatini', 'Czechia'])\n",
    "countrydf = countrydf.drop('GDP (BILLIONS)', 1)"
   ]
  }
 ],
 "metadata": {
  "interpreter": {
   "hash": "172f1cd80e52b4b4982097e6e3505668cb59312d5a34f1349d0b81aa76d54ab6"
  },
  "kernelspec": {
   "display_name": "Python 3.10.4 ('tutorial-1j-2efPE-py3.10')",
   "language": "python",
   "name": "python3"
  },
  "language_info": {
   "codemirror_mode": {
    "name": "ipython",
    "version": 3
   },
   "file_extension": ".py",
   "mimetype": "text/x-python",
   "name": "python",
   "nbconvert_exporter": "python",
   "pygments_lexer": "ipython3",
   "version": "3.10.4"
  },
  "orig_nbformat": 4
 },
 "nbformat": 4,
 "nbformat_minor": 2
}
